{
  "cells": [
    {
      "cell_type": "code",
      "execution_count": null,
      "metadata": {
        "collapsed": false
      },
      "outputs": [],
      "source": [
        "%matplotlib inline"
      ]
    },
    {
      "cell_type": "markdown",
      "metadata": {},
      "source": [
        "\n# Figure 2\n"
      ]
    },
    {
      "cell_type": "code",
      "execution_count": null,
      "metadata": {
        "collapsed": false
      },
      "outputs": [],
      "source": [
        "import os\nimport sys\nimport numpy as np\nfrom PIL import Image\nimport matplotlib.pyplot as plt\nfrom matplotlib.patches import Rectangle\nfrom matplotlib.colors import BoundaryNorm\nimport matplotlib.transforms as mtransforms\nfrom mpl_toolkits.axes_grid1.anchored_artists import AnchoredSizeBar\nsys.path.append('../')\nimport python_codes.theme as theme\nfrom python_codes.plot_functions import plot_wind_rose, north_arrow\n\n# Loading figure theme\ntheme.load_style()\n\n# paths\npath_imgs = '../static/images/'\npath_savefig = '../Paper/Figures'\npath_outputdata = '../static/data/processed_data'\n\n# Loading wind data\nData = np.load(os.path.join(path_outputdata, 'Data_final.npy'), allow_pickle=True).item()\nStations = sorted(Data.keys())\n\n# fig properties\nbins = [0.03, 0.15, 0.2, 0.25, 0.3, 0.35, 0.4]\nlabels = ['Etosha West', 'Huab', 'North Sand Sea', 'South Sand Sea']\ncoords_stations = np.array([(-19.034111,  15.737194), (-20.874722,  13.642), (-24.125533,  15.049100), (-26.044083,  15.396972)])\nscales = [1300, 1100, 1650, 2600]\nbbox = dict(facecolor=(1, 1, 1, 0.5), edgecolor=(1, 1, 1, 0))\nbbox2 = dict(facecolor=(1, 1, 1, 0.5), edgecolor=(1, 1, 1, 0), pad=0.25)\nnumbering = [r'\\textbf{a}', r'\\textbf{b}', r'\\textbf{c}', r'\\textbf{d}', r'\\textbf{e}']\ncoords_insitu_pix = [(1141, 544), (881, 554), (755, 430), (772, 550)]\nprops = dict(boxstyle='round', facecolor=(0, 0, 0, 0.3), edgecolor=(0, 0, 0, 0))\n\n# #### Figure\npad = plt.rcParams['figure.constrained_layout.w_pad']\nspace = plt.rcParams['figure.constrained_layout.wspace']\nfig, axarr = plt.subplots(4, 3, figsize=(theme.fig_width, 0.67*theme.fig_height_max),\n                          gridspec_kw={'width_ratios': [2, 1, 1], 'left': 1.1*pad, 'top': 1-pad - 0.1,\n                          'right': 1-pad, 'bottom': pad, 'hspace': space, 'wspace': space})\n\nfor i, ([ax3, ax1, ax2], station) in enumerate(zip(axarr,\n                                                   ['Adamax_Station', 'Huab_Station',\n                                                    'Deep_Sea_Station', 'South_Namib_Station'])):\n    img = np.array(Image.open(os.path.join(path_imgs, station[:-8] + '.png')))\n    ax3.imshow(img[:-104, :], zorder=-10)\n    ax3.set_xticks([])\n    ax3.set_yticks([])\n    # labels\n    ax3.text(0.015, 0.08, r'\\textbf{' + labels[i] + '}', transform=ax3.transAxes,\n             ha='left', va='center', bbox=bbox, zorder=-5)\n    # scale bars\n    backgrnd = Rectangle((0.75, 0), width=0.25, height=0.2, transform=ax3.transAxes,\n                         facecolor='w', alpha=0.6, ec=None)\n    ax3.add_patch(backgrnd)\n    txt = r'$' + str(scales[i]) + r'~\\textup{m}$'\n    scalebar = AnchoredSizeBar(ax3.transData, 384, txt, 'lower right', color='k',\n                               frameon=False, size_vertical=10, label_top=True, sep=1, pad=0.15)\n    ax3.add_artist(scalebar)\n\n    # wind roses\n    plot_wind_rose(Data[station]['Orientation_era'], Data[station]['U_star_era'], bins,\n                   ax1, fig, cmap=theme.cmap_wind, boxprops=props)\n    #\n    plot_wind_rose(Data[station]['Orientation_insitu'], Data[station]['U_star_insitu'], bins,\n                   ax2, fig, cmap=theme.cmap_wind, boxprops=props)\n    #\n    # stations\n    ax3.scatter(coords_insitu_pix[i][0], coords_insitu_pix[i][1], s=25,\n                color=theme.color_station_position)\n    # north arrow\n    rect = plt.Rectangle((0.90, 0.6), width=0.1, height=0.4, color='w', alpha=0.4,\n                         transform=ax3.transAxes)\n    ax3.add_patch(rect)\n    center = np.array([0.95, 0.7])\n    length = 0.15\n    north_arrow(ax3, center, length, transform=ax3.transAxes,\n                color='k', lw=0.05)\n\n\npos1 = axarr[0, 1].get_position()\nfig.text((pos1.xmin + pos1.xmax)/2, pos1.ymax + space, 'ERA5-Land', ha='center',\n         va='center')\npos2 = axarr[0, 2].get_position()\nt = fig.text((pos2.xmin + pos2.xmax)/2, pos2.ymax + space, 'Local \\n measurements',\n             ha='center', va='center')\n\n# #### colorbar\npos3 = axarr[0, 0].get_position()\nleft, bottom, width, height = [pos3.xmin, pos3.ymax + 2.5*pad, pos3.width, 0.025]\nax_colorbar = fig.add_axes([left, bottom, width, height])\n\nbounds = bins + [bins[-1] + bins[-1] - bins[-2]]\nbounds[0] = 0\nnorm = BoundaryNorm(boundaries=bounds, ncolors=256)\nsm = plt.cm.ScalarMappable(cmap='viridis', norm=norm)\ncb = fig.colorbar(sm, cax=ax_colorbar, orientation='horizontal', ticks=bounds[::2])\ncb.set_label(r'Wind shear velocity, $u_{*}~[\\textrm{m}~\\textrm{s}^{-1}]$', labelpad=-35)\nlabels = [item.get_text() for item in cb.ax.get_xticklabels()]\n\n\ntrans = mtransforms.ScaledTranslation(4/72, -4/72, fig.dpi_scale_trans)\nfor label, ax in zip(numbering, axarr[:, 0].flatten()):\n    ax.text(0.0, 1.0, label, transform=ax.transAxes + trans, va='top',\n            bbox=dict(alpha=0.5, facecolor='w', edgecolor='none', pad=3.0))\n\nax_north = axarr[2, 0].inset_axes([1.5, 0.8, 0.1, 0.45])\nax_north.set_axis_off()\ncenter = np.array([0.5, 0.3])\nlength = 0.4\nnorth_arrow(ax_north, center, length, radius=(4/7)*length, width=1.5*length,\n            transform=ax_north.transAxes, color='k', lw=0.05)\n\nplt.savefig(os.path.join(path_savefig, 'Figure2.pdf'), dpi=400)\nplt.show()"
      ]
    }
  ],
  "metadata": {
    "kernelspec": {
      "display_name": "Python 3",
      "language": "python",
      "name": "python3"
    },
    "language_info": {
      "codemirror_mode": {
        "name": "ipython",
        "version": 3
      },
      "file_extension": ".py",
      "mimetype": "text/x-python",
      "name": "python",
      "nbconvert_exporter": "python",
      "pygments_lexer": "ipython3",
      "version": "3.8.10"
    }
  },
  "nbformat": 4,
  "nbformat_minor": 0
}