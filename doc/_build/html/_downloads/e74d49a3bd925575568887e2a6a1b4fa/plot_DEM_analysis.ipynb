{
  "cells": [
    {
      "cell_type": "code",
      "execution_count": null,
      "metadata": {
        "collapsed": false
      },
      "outputs": [],
      "source": [
        "%matplotlib inline"
      ]
    },
    {
      "cell_type": "markdown",
      "metadata": {},
      "source": [
        "\n# DEM analysis\n\nAnalyzing DEMs to extract average orientation, wavelength and amplitude of the dune pattern.\n"
      ]
    },
    {
      "cell_type": "code",
      "execution_count": null,
      "metadata": {
        "collapsed": false
      },
      "outputs": [],
      "source": [
        "import numpy as np\nfrom geopy import distance\nimport sys\nsys.path.append('../')\nfrom python_codes.general import cosd, sind\nfrom python_codes.DEM_analysis import polyfit2d, periodicity_2d\n\n\ndef DEM_analysis(file):\n    data = np.load(file, allow_pickle=True).item()\n    # Removing large scale topo\n    kx, ky = 2, 2\n    LON, LAT = np.meshgrid(data['lon'], data['lat'])\n    soln, residuals, rank, s = polyfit2d(LON, LAT, data['DEM'], kx=kx, ky=ky, order_max=2)\n    fitted_surf = np.polynomial.polynomial.polyval2d(LON, LAT, soln.reshape((kx + 1, ky + 1)).T)\n    # Calculating average conversion deg -> km\n    x_km = np.array([distance.distance((data['lat'][0], i), (data['lat'][0], data['lon'][0]), ellipsoid='WGS-84').km for i in data['lon']])\n    y_km = np.array([distance.distance((i, data['lon'][0]), (data['lat'][0], data['lon'][0]), ellipsoid='WGS-84').km for i in data['lat']])\n    km_step = np.mean([np.diff(x_km).mean(), np.diff(y_km).mean()])\n    return *periodicity_2d(data['DEM'] - fitted_surf, 40), data['DEM'] - fitted_surf, data['lon'], data['lat'], km_step\n\n\nif __name__ == '__main__':\n    import os\n    import matplotlib.pyplot as plt\n    import python_codes.theme as theme\n    #\n    theme.load_style()\n    Stations = ['Deep_Sea_Station', 'South_Namib_Station']\n    #\n    path_data = 'input_data/'\n    path_save = 'output_data/DEM_analysis/'\n    if not os.path.isdir(path_save):\n        os.mkdir(path_save)\n    #\n    for i, station in enumerate(Stations):\n        file = os.path.join(path_data, station, 'DEM_' + station + '.npy')\n        orientation, wavelength, amplitude, p0, p1, transect, C, topo, lon, lat, km_step = DEM_analysis(file)\n        fig_width = theme.fig_width\n        fig_height = 0.6*fig_width\n        fig = plt.figure(figsize=(fig_width, fig_height), tight_layout=True)\n        #\n        plt.subplot(2, 2, 1)\n        plt.contourf(lon, lat, topo, levels=50)\n        plt.colorbar(label='$h$~[m]')\n        plt.xlabel(r'longitude [$^{\\circ}$]')\n        plt.ylabel(r'latitude [$^{\\circ}$]')\n        plt.gca().set_aspect('equal')\n        #\n        plt.subplot(2, 2, 2)\n        x = list(-(lon - lon[0])[::-1]) + list((lon - lon[0])[1:])\n        y = list(-(lat - lat[0])[::-1]) + list((lat - lat[0])[1:])\n        plt.contourf(x, y, C, levels=50)\n        #\n        plt.plot([x[p0[0]], x[int(round(p1[0]))]], [y[p0[1]], y[int(round(p1[1]))]], color='tab:red', label='profile for wavelength calculation')\n        p11 = p0 + np.array([cosd(orientation), sind(orientation)])*min(topo.shape)\n        p12 = p0 - np.array([cosd(orientation), sind(orientation)])*min(topo.shape)\n        plt.plot([x[int(round(p11[0]))], x[int(round(p12[0]))]], [y[int(round(p11[1]))], y[int(round(p12[1]))]], color='k', label='orientation')\n        plt.xlabel(r'longitude -- shift [$^{\\circ}$]')\n        plt.ylabel(r'latitude -- shift [$^{\\circ}$]')\n        # plt.legend()\n        plt.gca().set_aspect('equal')\n        #\n        plt.subplot(2, 1, 2)\n        x_transect = np.arange(transect.size)*km_step\n        plt.plot(x_transect, transect, color='tab:red')\n        plt.plot(x_transect[wavelength], transect[wavelength], color='tab:blue', marker='.')\n        plt.xlabel('Distance along profile [km]')\n        plt.ylabel('Autocorrelation~[m$^{2}$]')\n        plt.xlim(0, x_transect.max())\n        plt.savefig(path_save + 'Analysis_DEM_' + station + '.pdf')\n        np.save(path_save + 'Analysis_DEM_' + station + '.npy', {'orientation': orientation, 'wavelength': x_transect[wavelength], 'amplitude': amplitude})\n        print(station, r'orientation: ' + '{:.1f}'.format(orientation) + r' deg., wavelength: ' + r'{:.1f}'.format(x_transect[wavelength]) + r' km, amplitude: ' + r'{:.1f}'.format(amplitude) + r' m')\n        if i == 1:\n            plt.show()\n        else:\n            plt.close()"
      ]
    }
  ],
  "metadata": {
    "kernelspec": {
      "display_name": "Python 3",
      "language": "python",
      "name": "python3"
    },
    "language_info": {
      "codemirror_mode": {
        "name": "ipython",
        "version": 3
      },
      "file_extension": ".py",
      "mimetype": "text/x-python",
      "name": "python",
      "nbconvert_exporter": "python",
      "pygments_lexer": "ipython3",
      "version": "3.8.5"
    }
  },
  "nbformat": 4,
  "nbformat_minor": 0
}