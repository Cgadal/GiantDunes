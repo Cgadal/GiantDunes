{
  "cells": [
    {
      "cell_type": "code",
      "execution_count": null,
      "metadata": {
        "collapsed": false
      },
      "outputs": [],
      "source": [
        "%matplotlib inline"
      ]
    },
    {
      "cell_type": "markdown",
      "metadata": {},
      "source": [
        "\n# Comparison between the Era5Land and the in situ datasets\n"
      ]
    },
    {
      "cell_type": "code",
      "execution_count": null,
      "metadata": {
        "collapsed": false
      },
      "outputs": [],
      "source": [
        "import numpy as np\nimport matplotlib.pyplot as plt\nimport matplotlib.colors as Mplcolors\nimport matplotlib.gridspec as gridspec\nimport os\nimport sys\nsys.path.append('../../')\nimport python_codes.theme as theme\nfrom python_codes.plot_functions import plot_scatter_surrounded, plot_wind_rose\nfrom python_codes.meteo_analysis import compute_circadian_annual_cycle\ntheme.load_style()\n\n# paths\npath_savefig = '../../static/output_data/figures/'\npath_ouputdata = '../../static/output_data/data/'\n\n# Loading wind data\nData = np.load(os.path.join(path_ouputdata, 'Data_final.npy'), allow_pickle=True).item()\nStations = sorted(Data.keys())\n\n# Loading pattern characteristics\nData_pattern = {}\nfor station in ['Deep_Sea_Station', 'South_Namib_Station']:\n    Data_pattern[station] = np.load(os.path.join(path_ouputdata, 'Analysis_DEM_' + station + '.npy'), allow_pickle=True).item()"
      ]
    },
    {
      "cell_type": "markdown",
      "metadata": {},
      "source": [
        "## Wind roses\n\n"
      ]
    },
    {
      "cell_type": "code",
      "execution_count": null,
      "metadata": {
        "collapsed": false
      },
      "outputs": [],
      "source": [
        "h = 115\nbins = [0.03, 0.15, 0.2, 0.25, 0.3, 0.35, 0.4]\n\nfig_width = theme.fig_width\nfig_height = 0.75*fig_width\n\nfig = plt.figure(figsize=(fig_width, fig_height))\ngs = gridspec.GridSpec(3, 2, height_ratios=[0.25, 1, 1], width_ratios=[1, 1])\ngs.update(left=0.025, right=0.97, bottom=0.03, top=0.97, wspace=0.15, hspace=0.25)\nfor i, station in enumerate(Stations):\n    gs_sub = gs[i + 2].subgridspec(2, 2, height_ratios=[0.01, 1])\n    #\n    ax = plt.subplot(gs_sub[0, :])\n    plt.axis('off')\n    ax.text(0.5, 0.5, Stations[i][:-8].replace('_', ' '), ha='center', va='center', transform=ax.transAxes)\n    rect = plt.Rectangle([-0.05, -h], 1.1, h + 10, edgecolor='k', fill=False, transform=ax.transAxes, zorder=3, figure=fig)\n    fig.patches.extend([rect])\n    #\n    ax = plt.subplot(gs_sub[1, 0])\n    ax_rose_era = plot_wind_rose(Data[station]['Orientation_era'], Data[station]['U_star_era'], bins, ax, fig, 'Era5Land')\n    ax = plt.subplot(gs_sub[1, 1])\n    ax_rose_station = plot_wind_rose(Data[station]['Orientation_station'], Data[station]['U_star_station'], bins, ax, fig, 'in situ')\n    #\n    if station in Data_pattern.keys():\n        rmax = ax_rose_station.get_rmax()\n        plt.plot([Data_pattern[station]['orientation']*np.pi/180, Data_pattern[station]['orientation']*np.pi/180 + np.pi], [rmax, rmax], color='tab:grey', ls='--', linewidth=2)\n        ax_rose_station.set_rlim(0, rmax)\n# colorbar\ngs_sub = gs[0, :].subgridspec(3, 3, height_ratios=[0.5, 0.4, 0], width_ratios=[0.2, 1, 0.2])\nnorm = Mplcolors.BoundaryNorm(boundaries=bins + [bins[-1] + 0.05], ncolors=256)\nsm = plt.cm.ScalarMappable(cmap='viridis', norm=norm)\ncb = fig.colorbar(sm, cax=plt.subplot(gs_sub[1, 1]), orientation='horizontal')\ncb.set_label(r'Wind shear velocity, $u_{*}~[\\textrm{m}~\\textrm{s}^{-1}]$')\nlabels = [item.get_text() for item in cb.ax.get_xticklabels()]\nlabels[-1] = r'$\\infty$'\ncb.set_ticklabels(labels)\ncb.ax.xaxis.set_ticks_position('top')\ncb.ax.xaxis.set_label_position('top')\n\nplt.savefig(os.path.join(path_savefig, 'wind_roses.pdf'))\nplt.show()"
      ]
    },
    {
      "cell_type": "markdown",
      "metadata": {},
      "source": [
        "## Circadian/annual wind cycle\n\n"
      ]
    },
    {
      "cell_type": "code",
      "execution_count": null,
      "metadata": {
        "collapsed": false
      },
      "outputs": [],
      "source": [
        "for station in Stations:\n    # Averaging into bins\n    binned_era = compute_circadian_annual_cycle(Data[station]['Orientation_era'], Data[station]['U_star_era'], Data[station]['time'])\n    binned_station = compute_circadian_annual_cycle(Data[station]['Orientation_station'], Data[station]['U_star_station'], Data[station]['time'])\n    U_max = max([binned_era[1].max(), binned_station[1].max()])\n    #\n    # Making figure\n    fig_width = theme.fig_width\n    fig_height = 1.1*fig_width\n    fig = plt.figure(figsize=(fig_width, fig_height))\n    gs = gridspec.GridSpec(2, 2, height_ratios=(0.02, 1))\n    gs.update(left=0.08, right=0.99, bottom=0.075, top=0.94, hspace=0.05, wspace=0.08)\n    gs_imshow = gs[1:, :].subgridspec(2, 2, hspace=0.08, wspace=0.08)\n    for i, dat in enumerate([binned_era, binned_station]):\n        plt.subplot(gs_imshow[i, 0])\n        a = plt.imshow(dat[0], extent=[dat[3].min(), dat[3].max(), dat[2].min(), dat[2].max()], vmin=0, vmax=360, origin='lower', aspect='auto', interpolation='None', cmap='hsv')\n        if i == 1:\n            plt.xlabel('Hour of the day [UTC]')\n        else:\n            plt.gca().set_xticklabels([])\n        plt.ylabel('Day of the year')\n        plt.subplot(gs_imshow[i, 1])\n        b = plt.imshow(dat[1], extent=[dat[3].min(), dat[3].max(), dat[2].min(), dat[2].max()], vmin=0, vmax=U_max, origin='lower', aspect='auto', interpolation='None')\n        if i == 1:\n            plt.xlabel('Hour of the day [UTC]')\n        else:\n            plt.gca().set_xticklabels([])\n        plt.gca().set_yticklabels([])\n    #\n    # colorbars\n    cb_orientation = plt.colorbar(a, cax=plt.subplot(gs[0, 0]), orientation='horizontal')\n    cb_orientation.set_label('Wind orientation [deg.]')\n    cb_orientation.set_ticks([0, 45, 90, 135, 180, 225, 270, 315, 360])\n    # = adding dune orientation\n    if station in Data_pattern.keys():\n        ax2 = cb_orientation.ax.twiny()\n        ax2.set_xlim([0, 360])\n        ax2.set_xticks([Data_pattern[station]['orientation'], Data_pattern[station]['orientation'] + 180])\n        ax2.set_xticklabels([r'$\\alpha_{\\rm dune}$', r'$\\alpha_{\\rm dune}$'])\n        ax2.xaxis.tick_bottom()\n        ax2.xaxis.set_tick_params(pad=1)\n    cb_orientation.ax.xaxis.set_ticks_position('top')\n    cb_orientation.ax.xaxis.set_label_position('top')\n    cb_velocity = plt.colorbar(b, cax=plt.subplot(gs[0, 1]), orientation='horizontal')\n    cb_velocity.ax.xaxis.set_ticks_position('top')\n    cb_velocity.ax.xaxis.set_label_position('top')\n    cb_velocity.set_label('Wind shear velocity [m/s]')\n    #\n    plt.savefig(os.path.join(path_savefig, 'circadian_annual_cycle_' + station + '.pdf'))\n    plt.show()"
      ]
    },
    {
      "cell_type": "markdown",
      "metadata": {},
      "source": [
        "## Scatter plots -- Orientation\n\n"
      ]
    },
    {
      "cell_type": "code",
      "execution_count": null,
      "metadata": {
        "collapsed": false
      },
      "outputs": [],
      "source": [
        "Stations = ['Deep_Sea_Station', 'South_Namib_Station']\nStations_ref = ['Adamax_Station', 'Huab_Station']\n\nUth = [0.1, 0.25]\n\n# Low velocities\nx_low = np.concatenate([Data[station]['Orientation_era'][(Data[station]['U_star_era'] < Uth[0])] - Data_pattern[station]['orientation'] for station in Stations])\ny_low = np.concatenate([Data[station]['Orientation_station'][(Data[station]['U_star_era'] < Uth[0])] - Data_pattern[station]['orientation'] for station in Stations])\n#\n# Intermediate velocities\nx_inter = np.concatenate([Data[station]['Orientation_era'][(Data[station]['U_star_era'] >= Uth[0]) & (Data[station]['U_star_era'] <= Uth[1])] - Data_pattern[station]['orientation'] for station in Stations])\ny_inter = np.concatenate([Data[station]['Orientation_station'][(Data[station]['U_star_era'] >= Uth[0]) & (Data[station]['U_star_era'] <= Uth[1])] - Data_pattern[station]['orientation'] for station in Stations])\n#\n# High velocities\nx_high = np.concatenate([Data[station]['Orientation_era'][(Data[station]['U_star_station'] > 0) & (Data[station]['U_star_era'] > Uth[1])] - Data_pattern[station]['orientation'] for station in Stations])\ny_high = np.concatenate([Data[station]['Orientation_station'][(Data[station]['U_star_station'] > 0) & (Data[station]['U_star_era'] > Uth[1])] - Data_pattern[station]['orientation'] for station in Stations])\n#\n# Reference stations\nx_ref = np.concatenate([Data[station]['Orientation_era'] for station in Stations_ref])\ny_ref = np.concatenate([Data[station]['Orientation_station'] for station in Stations_ref])\n\n\n# ############# figure\n#\n# Plot parameters\nX = [x_low, x_inter, x_high]\nY = [y_low, y_inter, y_high]\nALPHA = [0.2, 0.1, 0.1]\nlabel = ['(a)', '(b)', '(c)', '(d)']\npad_lines = 1.5  # shifting lines of <pad_lines> degress when they are on the border of the plot\n\nfig_width = theme.fig_width\nfig_height = 1.3*fig_width\nfig = plt.figure(figsize=(fig_width, fig_height))\n#\ngs = gridspec.GridSpec(5, 1, height_ratios=[1, 0.22, 1, 1, 1])\ngs.update(left=0.08, right=0.98, bottom=0.053, top=0.99, hspace=0.07)\n\nfor i, (x, y) in enumerate(zip(X, Y)):\n    ax = plt.subplot(gs[i + 2])\n    plot_scatter_surrounded(x, y, 'C' + str(i + 1), ALPHA[i])\n    #\n    # Reference lines\n    if i in [1, 2]:  # identity line\n        plt.plot([0, 360], [0, 360], color='tab:grey', ls='--', linewidth=2)\n    if i in [0, 1]:  # constant orientation lines\n        plt.plot([0, 360], [pad_lines, pad_lines], color='tab:grey', ls='--', linewidth=2)\n        plt.plot([0, 360], [180, 180], color='tab:grey', ls='--', linewidth=2)\n        plt.plot([0, 360], [360 - pad_lines, 360 - pad_lines], color='tab:grey', ls='--', linewidth=2)\n\n    plt.xlim(0, 360)\n    plt.ylim(0, 360)\n    #\n    ax.set_ylabel(r'$\\theta_{\\textrm{in situ}}- \\alpha$ [deg.]')\n    ax.set_yticks([0, 90, 180, 270, 360])\n    ax.set_xticks([0, 90, 180, 270, 360])\n    ax.text(-0.07, 1, r'\\textbf{' + label[i + 1] + r'\\textbf', ha='center', va='center', transform=ax.transAxes)\n    if i < 2:\n        ax.set_xticklabels([])\n    else:\n        ax.set_xlabel(r'$\\theta_{\\rm Era5Land} - \\alpha$ [deg.]')\n\n\nax = plt.subplot(gs[0])\nplot_scatter_surrounded(x_ref, y_ref, 'C0', 0.25)\nplt.plot([0, 360], [0, 360], color='tab:grey', ls='--', linewidth=2)  # identity line\nplt.xlim(0, 360)\nplt.ylim(0, 360)\nax.set_ylabel(r'$\\theta_{\\textrm{in situ}}$ [deg.]')\nax.set_yticks([0, 90, 180, 270, 360])\nax.set_xticks([0, 90, 180, 270, 360])\nax.text(-0.07, 1, r'\\textbf{' + label[0] + r'\\textbf', ha='center', va='center', transform=ax.transAxes)\nax.set_xlabel(r'$\\theta_{\\rm Era5Land}$ [deg.]')\n\n\nplt.savefig(os.path.join(path_savefig, 'scatter_orientation.pdf'))\nplt.show()"
      ]
    }
  ],
  "metadata": {
    "kernelspec": {
      "display_name": "Python 3",
      "language": "python",
      "name": "python3"
    },
    "language_info": {
      "codemirror_mode": {
        "name": "ipython",
        "version": 3
      },
      "file_extension": ".py",
      "mimetype": "text/x-python",
      "name": "python",
      "nbconvert_exporter": "python",
      "pygments_lexer": "ipython3",
      "version": "3.8.5"
    }
  },
  "nbformat": 4,
  "nbformat_minor": 0
}