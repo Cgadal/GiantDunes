{
  "cells": [
    {
      "cell_type": "code",
      "execution_count": null,
      "metadata": {
        "collapsed": false
      },
      "outputs": [],
      "source": [
        "%matplotlib inline"
      ]
    },
    {
      "cell_type": "markdown",
      "metadata": {},
      "source": [
        "\n# Calibration of the hydrodynamic roughness\n\nFor each station, the hydrodynamic roughness is calibrated by finding the one that minimizes the difference between the wind vectors of both datasets.\n\n    - we compute the difference between wind vectors using hydrodynamic roughnesses ranging from $10^{-5}$ m to $10^{-2}$ m.\n    - we find the minimum in this space, which is a line.\n    - we impose an hydrodynamic roughness of $10^{-3}$ m for the Era5Land dataset, and compute the corresponding roughness for the in situ dataset.\n\nThe chosen metric for comparison is then:\n\n\\begin{align}\\delta = \\frac{\\sqrt{\\langle\\| \\boldsymbol{u}_{*, \\textrm{era}} - \\boldsymbol{u}_{*, \\textrm{station}} \\|^{2}\\rangle_{t}}}{\\sqrt{ \\langle \\| \\boldsymbol{u}_{*, \\textrm{era}} \\| \\rangle_{t}\\langle \\| \\boldsymbol{u}_{*, \\textrm{station}} \\| \\rangle_{t}}}\\end{align}\n"
      ]
    },
    {
      "cell_type": "code",
      "execution_count": null,
      "metadata": {
        "collapsed": false
      },
      "outputs": [],
      "source": [
        "import numpy as np\nimport matplotlib.pyplot as plt\nimport os\nimport sys\nsys.path.append('../../')\nimport python_codes.theme as theme\nfrom python_codes.general import smallestSignedAngleBetween, cosd, sind, find_mode_distribution\nfrom python_codes.meteo_analysis import mu\ntheme.load_style()\n#\nimport warnings\nwarnings.filterwarnings(\"ignore\", category=RuntimeWarning)\n\n\n# paths\npath_savefig = '../../static/output_data/figures/'\npath_ouputdata = '../../static/output_data/data/'\n\n# Parameters\nz_era = 10      # height of ERA5Land wind data [m]\nz0_era = 1e-3  # hydrodynamic roughness chosen for the Era5Land dataset [m]\ng = 9.81  # gravitational acceleration [m2/s]\nz_station = {'Adamax_Station': 3.18, 'Deep_Sea_Station': 2.62, 'Huab_Station': 2, 'South_Namib_Station': 2.62}  # Height of wind measurements [m]\nangle_tolerance = 15  # tolerance in selecting the wind orientation matching between both datasets\n\n# parameter space exploration\nz0_station_vals = np.logspace(-5, -2, 50)\nz0_era_vals = np.logspace(-5, -2, 50)\nZ0_ERA, Z0_STATION = np.meshgrid(z0_era_vals, z0_station_vals)\n\n# Storage for figure\nMetrics = []\nPvals = []\n\nData = np.load(os.path.join(path_ouputdata, 'Data_preprocessed.npy'), allow_pickle=True).item()\nz0 = {}\nfor station in sorted(Data.keys()):\n    Delta_orientation = smallestSignedAngleBetween(Data[station]['Orientation_era'], Data[station]['Orientation_station'])\n    mode_delta_orientation = find_mode_distribution(Delta_orientation[~np.isnan(Delta_orientation)], 100)\n    #\n    # Computing mask for only valid data (U > 0 and Delta_orientation small enough)\n    mask_gen = (~np.isnan(Data[station]['U_station'])) & (Data[station]['U_station'] > 0)\n    mask_angle = (Delta_orientation >= mode_delta_orientation - angle_tolerance) & (Delta_orientation <= mode_delta_orientation + angle_tolerance)\n    mask = mask_gen & mask_angle\n    #\n    # Computing the shear velocity for all possible values of hydrodynamic roughness\n    u_star_era = Data[station]['U_era'][mask][:, None, None]/mu(z_era, Z0_ERA[None, :, :])\n    u_star_station_avg = Data[station]['U_station'][mask][:, None, None]/mu(z_station[station], Z0_STATION[None, :, :])\n    #\n    # Computing wind velocity in cartesian coordinates\n    ux_station, uy_station = u_star_station_avg*cosd(Data[station]['Orientation_station'][mask][:, None, None]), u_star_station_avg*sind(Data[station]['Orientation_station'][mask][:, None, None])\n    ux_era, uy_era = u_star_era*cosd(Data[station]['Orientation_era'][mask][:, None, None]), u_star_era*sind(Data[station]['Orientation_era'][mask][:, None, None])\n    #\n    # Computing norm of the relative difference between both datasets\n    U_star_era, U_star_station = np.array([ux_era, uy_era]), np.array([ux_station, uy_station])\n    metric = np.sqrt(np.mean(np.linalg.norm(U_star_era - U_star_station, axis=0)**2, axis=0))\n    metric = metric/np.sqrt(u_star_era.mean(axis=0)*u_star_station_avg.mean(axis=0))\n    #\n    # Finding minimum\n    x = np.copy(z0_era_vals)\n    y = z0_station_vals[metric.argmin(axis=0)]\n    p = np.polyfit(np.log(x[:-7]), np.log(y[:-7]), 1)\n    Data[station]['z0_station'] = np.exp(p[1])*z0_era**p[0]\n    print(station + ': z0 = ' + '{:.1e}'.format(Data[station]['z0_station']) + ' m')\n    #\n    # Storage for figure\n    Metrics.append(metric)\n    Pvals.append(p)\n    #\n    # completing dataset\n    Data[station]['U_star_era'] = Data[station]['U_era']/mu(z_era, z0_era)\n    Data[station]['U_star_station'] = Data[station]['U_station']/mu(z_station[station], Data[station]['z0_station'])\n    Data[station]['z_station'] = z_station[station]\n\nnp.save(os.path.join(path_ouputdata, 'Data_final.npy'), Data)\n# ########### Making figure\nplt.figure(figsize=(theme.fig_width, 0.9*theme.fig_width))\nfor i, (p, metric, station) in enumerate(zip(Pvals, Metrics, sorted(Data.keys()))):\n    plt.subplot(2, 2, i + 1)\n    cs = plt.contourf(z0_era_vals, z0_station_vals, metric, levels=50)\n    for c in cs.collections:\n        c.set_edgecolor(\"face\")\n    plt.plot(z0_era_vals, z0_station_vals, 'r', label='$y=x$')\n    plt.plot(x, np.exp(p[1])*x**p[0], 'r--', label='minimum line')\n    a, = plt.plot([z0_era_vals.min(), 1e-3], [Data[station]['z0_station'], Data[station]['z0_station']])\n    plt.plot([1e-3, 1e-3], [z0_station_vals.min(), Data[station]['z0_station']], color=a.get_color())\n    plt.plot(1e-3, Data[station]['z0_station'], '.', color=a.get_color())\n    cb = plt.colorbar()\n    cb.set_ticks(np.arange(np.round(metric.min(), decimals=1), np.round(metric.max(), decimals=1) + 0.1, 0.1))\n    cb.ax.xaxis.set_label_position('top')\n    cb.ax.set_xlabel(r'$\\delta$')\n    plt.gca().set_yscale('log')\n    plt.gca().set_xscale('log')\n    plt.xlim([z0_era_vals.min(), z0_era_vals.max()])\n    plt.ylim([z0_station_vals.min(), z0_station_vals.max()])\n    plt.gca().set_title(station[:-8].replace('_', ' '))\n    plt.xlabel('$z_{0}$ era~[m]')\n    plt.ylabel('$z_{0}$ station~[m]')\n    plt.legend()\n\nplt.subplots_adjust(0.093, 0.07, 0.97, 0.96, 0.33, 0.3)\nplt.savefig(os.path.join(path_savefig, 'roughness_calculation.pdf'))\nplt.show()"
      ]
    }
  ],
  "metadata": {
    "kernelspec": {
      "display_name": "Python 3",
      "language": "python",
      "name": "python3"
    },
    "language_info": {
      "codemirror_mode": {
        "name": "ipython",
        "version": 3
      },
      "file_extension": ".py",
      "mimetype": "text/x-python",
      "name": "python",
      "nbconvert_exporter": "python",
      "pygments_lexer": "ipython3",
      "version": "3.8.5"
    }
  },
  "nbformat": 4,
  "nbformat_minor": 0
}