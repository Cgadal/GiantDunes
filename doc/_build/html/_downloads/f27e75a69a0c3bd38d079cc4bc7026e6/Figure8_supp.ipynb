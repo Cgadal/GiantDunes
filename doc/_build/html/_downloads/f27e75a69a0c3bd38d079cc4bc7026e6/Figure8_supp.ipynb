{
  "cells": [
    {
      "cell_type": "code",
      "execution_count": null,
      "metadata": {
        "collapsed": false
      },
      "outputs": [],
      "source": [
        "%matplotlib inline"
      ]
    },
    {
      "cell_type": "markdown",
      "metadata": {},
      "source": [
        "\n# Figure 8 -- SI\n"
      ]
    },
    {
      "cell_type": "code",
      "execution_count": null,
      "metadata": {
        "collapsed": false
      },
      "outputs": [],
      "source": [
        "import numpy as np\nimport os\nimport matplotlib.pyplot as plt\nimport sys\nsys.path.append('../../')\nimport python_codes.theme as theme\nfrom python_codes.plot_functions import plot_scatter_surrounded\n\ntheme.load_style()\n\n# paths\npath_savefig = '../../Paper/Figures'\npath_outputdata = '../../static/output_data/data/'\npath_inputdata = '../../static/input_data'\n\n# Loading data\nData = np.load(os.path.join(path_outputdata, 'Data_final.npy'), allow_pickle=True).item()\n\nlabels = [r'\\textbf{a}', r'\\textbf{b}']\n\n# preparing data\nStations = ['South_Namib_Station', 'Deep_Sea_Station']\n\nNocturnal_wind = {'South_Namib_Station': [150, 260], 'Deep_Sea_Station': [150, 230]}\n\n# variables\nx1 = np.concatenate([Data[station]['U_star_era'][(Data[station]['Orientation_era'] > Nocturnal_wind[station][0]) & (Data[station]['Orientation_era'] < Nocturnal_wind[station][1])]\n                     for station in Stations])\ny1 = np.concatenate([Data[station]['U_star_station'][(Data[station]['Orientation_era'] > Nocturnal_wind[station][0]) & (Data[station]['Orientation_era'] < Nocturnal_wind[station][1])]\n                     for station in Stations])\n#\nx2 = np.concatenate([Data[station]['U_star_era'][~((Data[station]['Orientation_era'] > Nocturnal_wind[station][0]) & (Data[station]['Orientation_era'] < Nocturnal_wind[station][1]))]\n                     for station in Stations])\ny2 = np.concatenate([Data[station]['U_star_station'][~((Data[station]['Orientation_era'] > Nocturnal_wind[station][0]) & (Data[station]['Orientation_era'] < Nocturnal_wind[station][1]))]\n                     for station in Stations])\n\nX = [x1, x2]\nY = [y1, y2]\n\n# #### Figure\npad_angle = 2\nlabels = [r'\\textbf{a}', r'\\textbf{b}']\nalphas = [0.075, 0.045]\n\nfig, axarr = plt.subplots(1, 2, figsize=(theme.fig_width, 0.53*theme.fig_width),\n                          constrained_layout=True, sharey=True)\n\nfor i, (ax, label, x, y, alpha) in enumerate(zip(axarr, labels, X, Y, alphas)):\n    plt.sca(ax)\n    plot_scatter_surrounded(x, y, color='tab:blue', alpha=alpha)\n    ax.plot([0, 0.6], [0, 0.6], 'k--')\n    ax.set_xlabel(r'$u_{*, \\textup{ERA}}~[\\textup{m}~\\textup{s}^{-1}]$')\n    ax.set_xlim(0, 0.57)\n    ax.set_ylim(0, 0.57)\n    ax.text(0.05, 0.95, label, ha='center', va='center', transform=ax.transAxes)\n    ax.set_aspect('equal')\n\naxarr[0].set_ylabel(r'$u_{*, \\textup{in situ}}~[\\textup{m}~\\textup{s}^{-1}]$')\n\nplt.savefig(os.path.join(path_savefig, 'Figure8_supp.pdf'), dpi=400)\nplt.show()"
      ]
    }
  ],
  "metadata": {
    "kernelspec": {
      "display_name": "Python 3",
      "language": "python",
      "name": "python3"
    },
    "language_info": {
      "codemirror_mode": {
        "name": "ipython",
        "version": 3
      },
      "file_extension": ".py",
      "mimetype": "text/x-python",
      "name": "python",
      "nbconvert_exporter": "python",
      "pygments_lexer": "ipython3",
      "version": "3.8.10"
    }
  },
  "nbformat": 4,
  "nbformat_minor": 0
}