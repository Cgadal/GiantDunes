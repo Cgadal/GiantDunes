{
  "cells": [
    {
      "cell_type": "code",
      "execution_count": null,
      "metadata": {
        "collapsed": false
      },
      "outputs": [],
      "source": [
        "%matplotlib inline"
      ]
    },
    {
      "cell_type": "markdown",
      "metadata": {},
      "source": [
        "\n# Plot the parameter space exploration of the hydrodyanamic coefficients\n"
      ]
    },
    {
      "cell_type": "code",
      "execution_count": null,
      "metadata": {
        "collapsed": false
      },
      "outputs": [],
      "source": [
        "import numpy as np\nimport matplotlib.pyplot as plt\nfrom matplotlib.colors import TwoSlopeNorm, Normalize\nimport matplotlib.gridspec as gridspec\nfrom scipy.ndimage import gaussian_filter\nimport os\nimport sys\nsys.path.append('../../')\nfrom python_codes.linear_theory import Cisaillement_basal\nimport python_codes.theme as theme\ntheme.load_style()\n\n# Paths\npath_outputdata = '../../static/output_data/data/'\n\n# Loading parameter space exploration\nDic = np.load(os.path.join(path_outputdata, 'parameter_exploration_hydro_coeff_3D.npy'), allow_pickle=True).item()"
      ]
    },
    {
      "cell_type": "markdown",
      "metadata": {},
      "source": [
        "## Plane (Froude - kH)\n\n"
      ]
    },
    {
      "cell_type": "code",
      "execution_count": null,
      "metadata": {
        "collapsed": false
      },
      "outputs": [],
      "source": [
        "hydro_coeffs = Dic[('Froude', 'kH', 'kLB')]['hydro_coeffs'].mean(axis=-1).swapaxes(1, 2)\n\n# #### figure\nquantities = [hydro_coeffs[0, :, :], hydro_coeffs[1, :, :],\n              np.linalg.norm(hydro_coeffs, axis=0), np.arctan2(hydro_coeffs[1, :, :], hydro_coeffs[0, :, :])]\nlabels = [r'$\\mathcal{A}_{0}$', r'$\\mathcal{B}_{0}$', r'$\\sqrt{\\mathcal{A}_{0}^{2} + \\mathcal{B}_{0}^{2}}$',\n          r'$\\textup{arctan}\\left(\\mathcal{B}_{0}/\\mathcal{A}_{0}\\right)$']\n#\nfig, axs = plt.subplots(2, 2, figsize=(theme.fig_width, 0.8*theme.fig_width), constrained_layout=True)\nfor i, (ax, label, quantity) in enumerate(zip(axs.flatten(), labels, quantities)):\n    smoothed = gaussian_filter(quantity, 5)\n    if i in [0, 2]:\n        cmap = 'viridis'\n        norm = None\n    else:\n        cmap = 'seismic'\n        norm = TwoSlopeNorm(vcenter=0, vmin=smoothed.min(), vmax=smoothed.max())\n    cnt = ax.contourf(Dic['Froude_vals'], Dic['kH_vals'], smoothed, levels=100, norm=norm, cmap=cmap)\n    for c in cnt.collections:\n        c.set_edgecolor(\"face\")\n    cbar = fig.colorbar(cnt, ax=ax, label=label)\n    ax.set_xscale('log')\n    ax.set_yscale('log')\n    if i in [0, 2]:\n        ax.set_ylabel(r'$k H$')\n    else:\n        ax.set_yticklabels([])\n    if i in [2, 3]:\n        ax.set_xlabel(r'Froude number, $\\rho U/\\sqrt{\\Delta\\rho g H}$')\n    else:\n        ax.set_xticklabels([])\nplt.show()"
      ]
    },
    {
      "cell_type": "markdown",
      "metadata": {},
      "source": [
        "## Plane (kLB - kH)\n\n"
      ]
    },
    {
      "cell_type": "code",
      "execution_count": null,
      "metadata": {
        "collapsed": false
      },
      "outputs": [],
      "source": [
        "hydro_coeffs = Dic[('Froude', 'kH', 'kLB')]['hydro_coeffs'].mean(axis=1)\n\n# #### figure\nquantities = [hydro_coeffs[0, :, :], hydro_coeffs[1, :, :],\n              np.linalg.norm(hydro_coeffs, axis=0), np.arctan2(hydro_coeffs[1, :, :], hydro_coeffs[0, :, :])]\nlabels = [r'$\\mathcal{A}_{0}$', r'$\\mathcal{B}_{0}$', r'$\\sqrt{\\mathcal{A}_{0}^{2} + \\mathcal{B}_{0}^{2}}$',\n          r'$\\textup{arctan}\\left(\\mathcal{B}_{0}/\\mathcal{A}_{0}\\right)$']\n#\nfig, axs = plt.subplots(2, 2, figsize=(theme.fig_width, 0.8*theme.fig_width), constrained_layout=True)\nfor i, (ax, label, quantity) in enumerate(zip(axs.flatten(), labels, quantities)):\n    smoothed = gaussian_filter(quantity, 5)\n    if i in [0, 2]:\n        cmap = 'viridis'\n        norm = None\n    else:\n        cmap = 'seismic'\n        norm = TwoSlopeNorm(vcenter=0, vmin=min(-0.00001, smoothed.min()), vmax=smoothed.max())\n    cnt = ax.contourf(Dic['kLB_vals'], Dic['kH_vals'], smoothed, levels=100, norm=norm, cmap=cmap)\n    for c in cnt.collections:\n        c.set_edgecolor(\"face\")\n    cbar = fig.colorbar(cnt, ax=ax, label=label)\n    ax.set_xscale('log')\n    ax.set_yscale('log')\n    if i in [0, 2]:\n        ax.set_ylabel(r'$k H$')\n    else:\n        ax.set_yticklabels([])\n    if i in [2, 3]:\n        ax.set_xlabel(r'$k L_{\\textup{B}}$')\n    else:\n        ax.set_xticklabels([])\nplt.show()"
      ]
    },
    {
      "cell_type": "markdown",
      "metadata": {},
      "source": [
        "## Computing theoretical regime diagrams\n\n"
      ]
    },
    {
      "cell_type": "code",
      "execution_count": null,
      "metadata": {
        "collapsed": false
      },
      "outputs": [],
      "source": [
        "hydro_coeffs = Dic[('Froude', 'kH', 'kLB')]['hydro_coeffs'].swapaxes(1, 2)\n# axes are now (A/B, kH, Froude, kLB)\naxes_av = [3, 2]  # axes over which averaging is perform for plane representation\n# fixing dune properties\nalpha = 45\naspect_ratio = 1/np.linalg.norm(hydro_coeffs, axis=0).max()\n# #### Plot properties\ncmaps = ['plasma', 'seismic']\n# norms = [Normalize(vmin=0, vmax=70), TwoSlopeNorm(vmin=-1, vcenter=0, vmax=1)]\nnorms = [None, TwoSlopeNorm(vcenter=0)]\ncbar_labels = [r'$\\delta_{\\theta}$ [deg.]', r'$\\delta_{u}$']\nx_labels = [r'Froude number, $ U/\\sqrt{(\\Delta\\rho/\\rho) g H}$', r'$k L_{\\textup{B}}$']\nindex = [60, 48]\n#\nfig = plt.figure(figsize=(theme.fig_width, theme.fig_width))\ngs = gridspec.GridSpec(2, 1, height_ratios=[0.08, 1], figure=fig)\ngs.update(left=0.09, right=0.98, bottom=0.07, top=0.94, hspace=0.17)\ngs_plots = gs[1].subgridspec(2, 2, hspace=0.05, wspace=0.05)\n#\nfor i, (axis, label) in enumerate(zip(axes_av, x_labels)):\n    A0 = hydro_coeffs.take(index[i], axis=axis)[0, :, :]\n    B0 = hydro_coeffs.take(index[i], axis=axis)[1, :, :]\n    #\n    x = 0\n    y = np.pi/np.sin(alpha*180/np.pi) - np.arctan2(B0, A0)\n    # y = np.pi/np.sin(alpha*180/np.pi)\n    # Calculating basal shear stress\n    TAU = Cisaillement_basal(x, y, alpha,\n                             A0, B0, aspect_ratio)\n    #\n    # Calculating maximum redirection\n    delta_angle = np.abs(np.arctan2(TAU[1], TAU[0]))*180/np.pi\n    #\n    # Calculating maximum relative difference\n    delta_u = 1 - np.linalg.norm(np.array(TAU), axis=0)\n    #\n    quantities = [delta_angle, delta_u]\n    for j, (quantity, cmap, norm) in enumerate(zip(quantities, cmaps, norms)):\n        ax = plt.subplot(gs_plots[j, i])\n        ax.set_xscale('log')\n        ax.set_yscale('log')\n        x_vals = Dic['Froude_vals'] if i == 0 else Dic['kLB_vals']\n        a = plt.pcolormesh(x_vals, Dic['kH_vals'], quantity, norm=norm, snap=True, cmap=cmap)\n        #\n        if j > 0:\n            plt.xlabel(label)\n        else:\n            ax.set_xticklabels([])\n        #\n        if i == 0:\n            plt.ylabel(r'$k H$')\n        else:\n            ax.set_yticklabels([])\n\n# #### colorbars\ngs_colorbars = gs[0].subgridspec(2, 1, hspace=0.3)\nfor i, (norm, label, cmap) in enumerate(zip(norms, cbar_labels, cmaps)):\n    sm = plt.cm.ScalarMappable(cmap=cmap, norm=norm)\n    cb = fig.colorbar(sm, cax=plt.subplot(gs_colorbars[i]), orientation='horizontal')\n    cb.set_label(label)\n    if i == 0:\n        cb.ax.xaxis.set_ticks_position('top')\n        cb.ax.xaxis.set_label_position('top')\n\n# plt.savefig(os.path.join(path_savefig, 'regime_diagrams.pdf'))\nplt.show()"
      ]
    }
  ],
  "metadata": {
    "kernelspec": {
      "display_name": "Python 3",
      "language": "python",
      "name": "python3"
    },
    "language_info": {
      "codemirror_mode": {
        "name": "ipython",
        "version": 3
      },
      "file_extension": ".py",
      "mimetype": "text/x-python",
      "name": "python",
      "nbconvert_exporter": "python",
      "pygments_lexer": "ipython3",
      "version": "3.8.5"
    }
  },
  "nbformat": 4,
  "nbformat_minor": 0
}