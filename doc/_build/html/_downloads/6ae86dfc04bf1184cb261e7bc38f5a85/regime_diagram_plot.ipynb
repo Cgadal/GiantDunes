{
  "cells": [
    {
      "cell_type": "code",
      "execution_count": null,
      "metadata": {
        "collapsed": false
      },
      "outputs": [],
      "source": [
        "%matplotlib inline"
      ]
    },
    {
      "cell_type": "markdown",
      "metadata": {},
      "source": [
        "\n# Plotting the different diagram regime for both stations\n"
      ]
    },
    {
      "cell_type": "code",
      "execution_count": null,
      "metadata": {
        "collapsed": false
      },
      "outputs": [],
      "source": [
        "import numpy as np\nimport matplotlib.pyplot as plt\nimport matplotlib.gridspec as gridspec\nimport matplotlib.ticker as mticker\nimport matplotlib.colors as mpcolors\nfrom scipy.stats import binned_statistic_2d\nimport os\nimport sys\nsys.path.append('../../')\nimport python_codes.theme as theme\nfrom python_codes.general import smallestSignedAngleBetween, find_mode_distribution\nfrom python_codes.plot_functions import log_tick_formatter, rgba_to_rgb\ntheme.load_style()\n\n\n# Paths\npath_savefig = '../../static/output_data/figures/'\npath_outputdata = '../../static/output_data/data/'\n\n# ##### Loading meteo data\nData = np.load(os.path.join(path_outputdata, 'Data_final.npy'), allow_pickle=True).item()\nStations = ['South_Namib_Station', 'Deep_Sea_Station']"
      ]
    },
    {
      "cell_type": "markdown",
      "metadata": {},
      "source": [
        "## Plotting the regime diagrams -- scatter plots\n\n"
      ]
    },
    {
      "cell_type": "code",
      "execution_count": null,
      "metadata": {
        "collapsed": false
      },
      "outputs": [],
      "source": [
        "Orientation_era = np.concatenate([Data[station]['Orientation_era'] for station in Stations])\nOrientation_station = np.concatenate([Data[station]['Orientation_station'] for station in Stations])\nU_era = np.concatenate([Data[station]['U_star_era'] for station in Stations])\nU_station = np.concatenate([Data[station]['U_star_station'] for station in Stations])\nnumbers = {key: np.concatenate([Data[station][key] for station in Stations]) for key in ('Froude', 'kH', 'kLB')}\n#\nDelta = smallestSignedAngleBetween(Orientation_era, Orientation_station)\nmode_delta = np.array([find_mode_distribution(Delta, i) for i in np.arange(150, 350)]).mean()\ndelta_angle = np.abs(Delta)\ndelta_u = (U_era - U_station)/U_era\n#\nax_labels = {'Froude': r'Froude number, $ U/\\sqrt{(\\Delta\\rho/\\rho) g H}$', 'kH': '$k H$', 'kLB': r'$k L_{\\textup{B}}$'}\nlims = {'Froude': (5.8e-3, 450), 'kLB': (0.009, 7.5), 'kH': (2.2e-2, 10.8)}\nmask = ~np.isnan(numbers['Froude'])\nplot_idx = np.random.permutation(np.arange(delta_angle[mask].size))  # to plot the points of the scatter plot in random order\ncouples = [('Froude', 'kH'), ('kLB', 'kH')]\ncmaps = ['plasma', 'seismic']\nnorms = [mpcolors.Normalize(vmin=0, vmax=70),\n         mpcolors.TwoSlopeNorm(vmin=-1, vcenter=0, vmax=1)]\ncbar_labels = [r'$\\delta_{\\theta}$ [deg.]', r'$\\delta_{u}$']\nquantities = [delta_angle, delta_u]\n#\nfig = plt.figure(figsize=(theme.fig_width, theme.fig_width))\ngs = gridspec.GridSpec(2, 1, height_ratios=[0.08, 1], figure=fig)\ngs.update(left=0.09, right=0.98, bottom=0.07, top=0.94, hspace=0.17)\ngs_plots = gs[1].subgridspec(2, 2, hspace=0.05, wspace=0.05)\n#\nfor i, (quantity, cmap, norm) in enumerate(zip(quantities, cmaps, norms)):\n    for j, (var1, var2) in enumerate(couples):\n        ax = plt.subplot(gs_plots[i, j])\n        ax.set_xscale('log')\n        ax.set_yscale('log')\n        a = plt.scatter(numbers[var1][plot_idx], numbers[var2][plot_idx], s=5, c=quantity[plot_idx], lw=0, rasterized=True, norm=norm, cmap=cmap)\n        ax.set_xlim(lims[var1])\n        ax.set_ylim(lims[var2])\n        if i > 0:\n            plt.xlabel(ax_labels[var1])\n        else:\n            ax.set_xticklabels([])\n        #\n        if j == 0:\n            plt.ylabel(ax_labels[var2])\n        else:\n            ax.set_yticklabels([])\n\n# #### colorbars\ngs_colorbars = gs[0].subgridspec(2, 1, hspace=0.3)\nfor i, (norm, label, cmap) in enumerate(zip(norms, cbar_labels, cmaps)):\n    sm = plt.cm.ScalarMappable(cmap=cmap, norm=norm)\n    cb = fig.colorbar(sm, cax=plt.subplot(gs_colorbars[i]), orientation='horizontal')\n    cb.set_label(label)\n    if i == 0:\n        cb.ax.xaxis.set_ticks_position('top')\n        cb.ax.xaxis.set_label_position('top')\n\nplt.savefig(os.path.join(path_savefig, 'regime_diagrams.pdf'))\nplt.show()"
      ]
    },
    {
      "cell_type": "markdown",
      "metadata": {},
      "source": [
        "## Plotting the 3 possible regime diagrams -- binned\n\n"
      ]
    },
    {
      "cell_type": "code",
      "execution_count": null,
      "metadata": {
        "collapsed": false
      },
      "outputs": [],
      "source": [
        "log_counts_max = np.log10(2230)\n\nfig = plt.figure(figsize=(np.round(theme.fig_width, 3), np.round(1.25*theme.fig_width, 3)))\ngs = gridspec.GridSpec(2, 1, height_ratios=[0.3, 1], figure=fig)\ngs.update(left=0.09, right=0.98, bottom=0.07, top=0.95, hspace=0.13)\ngs_plots = gs[1].subgridspec(2, 2, hspace=0.05, wspace=0.05)\n#\nfor i, (quantity, cmap, norm) in enumerate(zip(quantities, cmaps, norms)):\n    for j, (var1, var2) in enumerate(couples):\n        ax = plt.subplot(gs_plots[i, j])\n        ax.set_xscale('log')\n        ax.set_yscale('log')\n        #\n        # #### binning data\n        bin1 = np.logspace(np.floor(np.log10(numbers[var1][mask].min())), np.ceil(np.log10(numbers[var1][mask].max())), 50)\n        bin2 = np.logspace(np.floor(np.log10(numbers[var2][mask].min())), np.ceil(np.log10(numbers[var2][mask].max())), 50)\n        counts, x_edge, y_edge, _ = binned_statistic_2d(numbers[var1][mask], numbers[var2][mask], quantity[mask], statistic='count', bins=[bin1, bin2])\n        average, x_edge, y_edge, _ = binned_statistic_2d(numbers[var1][mask], numbers[var2][mask], quantity[mask], statistic='mean', bins=[bin1, bin2])\n        x_center = x_edge[:-1] + (x_edge[1] - x_edge[0])/2\n        y_center = y_edge[:-1] + (y_edge[1] - y_edge[0])/2\n        # #### making plot\n        a = plt.pcolormesh(x_edge, y_edge, average.T, norm=norm, snap=True, cmap=cmap)\n        #\n        # #### updating transparency\n        log_counts = np.log10(counts)\n        log_counts[np.abs(log_counts) == np.inf] = 0\n        alpha_array = (log_counts/log_counts_max)\n        fig.canvas.draw()\n        colors = a.get_facecolor()\n        colors[:, 3] = alpha_array.T.flatten()\n        a.set_facecolor(rgba_to_rgb(colors))\n        fig.canvas.draw()\n        #\n        ax.set_xlim(lims[var1])\n        ax.set_ylim(lims[var2])\n        if i > 0:\n            plt.xlabel(ax_labels[var1])\n        else:\n            ax.set_xticklabels([])\n        #\n        if j == 0:\n            plt.ylabel(ax_labels[var2])\n        else:\n            ax.set_yticklabels([])\n\n# #### colorbars\ngs_colorbars = gs[0].subgridspec(2, 1, hspace=1)\ngs_colorbars_top = gs_colorbars[0].subgridspec(2, 1, hspace=0.3)\ngs_colorbars_bottom = gs_colorbars[1].subgridspec(2, 1, hspace=0.3)\n# colorbar color\nfor i, (norm, label, cmap) in enumerate(zip(norms, cbar_labels, cmaps)):\n    sm = plt.cm.ScalarMappable(cmap=cmap, norm=norm)\n    cb = fig.colorbar(sm, cax=plt.subplot(gs_colorbars_top[i]), orientation='horizontal')\n    cb.set_label(label)\n    if i == 0:\n        cb.ax.xaxis.set_ticks_position('top')\n        cb.ax.xaxis.set_label_position('top')\n\n# colorbar transparency\nncolors = 100\nfor i, perc in enumerate([0, 0.99]):\n    color_array = np.zeros((ncolors, 4))\n    color_array[:, -1] = np.linspace(0, 1, ncolors)\n    color_array[:, :-1] = plt.get_cmap('viridis')(perc)[:-1]\n    color_array = rgba_to_rgb(color_array)\n    #\n    map_object = mpcolors.LinearSegmentedColormap.from_list(name='cmap_alpha', colors=color_array)\n    norm = mpcolors.Normalize(vmin=0, vmax=log_counts_max)\n    sm = plt.cm.ScalarMappable(cmap=map_object, norm=norm)\n    sm.set_array([])\n    cb = plt.colorbar(sm, cax=plt.subplot(gs_colorbars_bottom[i]), orientation='horizontal', ticks=[0, 1, 2, 3])\n    cb.solids.set_edgecolor(\"face\")\n    if i < 1:\n        cb.set_ticklabels([])\n    else:\n        cb.ax.xaxis.set_major_formatter(mticker.FuncFormatter(log_tick_formatter))\n        cb.ax.xaxis.set_major_locator(mticker.MaxNLocator(integer=True))\n        cb.set_label(r'$\\textup{N}_{\\textup{points}}$', labelpad=0)\n\nplt.savefig(os.path.join(path_savefig, 'regime_diagrams_binned.pdf'))\nplt.show()"
      ]
    },
    {
      "cell_type": "markdown",
      "metadata": {},
      "source": [
        "## Plotting the 3D scatter plot\n\n"
      ]
    },
    {
      "cell_type": "code",
      "execution_count": null,
      "metadata": {
        "collapsed": false
      },
      "outputs": [],
      "source": [
        "fig = plt.figure(figsize=(theme.fig_width, theme.fig_width))\nax = fig.add_subplot(projection='3d')\nax.scatter(np.log10(numbers['Froude'][plot_idx]), np.log10(numbers['kH'][plot_idx]), np.log10(numbers['kLB'][plot_idx]), s=5, c=delta_angle[plot_idx], lw=0, rasterized=True, vmin=0, vmax=70, cmap='plasma')\nax.set_xlabel(ax_labels['Froude'][15:])\nax.set_ylabel(ax_labels['kH'])\nax.set_zlabel(ax_labels['kLB'])\n#\nax.xaxis.set_major_formatter(mticker.FuncFormatter(log_tick_formatter))\nax.xaxis.set_major_locator(mticker.MaxNLocator(integer=True))\nax.yaxis.set_major_formatter(mticker.FuncFormatter(log_tick_formatter))\nax.yaxis.set_major_locator(mticker.MaxNLocator(integer=True))\nax.zaxis.set_major_formatter(mticker.FuncFormatter(log_tick_formatter))\nax.zaxis.set_major_locator(mticker.MaxNLocator(integer=True))\n#\nax.view_init(elev=34, azim=-108)\nplt.subplots_adjust(left=0.05, right=1, bottom=0.05, top=1)\nplt.savefig(os.path.join(path_savefig, 'regime_diagram_3d.pdf'))\nplt.show()"
      ]
    }
  ],
  "metadata": {
    "kernelspec": {
      "display_name": "Python 3",
      "language": "python",
      "name": "python3"
    },
    "language_info": {
      "codemirror_mode": {
        "name": "ipython",
        "version": 3
      },
      "file_extension": ".py",
      "mimetype": "text/x-python",
      "name": "python",
      "nbconvert_exporter": "python",
      "pygments_lexer": "ipython3",
      "version": "3.8.5"
    }
  },
  "nbformat": 4,
  "nbformat_minor": 0
}