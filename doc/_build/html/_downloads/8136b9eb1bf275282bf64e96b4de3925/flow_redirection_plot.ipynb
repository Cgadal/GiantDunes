{
  "cells": [
    {
      "cell_type": "code",
      "execution_count": null,
      "metadata": {
        "collapsed": false
      },
      "outputs": [],
      "source": [
        "%matplotlib inline"
      ]
    },
    {
      "cell_type": "markdown",
      "metadata": {},
      "source": [
        "\n# Theoretical flow redirection\n"
      ]
    },
    {
      "cell_type": "code",
      "execution_count": null,
      "metadata": {
        "collapsed": false
      },
      "outputs": [],
      "source": [
        "import numpy as np\nimport matplotlib.pyplot as plt\nimport os\nimport sys\nsys.path.append('../../')\nfrom python_codes.general import cosd, sind\nfrom python_codes.linear_theory import Cisaillement_basal\nimport python_codes.theme as theme\ntheme.load_style()\n\n\ndef topo(x, y, alpha, k, xi):\n    return xi*np.cos(k*(cosd(alpha)*x + sind(alpha)*y))\n\n\n# Paths\npath_savefig = '../../static/output_data/figures/'\n\n# #### Parameters\n# First parameter -- k*Xi*sqrt(A**2 + B**2)\nmod = np.logspace(-2.1, -0.1, 50)\nAR = 0.05\nA0 = mod/AR\nB0 = 0\n# Second parameter -- dune orientation\nalpha = np.linspace(0, 90, 50)\n\n# #### Calculating basal shear stress\nx = np.linspace(0, 2*np.pi, 100)\ny = np.linspace(0, 2*np.pi, 100)\n#\nTAU = Cisaillement_basal(x[None, :, None, None], y[:, None, None, None], alpha[None, None, :, None],\n                         A0[None, None, None, :], B0, AR)\n#\n# Calculating maximum redirection\nTHETA = np.abs(np.arctan2(TAU[1], TAU[0])).max(axis=(0, 1))*180/np.pi\n\n\n# #### Figure\nfig, axs = plt.subplots(2, 1, figsize=(theme.fig_width, 0.93*theme.fig_width), constrained_layout=True)\na = axs[0].contourf(mod, alpha, THETA, levels=50)\naxs[0].set_xscale('log')\naxs[0].set_xlabel(r'$k \\xi \\sqrt{A_{0}^{2} + B_{0}^{2}}$')\naxs[0].set_ylabel(r'Dune orientation, $\\alpha$')\nfig.colorbar(a, label='Flow deviation [deg.]', ax=axs[0])\n#\nx = np.linspace(-12, 12, 1000)\ny = np.linspace(-6, 6, 1000)\nX, Y = np.meshgrid(x, y)\nalpha = 45  # dune orientation, degrees\nk = 1  # shear stress calculated with non dimensional positions\nAR = 0.05\nB0 = 2\nskip = (slice(None, None, 50), slice(None, None, 50))\ncnt = axs[1].contourf(x, y, topo(X, Y, alpha, k, AR), levels=100, vmin=-(AR + 0.06), vmax=AR + 0.02, zorder=-5)\nfor c in cnt.collections:\n    c.set_edgecolor(\"face\")\nfor A0 in [19.5]:\n    TAU = Cisaillement_basal(X, Y, alpha, A0, B0, AR)\n    axs[1].quiver(X[skip], Y[skip], TAU[0][skip], TAU[1][skip], color='grey')\n    axs[1].streamplot(X, Y, TAU[0], TAU[1], color=np.sqrt(TAU[0]**2 + TAU[1]**2), cmap='inferno', density=50, start_points=[[-4, 4]])\nfig.colorbar(cnt, label=r'Bed elevation $k \\xi$', ax=axs[1])\naxs[1].set_xlabel('$x$')\naxs[1].set_ylabel('$y$')\naxs[1].set_aspect('equal')\n#\nplt.savefig(os.path.join(path_savefig, 'theoretical_flow_redirection.pdf'))\nplt.show()"
      ]
    }
  ],
  "metadata": {
    "kernelspec": {
      "display_name": "Python 3",
      "language": "python",
      "name": "python3"
    },
    "language_info": {
      "codemirror_mode": {
        "name": "ipython",
        "version": 3
      },
      "file_extension": ".py",
      "mimetype": "text/x-python",
      "name": "python",
      "nbconvert_exporter": "python",
      "pygments_lexer": "ipython3",
      "version": "3.8.5"
    }
  },
  "nbformat": 4,
  "nbformat_minor": 0
}