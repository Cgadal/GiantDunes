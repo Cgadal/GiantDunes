{
  "cells": [
    {
      "cell_type": "code",
      "execution_count": null,
      "metadata": {
        "collapsed": false
      },
      "outputs": [],
      "source": [
        "%matplotlib inline"
      ]
    },
    {
      "cell_type": "markdown",
      "metadata": {},
      "source": [
        "\n# Plot the parameter space exploration of the hydrodyanamic coefficients\n"
      ]
    },
    {
      "cell_type": "code",
      "execution_count": null,
      "metadata": {
        "collapsed": false
      },
      "outputs": [],
      "source": [
        "import numpy as np\nimport matplotlib.pyplot as plt\nfrom matplotlib.colors import TwoSlopeNorm, SymLogNorm\nfrom scipy.ndimage import gaussian_filter\nimport os\nimport sys\nsys.path.append('../../')\nimport python_codes.theme as theme\ntheme.load_style()\n\n# Paths\npath_outputdata = '../../static/output_data/data/'\n\n# Loading parameter space exploration\nDic = np.load(os.path.join(path_outputdata, 'parameter_exploration_hydro_coeff.npy'), allow_pickle=True).item()"
      ]
    },
    {
      "cell_type": "markdown",
      "metadata": {},
      "source": [
        "## Plane (Froude - kH)\n\n"
      ]
    },
    {
      "cell_type": "code",
      "execution_count": null,
      "metadata": {
        "collapsed": false
      },
      "outputs": [],
      "source": [
        "hydro_coeffs = Dic[('Froude', 'kH')]['hydro_coeffs']\n\n# #### figure\nquantities = [hydro_coeffs[0, :, :], hydro_coeffs[1, :, :],\n              np.linalg.norm(hydro_coeffs, axis=0), np.arctan2(hydro_coeffs[1, :, :], hydro_coeffs[0, :, :])]\nlabels = [r'$\\mathcal{A}_{0}$', r'$\\mathcal{B}_{0}$', r'$\\sqrt{\\mathcal{A}_{0}^{2} + \\mathcal{B}_{0}^{2}}$',\n          r'$\\textup{arctan}\\left(\\mathcal{B}_{0}/\\mathcal{A}_{0}\\right)$']\n#\nfig, axs = plt.subplots(2, 2, figsize=(theme.fig_width, 0.8*theme.fig_width), constrained_layout=True)\nfor i, (ax, label, quantity) in enumerate(zip(axs.flatten(), labels, quantities)):\n    smoothed = gaussian_filter(quantity, 5)\n    if i in [0, 2]:\n        cmap = 'viridis'\n        norm = None\n    else:\n        cmap = 'seismic'\n        norm = TwoSlopeNorm(vcenter=0, vmin=smoothed.min(), vmax=smoothed.max())\n    cnt = ax.contourf(Dic['Froude_vals'], Dic['kH_vals'], smoothed, levels=100, norm=norm, cmap=cmap)\n    for c in cnt.collections:\n        c.set_edgecolor(\"face\")\n    fig.colorbar(cnt, ax=ax, label=label)\n    ax.set_xscale('log')\n    ax.set_yscale('log')\n    if i in [0, 2]:\n        ax.set_ylabel(r'$k H$')\n    else:\n        ax.set_yticklabels([])\n    if i in [2, 3]:\n        ax.set_xlabel(r'Froude number, $\\rho U/\\sqrt{\\Delta\\rho g H}$')\n    else:\n        ax.set_xticklabels([])\nplt.show()"
      ]
    },
    {
      "cell_type": "markdown",
      "metadata": {},
      "source": [
        "## Plane (kLB - kH)\n\n"
      ]
    },
    {
      "cell_type": "code",
      "execution_count": null,
      "metadata": {
        "collapsed": false
      },
      "outputs": [],
      "source": [
        "hydro_coeffs = Dic[('kLB', 'kH')]['hydro_coeffs']\n\n# #### figure\nquantities = [hydro_coeffs[0, :, :], hydro_coeffs[1, :, :],\n              np.linalg.norm(hydro_coeffs, axis=0), np.arctan2(hydro_coeffs[1, :, :], hydro_coeffs[0, :, :])]\nlabels = [r'$\\mathcal{A}_{0}$', r'$\\mathcal{B}_{0}$', r'$\\sqrt{\\mathcal{A}_{0}^{2} + \\mathcal{B}_{0}^{2}}$',\n          r'$\\textup{arctan}\\left(\\mathcal{B}_{0}/\\mathcal{A}_{0}\\right)$']\n#\nfig, axs = plt.subplots(2, 2, figsize=(theme.fig_width, 0.8*theme.fig_width), constrained_layout=True)\nfor i, (ax, label, quantity) in enumerate(zip(axs.flatten(), labels, quantities)):\n    smoothed = gaussian_filter(quantity, 5)\n    if i in [0, 2]:\n        cmap = 'viridis'\n        norm = None\n    else:\n        cmap = 'seismic'\n        norm = TwoSlopeNorm(vcenter=0, vmin=smoothed.min(), vmax=smoothed.max())\n    cnt = ax.contourf(Dic['kLB_vals'], Dic['kH_vals'], smoothed, levels=100, norm=norm, cmap=cmap)\n    for c in cnt.collections:\n        c.set_edgecolor(\"face\")\n    fig.colorbar(cnt, ax=ax, label=label)\n    ax.set_xscale('log')\n    ax.set_yscale('log')\n    if i in [0, 2]:\n        ax.set_ylabel(r'$k H$')\n    else:\n        ax.set_yticklabels([])\n    if i in [2, 3]:\n        ax.set_xlabel(r'$k L_{\\textup{B}}$')\n    else:\n        ax.set_xticklabels([])\nplt.show()"
      ]
    },
    {
      "cell_type": "markdown",
      "metadata": {},
      "source": [
        "## Plane (Froude - kLB)\n\n"
      ]
    },
    {
      "cell_type": "code",
      "execution_count": null,
      "metadata": {
        "collapsed": false
      },
      "outputs": [],
      "source": [
        "hydro_coeffs = Dic[('Froude', 'kLB')]['hydro_coeffs']\n\n# #### figure\nquantities = [hydro_coeffs[0, :, :], hydro_coeffs[1, :, :],\n              np.linalg.norm(hydro_coeffs, axis=0), np.arctan2(hydro_coeffs[1, :, :], hydro_coeffs[0, :, :])]\nlabels = [r'$\\mathcal{A}_{0}$', r'$\\mathcal{B}_{0}$', r'$\\sqrt{\\mathcal{A}_{0}^{2} + \\mathcal{B}_{0}^{2}}$',\n          r'$\\textup{arctan}\\left(\\mathcal{B}_{0}/\\mathcal{A}_{0}\\right)$']\n#\nfig, axs = plt.subplots(2, 2, figsize=(theme.fig_width, 0.8*theme.fig_width), constrained_layout=True)\nfor i, (ax, label, quantity) in enumerate(zip(axs.flatten(), labels, quantities)):\n    smoothed = gaussian_filter(quantity, 5)\n    if i in [0, 2]:\n        cmap = 'viridis'\n        norm = None\n    else:\n        cmap = 'seismic'\n        norm = TwoSlopeNorm(vcenter=0, vmin=smoothed.min(), vmax=smoothed.max())\n    cnt = ax.contourf(Dic['Froude_vals'], Dic['kLB_vals'], smoothed, levels=100, norm=norm, cmap=cmap)\n    for c in cnt.collections:\n        c.set_edgecolor(\"face\")\n    fig.colorbar(cnt, ax=ax, label=label)\n    ax.set_xscale('log')\n    ax.set_yscale('log')\n    if i in [0, 2]:\n        ax.set_ylabel(r'$k L_{\\textup{B}}$')\n    else:\n        ax.set_yticklabels([])\n    if i in [2, 3]:\n        ax.set_xlabel(r'Froude number, $\\rho U/\\sqrt{\\Delta\\rho g H}$')\n    else:\n        ax.set_xticklabels([])\nplt.show()"
      ]
    }
  ],
  "metadata": {
    "kernelspec": {
      "display_name": "Python 3",
      "language": "python",
      "name": "python3"
    },
    "language_info": {
      "codemirror_mode": {
        "name": "ipython",
        "version": 3
      },
      "file_extension": ".py",
      "mimetype": "text/x-python",
      "name": "python",
      "nbconvert_exporter": "python",
      "pygments_lexer": "ipython3",
      "version": "3.8.5"
    }
  },
  "nbformat": 4,
  "nbformat_minor": 0
}