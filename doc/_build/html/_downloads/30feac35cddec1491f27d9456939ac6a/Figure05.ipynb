{
  "cells": [
    {
      "cell_type": "code",
      "execution_count": null,
      "metadata": {
        "collapsed": false
      },
      "outputs": [],
      "source": [
        "%matplotlib inline"
      ]
    },
    {
      "cell_type": "markdown",
      "metadata": {},
      "source": [
        "\n# Figure 5\n"
      ]
    },
    {
      "cell_type": "code",
      "execution_count": null,
      "metadata": {
        "collapsed": false
      },
      "outputs": [],
      "source": [
        "import numpy as np\nimport matplotlib.pyplot as plt\nimport matplotlib.colors as mpcolors\nimport sys\nimport os\nsys.path.append('../')\nimport python_codes.theme as theme\nfrom python_codes.general import smallestSignedAngleBetween, find_mode_distribution\nfrom python_codes.plot_functions import plot_regime_diagram\n\n# Loading figure theme\ntheme.load_style()\n\n# paths\npath_imgs = '../static/images/'\npath_savefig = '../Paper/Figures'\npath_outputdata = '../static/data/processed_data'\n\n# ##### Loading meteo data\nData = np.load(os.path.join(path_outputdata, 'Data_final.npy'), allow_pickle=True).item()\nStations = ['South_Namib_Station', 'Deep_Sea_Station']\n\n# #### Computing quantities\n\nOrientation_era = np.concatenate([Data[station]['Orientation_era'] for station in Stations])\nOrientation_insitu = np.concatenate([Data[station]['Orientation_insitu'] for station in Stations])\nU_era = np.concatenate([Data[station]['U_star_era'] for station in Stations])\nU_insitu = np.concatenate([Data[station]['U_star_insitu'] for station in Stations])\nnumbers = {key: np.concatenate([Data[station][key] for station in Stations]) for key in ('Froude', 'kH', 'kLB')}\n#\nDelta = smallestSignedAngleBetween(Orientation_era, Orientation_insitu)\nmode_delta = np.array([find_mode_distribution(Delta, i) for i in np.arange(150, 350)]).mean()\ndelta_angle = np.abs(Delta)\ndelta_u = (U_era - U_insitu)/U_era\n\n# #### Figure parameters\nlims = {'Froude': (5.8e-3, 450), 'kLB': (0.009, 7.5), 'kH': (2.2e-2, 10.8)}\ncmaps = [theme.cmap_delta_theta, theme.cmap_delta_u]\nnorms = [mpcolors.Normalize(vmin=0, vmax=99),\n         mpcolors.TwoSlopeNorm(vmin=-3, vcenter=0, vmax=1)]\ncbar_labels = [r'$\\delta_{\\theta}$ [deg.]', r'$\\delta_{u}$']\nquantities = [delta_angle, delta_u]\nlabels = [r'\\textbf{a}', r'\\textbf{b}']\ncbticks = [[0, 25, 50, 75], [-3, -1.5, 0, 0.5, 1]]\n\nmask = ~np.isnan(numbers['Froude'])\nlog_counts_max = np.log10(2230)\n\nvar1, var2 = 'Froude', 'kH'\nxlabel = r'$\\mathcal{F} =  U/\\sqrt{(\\Delta\\rho/\\rho_{0}) g H}$'\n\n# #### Figure\nfig, axarr = plt.subplots(1, 2, figsize=(theme.fig_width, 0.375*theme.fig_height_max),\n                          constrained_layout=True)\n\nfor i, (ax, quantity, cmap, norm, cbtick) in enumerate(zip(axarr.flatten(),\n                                                           quantities, cmaps, norms,\n                                                           cbticks)):\n    ylabel = '$k H$' if i == 0 else None\n    #\n    vars = [numbers[var1][mask], numbers[var2][mask]]\n    lims_list = [lims[var1], lims[var2]]\n    #\n    bin1 = np.logspace(np.floor(np.log10(numbers[var1][mask].min())), np.ceil(np.log10(numbers[var1][mask].max())), 50)\n    bin2 = np.logspace(np.floor(np.log10(numbers[var2][mask].min())), np.ceil(np.log10(numbers[var2][mask].max())), 50)\n    bins = [bin1, bin2]\n    a = plot_regime_diagram(ax, quantity[mask], vars, lims_list, xlabel, ylabel, bins=bins, norm=norm, cmap=cmap, type='binned')\n    #\n    ax.text(0.04, 0.94, labels[i], transform=ax.transAxes, ha='left', va='center')\n    #\n    # regime lines\n    ax.axvline(0.4, color=theme.regime_line_color, linestyle='--', lw=2)\n    ax.axhline(0.32, color=theme.regime_line_color, linestyle='--', lw=2)\n    #\n    # colorbar\n    sm = plt.cm.ScalarMappable(cmap=cmap, norm=norm)\n    cb = plt.colorbar(sm, ax=ax, location='top', ticks=cbtick)\n    cb.set_label(cbar_labels[i])\n\nplt.savefig(os.path.join(path_savefig, 'Figure5.pdf'))\nplt.show()"
      ]
    }
  ],
  "metadata": {
    "kernelspec": {
      "display_name": "Python 3",
      "language": "python",
      "name": "python3"
    },
    "language_info": {
      "codemirror_mode": {
        "name": "ipython",
        "version": 3
      },
      "file_extension": ".py",
      "mimetype": "text/x-python",
      "name": "python",
      "nbconvert_exporter": "python",
      "pygments_lexer": "ipython3",
      "version": "3.8.10"
    }
  },
  "nbformat": 4,
  "nbformat_minor": 0
}