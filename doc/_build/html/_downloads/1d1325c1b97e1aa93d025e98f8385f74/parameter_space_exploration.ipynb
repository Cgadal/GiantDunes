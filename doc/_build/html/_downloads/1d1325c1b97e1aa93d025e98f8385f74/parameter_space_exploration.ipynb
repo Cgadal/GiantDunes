{
  "cells": [
    {
      "cell_type": "code",
      "execution_count": null,
      "metadata": {
        "collapsed": false
      },
      "outputs": [],
      "source": [
        "%matplotlib inline"
      ]
    },
    {
      "cell_type": "markdown",
      "metadata": {},
      "source": [
        "\n# Parameter space exploration for the hydrodyanmic coefficients\n\nIn this script, we derive the basal shear stress coefficients across the entire 3D space of non-dimensional parameters $(k H, Fr, k U/N)$.\n\n<div class=\"alert alert-info\"><h4>Note</h4><p>The parameter space exploration takes a certain amount of times to run, and as such is separated from the plotting of the results.</p></div>\n"
      ]
    },
    {
      "cell_type": "code",
      "execution_count": null,
      "metadata": {
        "collapsed": false
      },
      "outputs": [],
      "source": [
        "import numpy as np\nimport os\nimport sys\nsys.path.append('../../')\nfrom python_codes.linear_theory import calculate_solution\n\n# Paths\npath_outputdata = '../../static/output_data/data/'\n\n# Importing non-dimensional numbers calculated\nData = np.load(os.path.join(path_outputdata, 'Data_final.npy'), allow_pickle=True).item()\nStations = ['South_Namib_Station', 'Deep_Sea_Station']\nnumbers = {key: np.concatenate([Data[station][key] for station in Stations]) for key in ('Froude', 'kH', 'kLB')}\n\n# ##### Loading pattern characteristics\nData_pattern = {}\nfor station in ['Deep_Sea_Station', 'South_Namib_Station']:\n    Data_pattern[station] = np.load(os.path.join(path_outputdata, 'Analysis_DEM_' + station + '.npy'), allow_pickle=True).item()\n\n# Parameters\nKappa = 0.4  # Von K\u00e0rm\u00e0n constant\nk = 2*np.pi/np.mean([Data_pattern[station]['wavelength']*1e3 for station in Stations])  # mean wavelength [m]\nz0 = 1e-3  # hydrodynamic roughness, [m]\neta_0 = k*1e-3\neta = 0  # non dimensional position where to calculate the solution (bottom)\n\n# Parameter space\nNpoints = 50\nDic = {}\nDic['kH_vals'] = np.logspace(-2, 1.1, Npoints)\nDic['Froude_vals'] = np.logspace(-2.3, 2.5, Npoints)\nDic['kLB_vals'] = np.logspace(-2.1, 1, Npoints)\n#\nDic[('Froude', 'kH', 'kLB')] = {}\nDic[('Froude', 'kH', 'kLB')]['hydro_coeffs'] = np.zeros((2, Npoints, Npoints, Npoints))\n#\nfor i, Fr in enumerate(Dic['Froude_vals']):\n    print(i)\n    for j, eta_H in enumerate(Dic['kH_vals']):\n        for k, eta_B in enumerate(Dic['kLB_vals']):\n            max_z = 0.9999*eta_H\n            Sol = calculate_solution(eta, eta_H, eta_0, eta_B, Fr, max_z, Kappa=Kappa)\n            #\n            Ax, Bx = np.real(Sol[2]), np.imag(Sol[2])\n            Dic[('Froude', 'kH', 'kLB')]['hydro_coeffs'][:, i, j, k] = [Ax, Bx]\n#\nnp.save(os.path.join(path_outputdata, 'parameter_exploration_hydro_coeff_3D.npy'), Dic)"
      ]
    }
  ],
  "metadata": {
    "kernelspec": {
      "display_name": "Python 3",
      "language": "python",
      "name": "python3"
    },
    "language_info": {
      "codemirror_mode": {
        "name": "ipython",
        "version": 3
      },
      "file_extension": ".py",
      "mimetype": "text/x-python",
      "name": "python",
      "nbconvert_exporter": "python",
      "pygments_lexer": "ipython3",
      "version": "3.8.5"
    }
  },
  "nbformat": 4,
  "nbformat_minor": 0
}