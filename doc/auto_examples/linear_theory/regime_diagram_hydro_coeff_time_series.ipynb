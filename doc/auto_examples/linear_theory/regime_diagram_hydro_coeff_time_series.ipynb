{
  "cells": [
    {
      "cell_type": "code",
      "execution_count": null,
      "metadata": {
        "collapsed": false
      },
      "outputs": [],
      "source": [
        "%matplotlib inline"
      ]
    },
    {
      "cell_type": "markdown",
      "metadata": {},
      "source": [
        "\n# Plot theoretical regime diagrams from the time series\n"
      ]
    },
    {
      "cell_type": "code",
      "execution_count": null,
      "metadata": {
        "collapsed": false
      },
      "outputs": [],
      "source": [
        "import numpy as np\nimport matplotlib.pyplot as plt\nimport matplotlib.gridspec as gridspec\nimport matplotlib.ticker as mticker\nimport matplotlib.colors as mpcolors\nimport os\nimport sys\nsys.path.append('../../')\nfrom python_codes.linear_theory import Cisaillement_basal\nfrom python_codes.plot_functions import log_tick_formatter, plot_regime_diagram\nimport python_codes.theme as theme\ntheme.load_style()\n\n\n# Paths\npath_savefig = '../../static/output_data/figures/'\npath_outputdata = '../../static/output_data/data/'\n\n# ##### Loading meteo data\nData = np.load(os.path.join(path_outputdata, 'Data_final.npy'), allow_pickle=True).item()\n\n# ##### Loading time series of hydrodyamic coefficients\nData_coeff = np.load(os.path.join(path_outputdata, 'time_series_hydro_coeffs.npy'))\n\n# ##### Loading pattern characteristics\nData_pattern = {}\nfor station in ['Deep_Sea_Station', 'South_Namib_Station']:\n    Data_pattern[station] = np.load(os.path.join(path_outputdata, 'Analysis_DEM_' + station + '.npy'), allow_pickle=True).item()\n\n\nStations = ['South_Namib_Station', 'Deep_Sea_Station']\n# Stations = ['South_Namib_Station']"
      ]
    },
    {
      "cell_type": "markdown",
      "metadata": {},
      "source": [
        "## Plotting the regime diagrams for the modulus -- scatter plots\n\n"
      ]
    },
    {
      "cell_type": "code",
      "execution_count": null,
      "metadata": {
        "collapsed": false
      },
      "outputs": [],
      "source": [
        "numbers = {key: np.concatenate([Data[station][key] for station in Stations]) for key in ('Froude', 'kH', 'kLB')}\nmodulus = np.linalg.norm(Data_coeff, axis=0)\n# phase = np.arctan2(Data_coeff[1], Data_coeff[0])\n#\nax_labels = {'Froude': r'Froude number, $\\rho U/\\sqrt{\\Delta\\rho g H}$', 'kH': '$k H$', 'kLB': r'$k U/N$'}\nlims = {'Froude': (5.8e-3, 450), 'kLB': (0.009, 7.5), 'kH': (2.2e-2, 10.8)}\ncouples = [('Froude', 'kH'), ('kLB', 'kH')]\nmask = ~np.isnan(modulus)\nplot_idx = np.random.permutation(np.arange(modulus[mask].size))  # to plot the points of the scatter plot in random order\n#\nfig = plt.figure(figsize=(theme.fig_width, 0.7*theme.fig_width))\ngs = gridspec.GridSpec(2, 1, height_ratios=[0.04, 1], figure=fig)\ngs.update(left=0.09, right=0.98, bottom=0.09, top=0.91, hspace=0.05)\ngs_plots = gs[1].subgridspec(1, 2, hspace=0.05, wspace=0.05)\n#\nfor i, (var1, var2) in enumerate(couples):\n    ax = plt.subplot(gs_plots[i])\n    vars = [numbers[var1][plot_idx], numbers[var2][plot_idx]]\n    cmap = 'viridis'\n    lims_list = [lims[var1], lims[var2]]\n    xlabel = ax_labels[var1]\n    ylabel = ax_labels[var2] if i == 0 else None\n    a = plot_regime_diagram(ax, modulus[plot_idx], vars, lims_list, xlabel, ylabel, vmin=0, vmax=20, cmap='plasma')\n    # a = plot_regime_diagram(ax, phase[plot_idx], vars, lims_list, xlabel, ylabel, cmap='plasma')\n\n# colorbar\ncb = fig.colorbar(a, cax=plt.subplot(gs[0]), orientation='horizontal')\ncb.set_label(r'$\\sqrt{\\mathcal{A}_{0}^{2} + \\mathcal{B}_{0}^{2}}$')\ncb.ax.xaxis.set_ticks_position('top')\ncb.ax.xaxis.set_label_position('top')\nplt.savefig(os.path.join(path_savefig, 'regime_diagrams_modulus.pdf'))\nplt.show()"
      ]
    },
    {
      "cell_type": "markdown",
      "metadata": {},
      "source": [
        "## Plotting the regime diagrams for the modulus -- binned plots\n\n"
      ]
    },
    {
      "cell_type": "code",
      "execution_count": null,
      "metadata": {
        "collapsed": false
      },
      "outputs": [],
      "source": [
        "log_counts_max = np.log10(2230)\n\nfig = plt.figure(figsize=(theme.fig_width, 0.7*theme.fig_width))\ngs = gridspec.GridSpec(2, 1, height_ratios=[0.04, 1], figure=fig)\ngs.update(left=0.09, right=0.98, bottom=0.09, top=0.91, hspace=0.05)\ngs_plots = gs[1].subgridspec(1, 2, hspace=0.05, wspace=0.05)\n#\nfor i, (var1, var2) in enumerate(couples):\n    ax = plt.subplot(gs_plots[i])\n    vars = [numbers[var1][mask], numbers[var2][mask]]\n    cmap = 'viridis'\n    lims_list = [lims[var1], lims[var2]]\n    xlabel = ax_labels[var1]\n    ylabel = ax_labels[var2] if i == 0 else None\n    #\n    bin1 = np.logspace(np.floor(np.log10(numbers[var1][mask].min())), np.ceil(np.log10(numbers[var1][mask].max())), 50)\n    bin2 = np.logspace(np.floor(np.log10(numbers[var2][mask].min())), np.ceil(np.log10(numbers[var2][mask].max())), 50)\n    bins = [bin1, bin2]\n    a = plot_regime_diagram(ax, modulus[mask], vars, lims_list, xlabel, ylabel, bins=bins, vmin=0, vmax=20, cmap='plasma', type='binned')\n\n# #### colorbar\ncb = fig.colorbar(a, cax=plt.subplot(gs[0]), orientation='horizontal')\ncb.set_label(r'$\\sqrt{\\mathcal{A}_{0}^{2} + \\mathcal{B}_{0}^{2}}$')\ncb.ax.xaxis.set_ticks_position('top')\ncb.ax.xaxis.set_label_position('top')\n\nplt.savefig(os.path.join(path_savefig, 'regime_diagrams_binned_modulus.pdf'))\nplt.show()"
      ]
    },
    {
      "cell_type": "markdown",
      "metadata": {},
      "source": [
        "## Plotting the 3D scatter plot\n\n"
      ]
    },
    {
      "cell_type": "code",
      "execution_count": null,
      "metadata": {
        "collapsed": false
      },
      "outputs": [],
      "source": [
        "fig = plt.figure(figsize=(theme.fig_width, theme.fig_width))\nax = fig.add_subplot(projection='3d')\nax.scatter(np.log10(numbers['Froude'][plot_idx]), np.log10(numbers['kH'][plot_idx]), np.log10(numbers['kLB'][plot_idx]), s=5, c=modulus[plot_idx], lw=0, rasterized=True, vmin=0, vmax=20, cmap='plasma')\nax.set_xlabel(ax_labels['Froude'][15:])\nax.set_ylabel(ax_labels['kH'])\nax.set_zlabel(ax_labels['kLB'])\n#\nax.xaxis.set_major_formatter(mticker.FuncFormatter(log_tick_formatter))\nax.xaxis.set_major_locator(mticker.MaxNLocator(integer=True))\nax.yaxis.set_major_formatter(mticker.FuncFormatter(log_tick_formatter))\nax.yaxis.set_major_locator(mticker.MaxNLocator(integer=True))\nax.zaxis.set_major_formatter(mticker.FuncFormatter(log_tick_formatter))\nax.zaxis.set_major_locator(mticker.MaxNLocator(integer=True))\n#\nax.view_init(elev=22, azim=-111)\nplt.subplots_adjust(left=0.05, right=1, bottom=0.05, top=1)\nplt.savefig(os.path.join(path_savefig, 'regime_diagram_3d_modulus.pdf'))\nplt.show()"
      ]
    },
    {
      "cell_type": "markdown",
      "metadata": {},
      "source": [
        "## Regime diagrams for the orientation/velocity -- scatter plots\n\n"
      ]
    },
    {
      "cell_type": "code",
      "execution_count": null,
      "metadata": {
        "collapsed": false
      },
      "outputs": [],
      "source": [
        "# #### Calculation of the predicted redirections and attenuation\nx = 0\n# time series of input variables\nOrientation_era = np.concatenate([Data[station]['Orientation_era'] for station in Stations])\nk = np.concatenate([np.zeros(Data[station]['Froude'].shape) + 2*np.pi/(Data_pattern[station]['wavelength']*1e3) for station in Stations])  # vector of wavelength [m]\nxi = np.concatenate([np.zeros(Data[station]['Froude'].shape) + Data_pattern[station]['amplitude'] for station in Stations])  # vector of wavelength [m]\nalphas_dune = np.concatenate([np.zeros(Data[station]['Froude'].shape) + Data_pattern[station]['orientation'] for station in Stations]) - 90  # vector of wavelength [m]\nalphas_th = ((alphas_dune - Orientation_era + 90) % 180) - 90\nA0, B0 = Data_coeff[0, :], Data_coeff[1, :]\ny = np.pi/np.sin(alphas_th*180/np.pi)  # to always be in between two dunes\n# Calculating maximum redirection\nTAU = Cisaillement_basal(x, y, alphas_dune, A0, B0, k*xi)\n#\ndelta_angle = np.abs(np.arctan2(TAU[1], TAU[0]))*180/np.pi\n# Calculating maximum relative difference\ndelta_u = 1 - np.linalg.norm(np.array(TAU), axis=0)\n\n# #### Plotting quantities\nquantities = [delta_angle, delta_u]\ncmaps = [theme.cmap_delta_theta, theme.cmap_delta_u]\ncbar_labels = [r'$\\delta_{\\theta}$ [deg.]', r'$\\delta_{u}$']\nnorms = [mpcolors.Normalize(vmin=0, vmax=7), mpcolors.TwoSlopeNorm(vmin=-2, vcenter=0, vmax=0.2)]\n#\nfig = plt.figure(figsize=(theme.fig_width, theme.fig_width))\ngs = gridspec.GridSpec(2, 1, height_ratios=[0.08, 1], figure=fig)\ngs.update(left=0.09, right=0.98, bottom=0.07, top=0.94, hspace=0.17)\ngs_plots = gs[1].subgridspec(2, 2, hspace=0.05, wspace=0.05)\n#\nfor i, (quantity, cmap, norm) in enumerate(zip(quantities, cmaps, norms)):\n    for j, (var1, var2) in enumerate(couples):\n        ax = plt.subplot(gs_plots[i, j])\n        vars = [numbers[var1][plot_idx], numbers[var2][plot_idx]]\n        lims_list = [lims[var1], lims[var2]]\n        xlabel = ax_labels[var1] if i > 0 else None\n        ylabel = ax_labels[var2] if j == 0 else None\n        a = plot_regime_diagram(ax, quantity[plot_idx], vars, lims_list, xlabel, ylabel, norm=norm, cmap=cmap)\n\n# #### colorbars\ngs_colorbars = gs[0].subgridspec(2, 1, hspace=0.3)\nfor i, (norm, label, cmap) in enumerate(zip(norms, cbar_labels, cmaps)):\n    sm = plt.cm.ScalarMappable(cmap=cmap, norm=norm)\n    cb = fig.colorbar(sm, cax=plt.subplot(gs_colorbars[i]), orientation='horizontal')\n    cb.set_label(label)\n    if i == 0:\n        cb.ax.xaxis.set_ticks_position('top')\n        cb.ax.xaxis.set_label_position('top')\n\nplt.savefig(os.path.join(path_savefig, 'regime_diagrams_predicted_scatter.pdf'))\nplt.show()"
      ]
    },
    {
      "cell_type": "markdown",
      "metadata": {},
      "source": [
        "## Regime diagrams for the orientation/velocity -- binned plots\n\n"
      ]
    },
    {
      "cell_type": "code",
      "execution_count": null,
      "metadata": {
        "collapsed": false
      },
      "outputs": [],
      "source": [
        "fig = plt.figure(figsize=(theme.fig_width, theme.fig_width))\ngs = gridspec.GridSpec(2, 1, height_ratios=[0.08, 1], figure=fig)\ngs.update(left=0.09, right=0.98, bottom=0.07, top=0.94, hspace=0.17)\ngs_plots = gs[1].subgridspec(2, 2, hspace=0.05, wspace=0.05)\n#\nfor i, (quantity, cmap, norm) in enumerate(zip(quantities, cmaps, norms)):\n    for j, (var1, var2) in enumerate(couples):\n        ax = plt.subplot(gs_plots[i, j])\n        vars = [numbers[var1][mask], numbers[var2][mask]]\n        lims_list = [lims[var1], lims[var2]]\n        xlabel = ax_labels[var1] if i > 0 else None\n        ylabel = ax_labels[var2] if j == 0 else None\n        #\n        bin1 = np.logspace(np.floor(np.log10(numbers[var1][mask].min())), np.ceil(np.log10(numbers[var1][mask].max())), 50)\n        bin2 = np.logspace(np.floor(np.log10(numbers[var2][mask].min())), np.ceil(np.log10(numbers[var2][mask].max())), 50)\n        bins = [bin1, bin2]\n        a = plot_regime_diagram(ax, quantity[mask], vars, lims_list, xlabel, ylabel, bins=bins, norm=norm, cmap=cmap, type='binned')\n\n# #### colorbars\ngs_colorbars = gs[0].subgridspec(2, 1, hspace=0.3)\nfor i, (norm, label, cmap) in enumerate(zip(norms, cbar_labels, cmaps)):\n    sm = plt.cm.ScalarMappable(cmap=cmap, norm=norm)\n    cb = fig.colorbar(sm, cax=plt.subplot(gs_colorbars[i]), orientation='horizontal')\n    cb.set_label(label)\n    if i == 0:\n        cb.ax.xaxis.set_ticks_position('top')\n        cb.ax.xaxis.set_label_position('top')\n\nplt.savefig(os.path.join(path_savefig, 'regime_diagrams_predicted_binned.pdf'))\nplt.show()"
      ]
    }
  ],
  "metadata": {
    "kernelspec": {
      "display_name": "Python 3",
      "language": "python",
      "name": "python3"
    },
    "language_info": {
      "codemirror_mode": {
        "name": "ipython",
        "version": 3
      },
      "file_extension": ".py",
      "mimetype": "text/x-python",
      "name": "python",
      "nbconvert_exporter": "python",
      "pygments_lexer": "ipython3",
      "version": "3.8.5"
    }
  },
  "nbformat": 4,
  "nbformat_minor": 0
}