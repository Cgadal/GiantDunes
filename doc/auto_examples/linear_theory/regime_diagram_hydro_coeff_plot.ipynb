{
  "cells": [
    {
      "cell_type": "code",
      "execution_count": null,
      "metadata": {
        "collapsed": false
      },
      "outputs": [],
      "source": [
        "%matplotlib inline"
      ]
    },
    {
      "cell_type": "markdown",
      "metadata": {},
      "source": [
        "\n# Plotting the regime diagrams from the sime series of the hydrodynamic coefficients\n"
      ]
    },
    {
      "cell_type": "code",
      "execution_count": null,
      "metadata": {
        "collapsed": false
      },
      "outputs": [],
      "source": [
        "import numpy as np\nimport matplotlib.pyplot as plt\nimport matplotlib.gridspec as gridspec\nimport matplotlib.ticker as mticker\nimport matplotlib.colors as mpcolors\nfrom scipy.stats import binned_statistic_2d\nimport os\nimport sys\nsys.path.append('../../')\nimport python_codes.theme as theme\nfrom python_codes.plot_functions import log_tick_formatter, rgba_to_rgb\ntheme.load_style()\n\n\n# Paths\npath_savefig = '../../static/output_data/figures/'\npath_outputdata = '../../static/output_data/data/'\n\n# ##### Loading meteo data\nData = np.load(os.path.join(path_outputdata, 'Data_final.npy'), allow_pickle=True).item()\n\n# ##### Loading time series of hydrodyamic coefficients\nData_coeff = np.load(os.path.join(path_outputdata, 'time_series_hydro_coeffs.npy'))\n\n# ##### Loading pattern characteristics\nData_pattern = {}\nfor station in ['Deep_Sea_Station', 'South_Namib_Station']:\n    Data_pattern[station] = np.load(os.path.join(path_outputdata, 'Analysis_DEM_' + station + '.npy'), allow_pickle=True).item()\n\n\nStations = ['South_Namib_Station', 'Deep_Sea_Station']\n# Stations = ['South_Namib_Station']\nk = np.concatenate([np.zeros(Data[station]['Froude'].shape) + 2*np.pi/(Data_pattern[station]['wavelength']*1e3) for station in Stations])  # vector of wavelength [m]\nxi = np.concatenate([np.zeros(Data[station]['Froude'].shape) + Data_pattern[station]['amplitude'] for station in Stations])  # vector of wavelength [m]"
      ]
    },
    {
      "cell_type": "markdown",
      "metadata": {},
      "source": [
        "## Plotting the 3 possible regime diagrams -- scatter plots\n\n"
      ]
    },
    {
      "cell_type": "code",
      "execution_count": null,
      "metadata": {
        "collapsed": false
      },
      "outputs": [],
      "source": [
        "numbers = {key: np.concatenate([Data[station][key] for station in Stations]) for key in ('Froude', 'kH', 'kLB')}\nmodulus = np.linalg.norm(Data_coeff, axis=0)\n#\nax_labels = {'Froude': r'Froude number, $\\rho U/\\sqrt{\\Delta\\rho g H}$', 'kH': '$k H$', 'kLB': r'$k L_{\\textup{B}}$'}\nlims = {'Froude': (5.8e-3, 450), 'kLB': (0.009, 7.5), 'kH': (2.2e-2, 10.8)}\ncouples = [('Froude', 'kH'), ('kLB', 'kH'), ('Froude', 'kLB')]\nmask = ~np.isnan(modulus)\nplot_idx = np.random.permutation(np.arange(modulus[mask].size))  # to plot the points of the scatter plot in random order\n#\nfig = plt.figure(figsize=(theme.fig_width, theme.fig_width))\ngs = gridspec.GridSpec(2, 1, height_ratios=[0.04, 1], figure=fig)\ngs.update(left=0.09, right=0.98, bottom=0.07, top=0.94, hspace=0.05)\ngs_plots = gs[1].subgridspec(2, 2, hspace=0.05, wspace=0.05)\n#\nfor i, (var1, var2) in enumerate(couples):\n    ax = plt.subplot(gs_plots[i])\n    ax.set_xscale('log')\n    ax.set_yscale('log')\n    a = plt.scatter(numbers[var1][plot_idx], numbers[var2][plot_idx], s=5, c=modulus[plot_idx], lw=0, rasterized=True, vmin=0, vmax=20, cmap='plasma')\n    # a = plt.scatter(numbers[var1][plot_idx], numbers[var2][plot_idx], s=5, color=colors[plot_idx], lw=0, rasterized=True, vmin=0, vmax=20, cmap='plasma')\n    ax.set_xlim(lims[var1])\n    ax.set_ylim(lims[var2])\n    if i in [0, 2]:\n        plt.ylabel(ax_labels[var2])\n    if i in [1, 2]:\n        plt.xlabel(ax_labels[var1])\n    if i == 0:\n        ax.set_xticklabels([])\n    if i == 1:\n        ax.set_yticklabels([])\n\n# colorbar\ncb = fig.colorbar(a, cax=plt.subplot(gs[0]), orientation='horizontal')\ncb.set_label(r'$\\sqrt{\\mathcal{A}_{0}^{2} + \\mathcal{B}_{0}^{2}}$')\ncb.ax.xaxis.set_ticks_position('top')\ncb.ax.xaxis.set_label_position('top')\nplt.savefig(os.path.join(path_savefig, 'regime_diagrams_hydro_coeff.pdf'))\nplt.show()"
      ]
    },
    {
      "cell_type": "markdown",
      "metadata": {},
      "source": [
        "## Plotting the 3 possible regime diagrams -- binned\n\n"
      ]
    },
    {
      "cell_type": "code",
      "execution_count": null,
      "metadata": {
        "collapsed": false
      },
      "outputs": [],
      "source": [
        "log_counts_max = np.log10(2230)\n\nfig = plt.figure(figsize=(np.round(theme.fig_width, 3), np.round(1.2*theme.fig_width, 3)))\ngs = gridspec.GridSpec(2, 1, height_ratios=[0.2, 1], figure=fig)\ngs.update(left=0.09, right=0.98, bottom=0.07, top=0.94, hspace=0.15)\ngs_plots = gs[1].subgridspec(2, 2, hspace=0.05, wspace=0.05)\n#\nfor i, (var1, var2) in enumerate(couples):\n    ax = plt.subplot(gs_plots[i])\n    ax.set_xscale('log')\n    ax.set_yscale('log')\n    #\n    # #### binning data\n    bin1 = np.logspace(np.floor(np.log10(numbers[var1][mask].min())), np.ceil(np.log10(numbers[var1][mask].max())), 50)\n    bin2 = np.logspace(np.floor(np.log10(numbers[var2][mask].min())), np.ceil(np.log10(numbers[var2][mask].max())), 50)\n    counts, x_edge, y_edge, _ = binned_statistic_2d(numbers[var1][mask], numbers[var2][mask], modulus[mask], statistic='count', bins=[bin1, bin2])\n    average, x_edge, y_edge, _ = binned_statistic_2d(numbers[var1][mask], numbers[var2][mask], modulus[mask], statistic='mean', bins=[bin1, bin2])\n    x_center = x_edge[:-1] + (x_edge[1] - x_edge[0])/2\n    y_center = y_edge[:-1] + (y_edge[1] - y_edge[0])/2\n    # #### making plot\n    X, Y = np.meshgrid(x_center, y_center)\n    a = plt.pcolormesh(x_edge, y_edge, average.T, vmax=20, snap=True)\n    #\n    # #### updating transparency\n    log_counts = np.log10(counts)\n    log_counts[np.abs(log_counts) == np.inf] = 0\n    alpha_array = (log_counts/log_counts_max)\n    fig.canvas.draw()\n    colors = a.get_facecolor()\n    colors[:, 3] = alpha_array.T.flatten()\n    a.set_facecolor(rgba_to_rgb(colors))\n    fig.canvas.draw()\n    #\n    ax.set_xlim(lims[var1])\n    ax.set_ylim(lims[var2])\n    if i in [0, 2]:\n        plt.ylabel(ax_labels[var2])\n    if i in [1, 2]:\n        plt.xlabel(ax_labels[var1])\n    if i == 0:\n        ax.set_xticklabels([])\n    if i == 1:\n        ax.set_yticklabels([])\n\n# #### colorbars color\ngs_colorbars = gs[0].subgridspec(4, 1, hspace=0.3)\n# colorbar color\nnorm = mpcolors.Normalize(vmin=0, vmax=20)\nsm = plt.cm.ScalarMappable(cmap='viridis', norm=norm)\ncb = fig.colorbar(sm, cax=plt.subplot(gs_colorbars[0]), orientation='horizontal')\ncb.set_label(r'$\\sqrt{\\mathcal{A}_{0}^{2} + \\mathcal{B}_{0}^{2}}$')\ncb.ax.xaxis.set_ticks_position('top')\ncb.ax.xaxis.set_label_position('top')\n# colorbar transparency\nncolors = 100\nfor i, perc in enumerate([0, 0.5, 0.99]):\n    color_array = np.zeros((ncolors, 4))\n    color_array[:, -1] = np.linspace(0, 1, ncolors)\n    color_array[:, :-1] = plt.get_cmap('viridis')(perc)[:-1]\n    color_array = rgba_to_rgb(color_array)\n    #\n    map_object = mpcolors.LinearSegmentedColormap.from_list(name='cmap_alpha', colors=color_array)\n    norm = mpcolors.Normalize(vmin=0, vmax=log_counts_max)\n    sm = plt.cm.ScalarMappable(cmap=map_object, norm=norm)\n    sm.set_array([])\n    cb = plt.colorbar(sm, cax=plt.subplot(gs_colorbars[i + 1]), orientation='horizontal', ticks=[0, 1, 2, 3])\n    cb.solids.set_edgecolor(\"face\")\n    if i < 2:\n        cb.set_ticklabels([])\n    else:\n        cb.ax.xaxis.set_major_formatter(mticker.FuncFormatter(log_tick_formatter))\n        cb.ax.xaxis.set_major_locator(mticker.MaxNLocator(integer=True))\n        cb.set_label(r'$\\textup{N}_{\\textup{points}}$', labelpad=0)\n\nplt.savefig(os.path.join(path_savefig, 'regime_diagrams_binned_hydro_coeff.pdf'))\nplt.show()"
      ]
    },
    {
      "cell_type": "markdown",
      "metadata": {},
      "source": [
        "## Plotting the 3D scatter plot\n\n"
      ]
    },
    {
      "cell_type": "code",
      "execution_count": null,
      "metadata": {
        "collapsed": false
      },
      "outputs": [],
      "source": [
        "fig = plt.figure(figsize=(theme.fig_width, theme.fig_width))\nax = fig.add_subplot(projection='3d')\nax.scatter(np.log10(numbers['Froude'][plot_idx]), np.log10(numbers['kH'][plot_idx]), np.log10(numbers['kLB'][plot_idx]), s=5, c=modulus[plot_idx], lw=0, rasterized=True, vmin=0, vmax=20, cmap='plasma')\nax.set_xlabel(ax_labels['Froude'][15:])\nax.set_ylabel(ax_labels['kH'])\nax.set_zlabel(ax_labels['kLB'])\n#\nax.xaxis.set_major_formatter(mticker.FuncFormatter(log_tick_formatter))\nax.xaxis.set_major_locator(mticker.MaxNLocator(integer=True))\nax.yaxis.set_major_formatter(mticker.FuncFormatter(log_tick_formatter))\nax.yaxis.set_major_locator(mticker.MaxNLocator(integer=True))\nax.zaxis.set_major_formatter(mticker.FuncFormatter(log_tick_formatter))\nax.zaxis.set_major_locator(mticker.MaxNLocator(integer=True))\n#\nax.view_init(elev=22, azim=-111)\nplt.subplots_adjust(left=0.05, right=1, bottom=0.05, top=1)\nplt.savefig(os.path.join(path_savefig, 'regime_diagram_3d_hydro_coeff.pdf'))\nplt.show()"
      ]
    }
  ],
  "metadata": {
    "kernelspec": {
      "display_name": "Python 3",
      "language": "python",
      "name": "python3"
    },
    "language_info": {
      "codemirror_mode": {
        "name": "ipython",
        "version": 3
      },
      "file_extension": ".py",
      "mimetype": "text/x-python",
      "name": "python",
      "nbconvert_exporter": "python",
      "pygments_lexer": "ipython3",
      "version": "3.8.5"
    }
  },
  "nbformat": 4,
  "nbformat_minor": 0
}