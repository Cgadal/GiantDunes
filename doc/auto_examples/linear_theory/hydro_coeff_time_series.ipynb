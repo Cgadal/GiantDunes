{
  "cells": [
    {
      "cell_type": "code",
      "execution_count": null,
      "metadata": {
        "collapsed": false
      },
      "outputs": [],
      "source": [
        "%matplotlib inline"
      ]
    },
    {
      "cell_type": "markdown",
      "metadata": {},
      "source": [
        "\n# Time series of the hydrodyanmic coefficients\n\nHere, we calculate the time series of the hydrodynamic coefficients from the time series of the non dimensional parameters extracted from the meteorological and elevation data.\n"
      ]
    },
    {
      "cell_type": "code",
      "execution_count": null,
      "metadata": {
        "collapsed": false
      },
      "outputs": [],
      "source": [
        "import numpy as np\nimport os\nimport sys\nsys.path.append('../../')\nfrom python_codes.linear_theory import calculate_solution\n\n\n# Paths\npath_outputdata = '../../static/output_data/data/'\n\n# Importing non-dimensional numbers calculated\nData = np.load(os.path.join(path_outputdata, 'Data_final.npy'), allow_pickle=True).item()\nStations = ['South_Namib_Station', 'Deep_Sea_Station']\nnumbers = {key: np.concatenate([Data[station][key] for station in Stations]) for key in ('Froude', 'kH', 'kLB')}\n\n# ##### Loading pattern characteristics\nData_pattern = {}\nfor station in ['Deep_Sea_Station', 'South_Namib_Station']:\n    Data_pattern[station] = np.load(os.path.join(path_outputdata, 'Analysis_DEM_' + station + '.npy'), allow_pickle=True).item()\n\n# Parameters\nKappa = 0.4  # Von K\u00e0rm\u00e0n constant\nk = np.concatenate([np.zeros(Data[station]['Froude'].shape) + 2*np.pi/(Data_pattern[station]['wavelength']*1e3) for station in Stations])  # vector of wavelength [m]\nz0 = 1e-3  # hydrodynamic roughness, [m]\neta_0_vals = k*1e-3\neta = 0  # non dimensional position where to calculate the solution (bottom)\n\nhydro_Coeffs = np.zeros((2, k.size))\n\nfor i, (eta_0, eta_H, Froude, eta_B) in enumerate(zip(eta_0_vals, numbers['kH'], numbers['Froude'], numbers['kLB'])):\n    max_z = 0.9999*eta_H\n    if not np.isnan([eta_H, Froude, eta_B]).any():\n        Sol = calculate_solution(eta, eta_H, eta_0, eta_B, Froude, max_z, Kappa=0.4)\n        #\n        Ax, Bx = np.real(Sol[2]), np.imag(Sol[2])\n    else:\n        Ax, Bx = np.nan, np.nan\n    hydro_Coeffs[:, i] = [Ax, Bx]\n#\nnp.save(os.path.join(path_outputdata, 'time_series_hydro_coeffs.npy'), hydro_Coeffs)"
      ]
    }
  ],
  "metadata": {
    "kernelspec": {
      "display_name": "Python 3",
      "language": "python",
      "name": "python3"
    },
    "language_info": {
      "codemirror_mode": {
        "name": "ipython",
        "version": 3
      },
      "file_extension": ".py",
      "mimetype": "text/x-python",
      "name": "python",
      "nbconvert_exporter": "python",
      "pygments_lexer": "ipython3",
      "version": "3.8.5"
    }
  },
  "nbformat": 4,
  "nbformat_minor": 0
}