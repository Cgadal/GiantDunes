{
  "cells": [
    {
      "cell_type": "code",
      "execution_count": null,
      "metadata": {
        "collapsed": false
      },
      "outputs": [],
      "source": [
        "%matplotlib inline"
      ]
    },
    {
      "cell_type": "markdown",
      "metadata": {},
      "source": [
        "\n# Figure 5\n"
      ]
    },
    {
      "cell_type": "code",
      "execution_count": null,
      "metadata": {
        "collapsed": false
      },
      "outputs": [],
      "source": [
        "import os\nimport sys\nimport locale\nimport calendar\nimport numpy as np\nimport matplotlib.pyplot as plt\nimport matplotlib.dates as mdates\nimport matplotlib.transforms as mtransforms\nfrom datetime import datetime, timedelta\nsys.path.append('../')\nimport python_codes.theme as theme\nfrom python_codes.general import smallestSignedAngleBetween\n\n\nlocale.setlocale(locale.LC_ALL, 'en_US.utf8')\n\n\ndef tick_formatter(ax, fmt='%d'):\n    myFmt = mdates.DateFormatter(fmt)\n    ax.xaxis.set_major_formatter(myFmt)\n    ticklabels = ax.get_xticklabels()\n    ticklabels[0].set_ha('left')\n\n\n# Loading figure theme\ntheme.load_style()\n\n# paths\npath_savefig = '../Paper/Figures'\npath_outputdata = '../static/data/processed_data/'\n\n# Loading wind data\nData = np.load(os.path.join(path_outputdata, 'Data_final.npy'), allow_pickle=True).item()\n\n# Figure properties\nvariables = ['U_star', 'Orientation']\nlabel_var = {'U_star': r'Velocity, $u_{*}~[\\textup{m}~\\textup{s}^{-1}]$', 'Orientation': r'Orientation, $\\theta~[^\\circ]$'}\nlabels = [r'\\textbf{a}', r'\\textbf{b}', r'\\textbf{c}', r'\\textbf{d}',\n          r'\\textbf{e}', r'\\textbf{f}', r'\\textbf{g}', r'\\textbf{h}']\nrow_labels = ['North Sand Sea -- summer', 'North Sand Sea -- winter', 'South Sand Sea -- summer',\n              'South Sand Sea -- winter']\nyears = [2017, 2017, 2017, 2017]\nmonths = [12, 6, 11, 5]\ndays = [(5, 8), (1, 4), (3, 6), (8, 11)]\nmonth_calendar = {index: month for index, month in enumerate(calendar.month_name) if month}\nbbox_props = dict(boxstyle='round', facecolor='wheat', alpha=0.7)\n\n\nstations_plot = ['Deep_Sea_Station', 'Deep_Sea_Station', 'South_Namib_Station', 'South_Namib_Station']\n\n# #### Figure\nfig = plt.figure(figsize=(theme.fig_width, 0.95*theme.fig_height_max),\n                 constrained_layout=True)\nsubfigs = fig.subfigures(nrows=5, ncols=1,\n                         height_ratios=[0.125, 1, 1, 1, 1])\nsubfigs[0].set_visible(False)\n\nax_list = []\nfor i, (subfig, yr, mth, dy, station) in enumerate(zip(subfigs[1:], years, months,\n                                                       days, stations_plot)):\n    axarr = subfig.subplots(1, 2)\n    ax_list.append(axarr[0])\n    ax_list.append(axarr[1])\n    #\n    subfig.suptitle(row_labels[i])\n    subfig.set_facecolor('none')\n    tmin = datetime(yr, mth, dy[0])\n    tmax = datetime(yr, mth, dy[1])\n    #\n    mask = (Data[station]['time'] >= tmin) & (Data[station]['time'] < tmax)\n    delta_u = np.abs((Data[station]['U_star_era'][mask] - Data[station]['U_star_insitu'][mask])/Data[station]['U_star_era'][mask])\n    Delta = smallestSignedAngleBetween(Data[station]['Orientation_era'][mask], Data[station]['Orientation_insitu'][mask])\n    delta_angle = np.abs(Delta)\n    #\n    mask_u_theta = (np.abs(delta_u) < 1) & (delta_angle < 85)\n    mask_u = np.abs(delta_u) > 0.6\n    mask_theta = delta_angle > 50\n\n    for j, (ax, var, label) in enumerate(zip(axarr, variables, labels[i])):\n        l1, = ax.plot(Data[station]['time'], Data[station][var + '_insitu'],\n                      label='Local measurements', color=theme.color_insitu)\n        l2, = ax.plot(Data[station]['time'], Data[station][var + '_era'],\n                      label='ERA5-Land', color=theme.color_Era5Land)\n        ax.set_xlim(tmin, tmax)\n        tick_formatter(ax)\n        #\n        # #### plot nights\n        tstart = tmin - timedelta(days=1)\n        tstart = tstart.replace(hour=10)\n        x_night = [tstart + timedelta(days=i) for i in range((tmax-tmin).days + 2)]\n        for daylight in x_night:\n            a1 = ax.axvspan(daylight, daylight + timedelta(hours=12),\n                            facecolor=theme.color_day, alpha=0.1, edgecolor=None,\n                            label=theme.Icon_day)\n            a2 = ax.axvspan(daylight - timedelta(hours=12), daylight,\n                            facecolor=theme.color_night, alpha=0.1, edgecolor=None,\n                            label=theme.Icon_night)\n        #\n        ax.set_ylabel(label_var[var])\n        ax.set_xlabel('Days in {} {:d}'.format(month_calendar[tmin.month], tmin.year))\n        ax.set_xticks([tmin + timedelta(days=i) for i in range((tmax-tmin).days + 1)])\n        if var == 'U_star':\n            ax.set_ylim((0, 0.5))\n            ax.text(0.5, 0.94,\n                    r\"\"\"$\\langle \\delta_{{u}} \\rangle = {:.2f}$\n                        $f_{{u}} = {:.2f}$\"\"\".format(\n                        delta_u[mask_u_theta].mean(),\n                        mask_u.sum()/delta_angle.size),\n                    ha='center', va='top', transform=ax.transAxes, bbox=bbox_props)\n        else:\n            ax.set_ylim((0, 360))\n            ax.set_yticks((0, 90, 180, 270, 360))\n            ax.text(0.5, 0.94,\n                    r\"\"\"$\\langle \\delta_{{\\theta}} \\rangle = {:.0f}$\n                        $f_{{\\theta}} = {:.2f}$\"\"\".format(\n                        delta_angle[mask_u_theta].mean(),\n                        mask_theta.sum()/delta_angle.size),\n                    ha='center', va='top', transform=ax.transAxes, bbox=bbox_props)\n\n#\n# a1.set_edgecolor((0, 0, 0, 1))\nfirst_legend = fig.legend(handles=[a1, a2], loc='upper right',\n                          ncol=2, columnspacing=1, bbox_to_anchor=(1, 0.985),\n                          frameon=False)\nsecond_legend = fig.legend(handles=[l1, l2], loc='upper left',\n                           ncol=1, columnspacing=1, bbox_to_anchor=(0, 0.999),\n                           frameon=False)\n\ntrans = mtransforms.ScaledTranslation(4/72, -4/72, fig.dpi_scale_trans)\nfor label, ax in zip(labels, ax_list):\n    ax.text(0.0, 1.0, label, transform=ax.transAxes + trans, va='top')\n\nfig.align_labels()\nplt.savefig(os.path.join(path_savefig, 'Figure5.pdf'),)\nplt.show()"
      ]
    }
  ],
  "metadata": {
    "kernelspec": {
      "display_name": "Python 3",
      "language": "python",
      "name": "python3"
    },
    "language_info": {
      "codemirror_mode": {
        "name": "ipython",
        "version": 3
      },
      "file_extension": ".py",
      "mimetype": "text/x-python",
      "name": "python",
      "nbconvert_exporter": "python",
      "pygments_lexer": "ipython3",
      "version": "3.8.10"
    }
  },
  "nbformat": 4,
  "nbformat_minor": 0
}