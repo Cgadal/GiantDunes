{
  "cells": [
    {
      "cell_type": "code",
      "execution_count": null,
      "metadata": {
        "collapsed": false
      },
      "outputs": [],
      "source": [
        "%matplotlib inline"
      ]
    },
    {
      "cell_type": "markdown",
      "metadata": {},
      "source": [
        "\n# Figure 12 -- Online Resource\n"
      ]
    },
    {
      "cell_type": "code",
      "execution_count": null,
      "metadata": {
        "collapsed": false
      },
      "outputs": [],
      "source": [
        "import os\nimport sys\nimport numpy as np\nimport matplotlib.pyplot as plt\nimport matplotlib.transforms as mtransforms\nsys.path.append('../../')\nimport python_codes.theme as theme\nfrom python_codes.plot_functions import make_nice_histogram\n\n\n# Loading figure theme\ntheme.load_style()\n\n# paths\npath_savefig = '../../Paper/Figures'\npath_outputdata = '../../static/data/processed_data/'\n\n# ##### Loading meteo data\nData = np.load(os.path.join(path_outputdata, 'Data_final.npy'), allow_pickle=True).item()\n# Stations = ['South_Namib_Station', 'Deep_Sea_Station']\nStations = ['Deep_Sea_Station']\n\n# #### Computing quantities\nOrientation_era = np.concatenate([Data[station]['Orientation_era'] for station in Stations])\nU_era = np.concatenate([Data[station]['U_star_era'] for station in Stations])\nU_insitu = np.concatenate([Data[station]['U_star_insitu'] for station in Stations])\ntime = np.concatenate([Data[station]['time'] for station in Stations])\nmonth = np.array([i.month for i in time])\nhour = np.array([i.hour for i in time])\n#\ndelta_u = (U_era - U_insitu)/U_era\nlimits = [0, -0.5]\n\n# #### Figure\nfig, axarr = plt.subplots(2, 2, figsize=(theme.fig_width, 0.9*theme.fig_width),\n                          constrained_layout=True)\ngs = axarr[0, 0].get_gridspec()\n# remove the underlying axes\nfor ax in axarr[0, :]:\n    ax.remove()\naxbig = fig.add_subplot(gs[0, :])\ncolors = [theme.color_Era5Land, theme.color_Era5Land_sub]\nfor limit, color in zip(limits, colors):\n    mask = delta_u < limit\n    make_nice_histogram(Orientation_era[mask], 150, axbig, vmin=0, vmax=360,\n                        alpha=0.4, density=True, color=color)\n    make_nice_histogram(month[mask], 13, axarr[1, 0], vmin=0.5, vmax=12.5,\n                        alpha=0.4, density=True, color=color)\n    make_nice_histogram(hour[mask], 13, axarr[1, 1], vmin=-0.5, vmax=23.5,\n                        alpha=0.4, density=True, color=color)\n\naxarr[1, 0].set_xlim(0.5, 12.5)\naxarr[1, 1].set_xlim(-0.5, 23.5)\naxbig.set_xlim(0, 360)\naxarr[1, 0].set_xlabel('Months of the year')\naxarr[1, 1].set_xlabel('Hours of the day')\naxbig.set_xlabel(r'Wind orientation, $\\theta_{\\textup{ERA5-Land}}~[^\\circ]$')\naxarr[1, 1].set_ylabel('PDF')\naxarr[1, 0].set_ylabel('PDF')\naxbig.set_ylabel('PDF')\naxarr[1, 0].set_xticks([1, 3, 5, 7, 9, 11])\naxarr[1, 1].set_xticks([0, 6, 12, 18])\naxbig.set_xticks([0, 45, 90, 135, 180, 225, 270, 315, 360])\n\nlabels = [r'\\textbf{a}', r'\\textbf{b}', r'\\textbf{c}']\nax_list = [axbig, axarr[1, 0], axarr[1, 1]]\ntrans = mtransforms.ScaledTranslation(5/72, -5/72, fig.dpi_scale_trans)\nfor ax, label in zip(ax_list, labels):\n    ax.text(0.0, 1.0, label, transform=ax.transAxes + trans, va='top')\n    ax.ticklabel_format(style='sci', axis='y', scilimits=(0, 0))\n\nfig.align_labels()\nplt.savefig(os.path.join(path_savefig, 'Figure12_supp.pdf'))\nplt.show()"
      ]
    }
  ],
  "metadata": {
    "kernelspec": {
      "display_name": "Python 3",
      "language": "python",
      "name": "python3"
    },
    "language_info": {
      "codemirror_mode": {
        "name": "ipython",
        "version": 3
      },
      "file_extension": ".py",
      "mimetype": "text/x-python",
      "name": "python",
      "nbconvert_exporter": "python",
      "pygments_lexer": "ipython3",
      "version": "3.8.10"
    }
  },
  "nbformat": 4,
  "nbformat_minor": 0
}