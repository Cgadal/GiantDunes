{
  "cells": [
    {
      "cell_type": "code",
      "execution_count": null,
      "metadata": {
        "collapsed": false
      },
      "outputs": [],
      "source": [
        "%matplotlib inline"
      ]
    },
    {
      "cell_type": "markdown",
      "metadata": {},
      "source": [
        "\n# Figure 17 -- Online Resource\n"
      ]
    },
    {
      "cell_type": "code",
      "execution_count": null,
      "metadata": {
        "collapsed": false
      },
      "outputs": [],
      "source": [
        "import numpy as np\nimport matplotlib.pyplot as plt\nimport sys\nimport os\nsys.path.append('../../')\nimport python_codes.theme as theme\nfrom python_codes.general import cosd, sind\nfrom python_codes.plot_functions import plot_regime_diagram\nfrom python_codes.linear_theory import Cisaillement_basal_rotated_wind\n\n\ndef topo(x, y, alpha, k, xi):\n    return xi*np.cos(k*(cosd(alpha)*x + sind(alpha)*y))\n\n\n# Loading figure theme\ntheme.load_style()\n\n# paths\npath_savefig = '../../Paper/Figures'\npath_outputdata = '../../static/data/processed_data/'\n\n# ## regime diagram properties\n# data\nStations = ['South_Namib_Station', 'Deep_Sea_Station']\nData = np.load(os.path.join(path_outputdata, 'Data_final.npy'), allow_pickle=True).item()\nnumbers = {key: np.concatenate([Data[station][key] for station in Stations]) for key in ('Froude', 'kH', 'kLB')}\n\n# Time series hydrodynamic coefficients\nHydro_coeffs_time = np.load(os.path.join(path_outputdata, 'time_series_hydro_coeffs.npy'), allow_pickle=True).item()\nmodulus = np.linalg.norm(np.concatenate([Hydro_coeffs_time[station] for station in Stations], axis=1), axis=0)\n\n#\ncouples = [('Froude', 'kH'), ('kLB', 'kH')]\nlabels = [r'\\textbf{a}', r'\\textbf{b}', r'\\textbf{c}']\n#\nax_labels = {'Froude': r'$\\mathcal{F} =  U/\\sqrt{(\\Delta\\rho/\\rho_{0}) g H}$', 'kH': '$k H$', 'kLB': r'$\\mathcal{F}_{\\textup{I}} = k U/N$'}\nlims = {'Froude': (5.8e-3, 450), 'kLB': (0.009, 7.5), 'kH': (2.2e-2, 10.8)}\n#\nregime_line_color = 'tab:blue'\ncbar_labels = [r'$\\delta_{\\theta}$ [deg.]', r'$\\delta_{u}$']\n\nmask = ~np.isnan(numbers['Froude'])\n\n# ## streamline parameters\nstation = Stations[1]\nData_DEM = np.load(os.path.join(path_outputdata, 'Data_DEM.npy'), allow_pickle=True).item()[station]\n\n#\nalpha = Data_DEM['orientation'] - 90  # dune orientation, degrees\nk = 1  # non dimensional wavenumber\nAR = 0.1\nB0 = 2\nskip = (slice(None, None, 50), slice(None, None, 50))\n#\n# horizontal space\nx = np.linspace(-12, 12, 1000)\ny = np.linspace(-6, 6, 1000)\nX, Y = np.meshgrid(x, y)\n\n\n# #### Figure\nfig = plt.figure(figsize=(theme.fig_width, 0.74*theme.fig_height_max), constrained_layout=True)\n# ## regime diagrams\ngs = fig.add_gridspec(2, 1, height_ratios=[1.63, 1])\ngs.update(hspace=0.1025)\ngs_top = gs[0].subgridspec(1, 2)\naxarr = []\nfor i, (var1, var2) in enumerate(couples):\n    axarr.append(fig.add_subplot(gs_top[i]))\n    vars = [numbers[var1][mask], numbers[var2][mask]]\n    cmap = 'viridis'\n    lims_list = [lims[var1], lims[var2]]\n    xlabel = ax_labels[var1]\n    ylabel = ax_labels[var2] if i == 0 else None\n    #\n    bin1 = np.logspace(np.floor(np.log10(numbers[var1][mask].min())), np.ceil(np.log10(numbers[var1][mask].max())), 50)\n    bin2 = np.logspace(np.floor(np.log10(numbers[var2][mask].min())), np.ceil(np.log10(numbers[var2][mask].max())), 50)\n    bins = [bin1, bin2]\n    a = plot_regime_diagram(axarr[-1], modulus[mask], vars, lims_list, xlabel, ylabel, bins=bins, vmin=0, vmax=40, cmap='plasma', type='binned')\n    axarr[-1].text(0.05, 0.92, labels[i], transform=axarr[-1].transAxes)\n\n# #### colorbar\ncb = fig.colorbar(a, ax=axarr, location='top', aspect=26,\n                  label=r'$\\sqrt{\\mathcal{A}_{0}^{2} + \\mathcal{B}_{0}^{2}}$')\n\n# ## Examples\nax = fig.add_subplot(gs[1])\nax.set_xlabel('$kx$')\nax.set_ylabel('$ky$')\n# ax.set_aspect('equal')\nax.text(0.025, 0.92, labels[2], transform=ax.transAxes)\n#\ncnt = ax.contourf(x, y, topo(X, Y, alpha, k, AR), levels=100, vmin=-(AR + 0.06),\n                  vmax=AR + 0.02, zorder=-5, cmap=theme.cmap_topo)\nfor c in cnt.collections:\n    c.set_edgecolor(\"face\")\n    c.set_rasterized(True)\n\n# # #### Parameters\nmodulus = np.linalg.norm(Hydro_coeffs_time[station], axis=0)\nindexes_tp = np.arange(Data[station]['kH'].size)\nmask1 = (Data[station]['kH'] > 0.7) & (Data[station]['Froude'] > 0.6) & (modulus < 10)\nmask2 = (Data[station]['kH'] > 0.7) & (Data[station]['Froude'] < 0.3) & (modulus < 10)\nmask3 = (Data[station]['kH'] < 0.5) & (Data[station]['Froude'] > 0.6) & (modulus < 10)\nmask4 = (Data[station]['kH'] < 0.5) & (Data[station]['Froude'] < 0.3) & (modulus < 10)\n\nindexes = [2808, 35785, 6231, 11308]\n#\nfor i, (m, A0, B0) in enumerate(sorted(zip(modulus[indexes], Hydro_coeffs_time[station][0][indexes], Hydro_coeffs_time[station][1][indexes]))):\n    # print(Data[station]['time'][indexes[i]], Data[station]['kH'][indexes[i]], Data[station]['Froude'][indexes[i]], Data[station]['kLB'][indexes[i]], A0, B0, np.sqrt(A0**2 + B0**2))\n    TAU = Cisaillement_basal_rotated_wind(X, Y, alpha, A0, B0, AR, 190)\n    ustar = np.sqrt(np.linalg.norm(np.array(TAU), axis=0))\n    theta = np.arctan2(TAU[1], TAU[0])\n    # ax.quiver(X[skip], Y[skip], TAU[0][skip], TAU[1][skip], color='grey')\n    # strm = ax.streamplot(X, Y, TAU[0], TAU[1], color=np.sqrt(TAU[0]**2 + TAU[1]**2), cmap='inferno', density=50, start_points=[[4, 5-0.5*i]])\n    strm = ax.streamplot(X, Y, ustar*np.cos(theta), ustar*np.sin(theta),\n                         color=ustar, cmap='inferno', density=50, start_points=[[4, 5-0.5*i]])\n#\ncb = fig.colorbar(cnt, label=r'Bed elevation $k \\xi$', ax=ax, location='top', pad=0.08)\ncb.formatter.set_powerlimits((0, 0))\ncb.update_ticks()\ncb = fig.colorbar(strm.lines, label=r'Shear velocity, $u_{*}/u_{*}^{0}$', ax=ax, location='right', aspect=10)\n\nplt.savefig(os.path.join(path_savefig, 'Figure17_supp.pdf'), dpi=400)\nplt.show()"
      ]
    }
  ],
  "metadata": {
    "kernelspec": {
      "display_name": "Python 3",
      "language": "python",
      "name": "python3"
    },
    "language_info": {
      "codemirror_mode": {
        "name": "ipython",
        "version": 3
      },
      "file_extension": ".py",
      "mimetype": "text/x-python",
      "name": "python",
      "nbconvert_exporter": "python",
      "pygments_lexer": "ipython3",
      "version": "3.8.10"
    }
  },
  "nbformat": 4,
  "nbformat_minor": 0
}