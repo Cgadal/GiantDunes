{
  "cells": [
    {
      "cell_type": "code",
      "execution_count": null,
      "metadata": {
        "collapsed": false
      },
      "outputs": [],
      "source": [
        "%matplotlib inline"
      ]
    },
    {
      "cell_type": "markdown",
      "metadata": {},
      "source": [
        "\n# Figure 11 -- Online Resource\n"
      ]
    },
    {
      "cell_type": "code",
      "execution_count": null,
      "metadata": {
        "collapsed": false
      },
      "outputs": [],
      "source": [
        "import os\nimport sys\nimport numpy as np\nimport matplotlib.pyplot as plt\nimport matplotlib.colors as mpcolors\nimport matplotlib.transforms as mtransforms\nsys.path.append('../../')\nimport python_codes.theme as theme\nfrom python_codes.general import smallestSignedAngleBetween, find_mode_distribution\nfrom python_codes.plot_functions import plot_regime_diagram\n\n# Loading figure theme\ntheme.load_style()\n\n# paths\npath_savefig = '../../Paper/Figures'\npath_outputdata = '../../static/data/processed_data/'\n\n# ##### Loading meteo data\nData = np.load(os.path.join(path_outputdata, 'Data_final.npy'), allow_pickle=True).item()\nStations = ['South_Namib_Station', 'Deep_Sea_Station']\n\n# #### Computing quantities\n\nOrientation_era = np.concatenate([Data[station]['Orientation_era'] for station in Stations])\nOrientation_insitu = np.concatenate([Data[station]['Orientation_insitu'] for station in Stations])\nU_era = np.concatenate([Data[station]['U_star_era'] for station in Stations])\nU_insitu = np.concatenate([Data[station]['U_star_insitu'] for station in Stations])\nnumbers = {key: np.concatenate([Data[station][key] for station in Stations]) for key in ('Froude', 'kH', 'kLB')}\n#\nDelta = smallestSignedAngleBetween(Orientation_era, Orientation_insitu)\nmode_delta = np.array([find_mode_distribution(Delta, i) for i in np.arange(150, 350)]).mean()\ndelta_angle = np.abs(Delta)\ndelta_u = (U_era - U_insitu)/U_era\n\n# #### Figure parameters\n\nlims = {'Froude': (5.8e-3, 450), 'kLB': (0.009, 7.5), 'kH': (2.2e-2, 10.8)}\ncmaps = [theme.cmap_delta_theta, theme.cmap_delta_u]\nnorms = [mpcolors.Normalize(vmin=0, vmax=99),\n         mpcolors.TwoSlopeNorm(vmin=-3, vcenter=0, vmax=1)]\ncbar_labels = [r'$\\delta_{\\theta}~[^\\circ]$', r'$\\delta_{u}$']\nquantities = [delta_angle, delta_u]\nlabels = [r'\\textbf{a}', r'\\textbf{b}', r'\\textbf{c}', r'\\textbf{d}']\ncbticks = [[0, 25, 50, 75], [-3, -1.5, 0, 0.5, 1]]\n\nmask = ~np.isnan(numbers['Froude'])\nlog_counts_max = np.log10(2230)\n\nvars = [('kLB', 'kH'), ('kLB', 'Froude')]\nax_labels = {'kH': r'$kH$', 'Froude': r'$\\mathcal{F} =  U/\\sqrt{(\\Delta\\rho/\\rho_{0}) g H}$',\n             'kLB': r'$\\mathcal{F}_{\\textup{I}} =  kU/N$'}\nxlabels = [r'$\\mathcal{F}_{\\textup{I}} =  kU/N$']\nylabels = [r'$kH$', r'$\\mathcal{F} =  U/\\sqrt{(\\Delta\\rho/\\rho) g H}$']\nlim_regime = {'kH': 0.32, 'Froude': 0.4, 'kLB': 0.35}\n\n\n# #### Figure\nfig, axarr = plt.subplots(2, 2, figsize=(theme.fig_width, 0.6*theme.fig_height_max),\n                          constrained_layout=True, gridspec_kw={'height_ratios': [1, 1]})\n\n# #### colorbars\nfor i, (cmap, norm, cbtick) in enumerate(zip(cmaps, norms, cbticks)):\n    sm = plt.cm.ScalarMappable(cmap=cmap, norm=norm)\n    cb = plt.colorbar(sm, ax=axarr[0, i], location='top', ticks=cbtick)\n    cb.set_label(cbar_labels[i])\n\nfor i, (var1, var2) in enumerate(vars):\n    for j, (ax, quantity, cmap, norm) in enumerate(zip(axarr[i, :].flatten(), quantities, cmaps, norms)):\n        vars = [numbers[var1][mask], numbers[var2][mask]]\n        lims_list = [lims[var1], lims[var2]]\n        #\n        bin1 = np.logspace(np.floor(np.log10(numbers[var1][mask].min())), np.ceil(np.log10(numbers[var1][mask].max())), 50)\n        bin2 = np.logspace(np.floor(np.log10(numbers[var2][mask].min())), np.ceil(np.log10(numbers[var2][mask].max())), 50)\n        bins = [bin1, bin2]\n        xlabel = None if i < 1 else ax_labels[var1]\n        ylabel = None if j > 0 else ax_labels[var2]\n        #\n        a = plot_regime_diagram(ax, quantity[mask], vars, lims_list, xlabel, ylabel, bins=bins, norm=norm, cmap=cmap, type='binned')\n        #\n        # regime lines\n        ax.axvline(lim_regime[var1], color=theme.regime_line_color, linestyle='--', lw=2)\n        ax.axhline(lim_regime[var2], color=theme.regime_line_color, linestyle='--', lw=2)\n\ntrans = mtransforms.ScaledTranslation(5/72, -5/72, fig.dpi_scale_trans)\nfor i, (ax, label) in enumerate(zip(axarr.flatten(), labels)):\n    ax.text(0.0, 1.0, label, transform=ax.transAxes + trans, va='top')\n\nfig.align_labels()\nplt.savefig(os.path.join(path_savefig, 'Figure11_supp.pdf'), dpi=400)\nplt.show()"
      ]
    }
  ],
  "metadata": {
    "kernelspec": {
      "display_name": "Python 3",
      "language": "python",
      "name": "python3"
    },
    "language_info": {
      "codemirror_mode": {
        "name": "ipython",
        "version": 3
      },
      "file_extension": ".py",
      "mimetype": "text/x-python",
      "name": "python",
      "nbconvert_exporter": "python",
      "pygments_lexer": "ipython3",
      "version": "3.8.10"
    }
  },
  "nbformat": 4,
  "nbformat_minor": 0
}