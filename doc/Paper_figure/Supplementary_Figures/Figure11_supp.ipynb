{
  "cells": [
    {
      "cell_type": "code",
      "execution_count": null,
      "metadata": {
        "collapsed": false
      },
      "outputs": [],
      "source": [
        "%matplotlib inline"
      ]
    },
    {
      "cell_type": "markdown",
      "metadata": {},
      "source": [
        "\n# Figure 11 -- SI\n"
      ]
    },
    {
      "cell_type": "code",
      "execution_count": null,
      "metadata": {
        "collapsed": false
      },
      "outputs": [],
      "source": [
        "import numpy as np\nimport os\nimport matplotlib.pyplot as plt\nfrom matplotlib.colors import LogNorm\nimport sys\nsys.path.append('../../')\nimport python_codes.theme as theme\nfrom python_codes.plot_functions import make_nice_histogram\n\ntheme.load_style()\n\n# paths\npath_savefig = '../../Paper/Figures'\npath_outputdata = '../../static/output_data/data/'\npath_inputdata = '../../static/input_data'\n\n# Loading data\nData = np.load(os.path.join(path_outputdata, 'Data_final.npy'), allow_pickle=True).item()\nStations = ['South_Namib_Station', 'Deep_Sea_Station']\n\nnumbers = {key: np.concatenate([Data[station][key] for station in Stations]) for key in ('Froude', 'kH', 'kLB')}\nmask = ~np.isnan(numbers['Froude'])\nad_hoc_quantity = np.concatenate([Data[station]['U_star_era'] for station in Stations])\n\n# Figure properties\ncouples = [('Froude', 'kH'), ('kLB', 'kH')]\nlims = {'Froude': (5.8e-3, 450), 'kLB': (0.009, 7.5), 'kH': (2.2e-2, 10.8)}\nax_labels = {'Froude': r'$Fr_{\\textup{surface}}$', 'kH': '$k H$', 'kLB': r'$Fr_{\\textup{internal}}$'}\nnorm = LogNorm(vmin=1, vmax=1.5e3)\n\n# #### Figure\nfig, axarr = plt.subplots(2, 3, figsize=(theme.fig_width, 0.8*theme.fig_width), sharey='row',\n                          constrained_layout=True, gridspec_kw={'height_ratios': [1, 2], 'width_ratios': [2, 2, 1]})\n\naxarr[0, -1].remove()\nfor j, (ax, (var1, var2)) in enumerate(zip(axarr[1, :2], couples)):\n    ax.set_xscale('log')\n    ax.set_yscale('log')\n    #\n    x_var, y_var = numbers[var1][mask], numbers[var2][mask]\n    xlabel = ax_labels[var1]\n    ylabel = ax_labels[var2] if j == 0 else None\n    #\n    bin1 = np.logspace(np.floor(np.log10(numbers[var1][mask].min())), np.ceil(np.log10(numbers[var1][mask].max())), 50)\n    bin2 = np.logspace(np.floor(np.log10(numbers[var2][mask].min())), np.ceil(np.log10(numbers[var2][mask].max())), 50)\n    # #### binning data\n    counts, x_edge, y_edge = np.histogram2d(x_var, y_var, bins=[bin1, bin2])\n    # plotting histogramm\n    a = ax.pcolormesh(x_edge, y_edge, counts.T, snap=True, norm=norm)\n    #\n    ax.set_xlim(lims[var1])\n    ax.set_ylim(lims[var2])\n    ax.set_xlabel(ax_labels[var1])\n    if j == 0:\n        ax.set_ylabel(ax_labels[var2])\n    # else:\n    #     ax.set_yticklabels([])\n\nfor i, (ax, var) in enumerate(zip([axarr[0, 0], axarr[0, 1], axarr[1, -1]], ['Froude', 'kLB', 'kH'])):\n    orientation = 'vertical' if i < 2 else 'horizontal'\n    make_nice_histogram(Data['South_Namib_Station'][var], 150, ax, alpha=0.4, density=False, scale_bins='log', orientation=orientation)\n    make_nice_histogram(Data['Deep_Sea_Station'][var], 150, ax, alpha=0.4, density=False, scale_bins='log', orientation=orientation)\n    if i < 2:\n        ax.set_xticklabels([])\n        ax.set_xlim(lims[var])\n        ax.ticklabel_format(style='sci', axis='y', scilimits=(0, 0))\n        if i == 0:\n            ax.set_ylabel('Counts')\n    else:\n        ax.set_xlabel('Counts')\n        ax.set_ylim(lims[var])\n        # ax.ticklabel_format(style='sci', axis='x', scilimits=(0, 0))\n\n\nfig.colorbar(a, ax=axarr[0, :2], location='top', label='Counts', aspect=30)\n#\nplt.savefig(os.path.join(path_savefig, 'Figure11_supp.pdf'))\nplt.show()"
      ]
    }
  ],
  "metadata": {
    "kernelspec": {
      "display_name": "Python 3",
      "language": "python",
      "name": "python3"
    },
    "language_info": {
      "codemirror_mode": {
        "name": "ipython",
        "version": 3
      },
      "file_extension": ".py",
      "mimetype": "text/x-python",
      "name": "python",
      "nbconvert_exporter": "python",
      "pygments_lexer": "ipython3",
      "version": "3.8.10"
    }
  },
  "nbformat": 4,
  "nbformat_minor": 0
}