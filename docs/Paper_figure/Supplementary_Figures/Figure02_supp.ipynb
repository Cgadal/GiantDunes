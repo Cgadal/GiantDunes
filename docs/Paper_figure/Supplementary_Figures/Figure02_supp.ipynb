{
  "cells": [
    {
      "cell_type": "code",
      "execution_count": null,
      "metadata": {
        "collapsed": false
      },
      "outputs": [],
      "source": [
        "%matplotlib inline"
      ]
    },
    {
      "cell_type": "markdown",
      "metadata": {},
      "source": [
        "\n# Figure 2 -- SI\n"
      ]
    },
    {
      "cell_type": "code",
      "execution_count": null,
      "metadata": {
        "collapsed": false
      },
      "outputs": [],
      "source": [
        "import numpy as np\nimport os\nfrom datetime import datetime\nimport matplotlib.dates as mdates\nimport matplotlib.pyplot as plt\nimport sys\nsys.path.append('../../')\nimport python_codes.theme as theme\n\ntheme.load_style()\n\n# paths\npath_savefig = '../../Paper/Figures'\npath_outputdata = '../../static/processed_data'\npath_inputdata = '../../static/raw_data'\n\n# figure parameters\nstation = 'South_Namib_Station'\ntmin, tmax = datetime(2017, 6, 3), datetime(2017, 6, 10)\nData = np.load(os.path.join(path_outputdata, 'Data_final.npy'), allow_pickle=True).item()\n\n# Loading and recomputing some raw data\npath_insitu = os.path.join(path_inputdata, 'measured_wind_data/in_situ_wind_data_' + station + '.npy')\nData_insitu = np.load(path_insitu, allow_pickle=True).item()\n#\nt_insitu = Data_insitu['time']\nU_insitu = Data_insitu['velocity']\n# putting angles in trigo. ref.\nOrientation_insitu = (270 - Data_insitu['direction']) % 360\n\n\n# ### Figure\nfig, axarr = plt.subplots(2, 1, figsize=(theme.fig_width, 0.85*theme.fig_width),\n                          constrained_layout=True, sharex=True)\n\naxarr[0].plot(t_insitu, Orientation_insitu, label='Raw data')\naxarr[0].plot(Data[station]['time'], Data[station]['Orientation_insitu'], label='Binned data')\n#\naxarr[1].plot(t_insitu, U_insitu, label='Raw data')\naxarr[1].plot(Data[station]['time'], Data[station]['U_insitu'], label='1hr-averaged data')\n#\naxarr[0].set_ylabel(r'Wind orientation, $\\theta~[^{\\circ}]$')\naxarr[0].set_ylim(0, 360)\naxarr[0].set_yticks([0, 90, 180, 270, 360])\naxarr[1].set_ylabel(r'Wind velocity at 2.6 m, $[\\textup{m}~\\textup{s}^{-1}]$')\naxarr[1].set_ylim(bottom=0)\naxarr[1].set_xlim(tmin, tmax)\naxarr[1].set_xlabel(r'Days in June 2017')\nmyFmt = mdates.DateFormatter('%d')\naxarr[1].xaxis.set_major_formatter(myFmt)\nplt.legend(loc='upper center')\n\n# subplots labels\naxarr[0].text(0.015, 0.93, r'\\textbf{a}', ha='left', va='center', transform=axarr[0].transAxes)\naxarr[1].text(0.015, 0.93, r'\\textbf{b}', ha='left', va='center', transform=axarr[1].transAxes)\n\nplt.savefig(os.path.join(path_savefig, 'Figure2_supp.pdf'))\nplt.show()"
      ]
    }
  ],
  "metadata": {
    "kernelspec": {
      "display_name": "Python 3",
      "language": "python",
      "name": "python3"
    },
    "language_info": {
      "codemirror_mode": {
        "name": "ipython",
        "version": 3
      },
      "file_extension": ".py",
      "mimetype": "text/x-python",
      "name": "python",
      "nbconvert_exporter": "python",
      "pygments_lexer": "ipython3",
      "version": "3.8.10"
    }
  },
  "nbformat": 4,
  "nbformat_minor": 0
}