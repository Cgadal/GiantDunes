{
  "cells": [
    {
      "cell_type": "code",
      "execution_count": null,
      "metadata": {
        "collapsed": false
      },
      "outputs": [],
      "source": [
        "%matplotlib inline"
      ]
    },
    {
      "cell_type": "markdown",
      "metadata": {},
      "source": [
        "\n# Figure 16 -- Online Resource\n"
      ]
    },
    {
      "cell_type": "code",
      "execution_count": null,
      "metadata": {
        "collapsed": false
      },
      "outputs": [],
      "source": [
        "import numpy as np\nimport matplotlib.pyplot as plt\nimport sys\nimport os\nsys.path.append('../../')\nimport python_codes.theme as theme\nfrom python_codes.plot_functions import make_nice_histogram\n\n\n# Loading figure theme\ntheme.load_style()\n\n# paths\npath_savefig = '../../Paper/Figures'\npath_outputdata = '../../static/data/processed_data/'\n\n# ##### Loading meteo data\nData = np.load(os.path.join(path_outputdata, 'Data_final.npy'), allow_pickle=True).item()\n# Stations = ['South_Namib_Station', 'Deep_Sea_Station']\nStations = ['Deep_Sea_Station']\n\n# #### Computing quantities\nOrientation_era = np.concatenate([Data[station]['Orientation_era'] for station in Stations])\nU_era = np.concatenate([Data[station]['U_star_era'] for station in Stations])\nU_insitu = np.concatenate([Data[station]['U_star_insitu'] for station in Stations])\ntime = np.concatenate([Data[station]['time'] for station in Stations])\nmonth = np.array([i.month for i in time])\nhour = np.array([i.hour for i in time])\n#\ndelta_u = (U_era - U_insitu)/U_era\nlimits = [0, -0.5]\n\n# #### Figure\nfig, axarr = plt.subplots(2, 2, figsize=(theme.fig_width, 0.9*theme.fig_width),\n                          constrained_layout=True)\ngs = axarr[0, 0].get_gridspec()\n# remove the underlying axes\nfor ax in axarr[0, :]:\n    ax.remove()\naxbig = fig.add_subplot(gs[0, :])\n\nfor limit in limits:\n    mask = delta_u < limit\n    make_nice_histogram(Orientation_era[mask], 150, axbig, vmin=0, vmax=360, alpha=0.5, density=True)\n    make_nice_histogram(month[mask], 13, axarr[1, 0], vmin=0.5, vmax=12.5, alpha=0.5, density=True)\n    make_nice_histogram(hour[mask], 13, axarr[1, 1], vmin=-0.5, vmax=23.5, alpha=0.5, density=True)\n\naxarr[1, 0].set_xlim(0.5, 12.5)\naxarr[1, 1].set_xlim(-0.5, 23.5)\naxbig.set_xlim(0, 360)\naxarr[1, 0].set_xlabel('Months of the year')\naxarr[1, 1].set_xlabel('Hours of the day')\naxbig.set_xlabel(r'Wind orientation, $\\theta_{\\textup{ERA}}$')\naxarr[1, 1].set_ylabel('PDF')\naxarr[1, 0].set_ylabel('PDF')\naxbig.set_ylabel('PDF')\naxarr[1, 0].set_xticks([1, 3, 5, 7, 9, 11])\naxarr[1, 1].set_xticks([0, 6, 12, 18])\naxbig.set_xticks([0, 45, 90, 135, 180, 225, 270, 315, 360])\n\naxarr[1, 0].text(0.04, 0.96, r'\\textbf{b}', ha='left', va='top',\n                 transform=axarr[1, 0].transAxes)\naxarr[1, 1].text(0.04, 0.96, r'\\textbf{c}', ha='left', va='top',\n                 transform=axarr[1, 1].transAxes)\naxbig.text(0.02, 0.96, r'\\textbf{a}', ha='left', va='top',\n           transform=axbig.transAxes)\n\n\nplt.savefig(os.path.join(path_savefig, 'Figure16_supp.pdf'))\nplt.show()"
      ]
    }
  ],
  "metadata": {
    "kernelspec": {
      "display_name": "Python 3",
      "language": "python",
      "name": "python3"
    },
    "language_info": {
      "codemirror_mode": {
        "name": "ipython",
        "version": 3
      },
      "file_extension": ".py",
      "mimetype": "text/x-python",
      "name": "python",
      "nbconvert_exporter": "python",
      "pygments_lexer": "ipython3",
      "version": "3.8.10"
    }
  },
  "nbformat": 4,
  "nbformat_minor": 0
}