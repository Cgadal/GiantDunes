{
  "cells": [
    {
      "cell_type": "code",
      "execution_count": null,
      "metadata": {
        "collapsed": false
      },
      "outputs": [],
      "source": [
        "%matplotlib inline"
      ]
    },
    {
      "cell_type": "markdown",
      "metadata": {},
      "source": [
        "\n# Figure 6 -- SI\n"
      ]
    },
    {
      "cell_type": "code",
      "execution_count": null,
      "metadata": {
        "collapsed": false
      },
      "outputs": [],
      "source": [
        "import numpy as np\nimport matplotlib.pyplot as plt\nimport sys\nimport os\nsys.path.append('../../')\nimport python_codes.theme as theme\nfrom python_codes.plot_functions import make_nice_histogram\n\n# Loading figure theme\ntheme.load_style()\n\n# path\npath_imgs = '../../static/images/'\npath_savefig = '../../Paper/Figures'\npath_outputdata = '../../static/output_data/data/'\n\n# Loading wind data\nData = np.load(os.path.join(path_outputdata, 'Data_final.npy'), allow_pickle=True).item()\nStations = sorted(Data.keys())\n\n# Figure properties\nstation = 'South_Namib_Station'\n#\ntheta_bins = [[0, 140], [150, 260]]\nvelocity_bins = [[0.05, 0.2], [0.2, 10]]\nData_pattern = np.load(os.path.join(path_outputdata, 'Data_DEM.npy'), allow_pickle=True).item()[station]\n\ncolor_ax = 'purple'\n\n# ################ Figure\nfig, axarr = plt.subplots(3, 3, figsize=(theme.fig_width, 0.9*theme.fig_width), constrained_layout=True, sharex=True)\nfor i in range(3):  # Loop over velocites\n    if i < 2:\n        mask_U = (Data[station]['U_star_era'] >= velocity_bins[i][0]) & (Data[station]['U_star_era'] <= velocity_bins[i][1])\n        label_u = r'$u_{*} < ' + str(velocity_bins[i][1]) + '$' if i == 0 else r'$u_{*} > ' + str(velocity_bins[i][0]) + '$'\n    else:\n        mask_U = (Data[station]['U_star_era'] < 10)  # take all velocities\n        label_u = 'all velocities'\n    axarr[i, -1].set_ylabel(label_u)\n    axarr[i, -1].yaxis.set_label_position(\"right\")\n    for j in range(3):  # loop over angles\n        if j < 2:\n            mask_theta = (Data[station]['Orientation_era'] >= theta_bins[j][0]) & (Data[station]['Orientation_era'] <= theta_bins[j][1])\n            label_theta = r'$' + str(theta_bins[j][0]) + r'< \\theta < ' + str(theta_bins[j][-1]) + '$'\n        else:\n            mask_theta = Data[station]['Orientation_era'] < 400  # take all orientations\n            label_theta = 'all angles'\n        make_nice_histogram(Data[station]['Orientation_station'][mask_theta & mask_U], 80, axarr[i, j], alpha=0.5)\n        make_nice_histogram(Data[station]['Orientation_era'][mask_theta & mask_U], 80, axarr[i, j], alpha=0.5)\n        axarr[i, j].axvline(Data_pattern['orientation'], color=theme.color_dune_orientation, ls='--', lw=2)\n        axarr[i, j].axvline((Data_pattern['orientation'] + 180) % 360, color=theme.color_dune_orientation, ls='--', lw=2)\n        axarr[i, j].text(0.5, 0.95, '{:.2f}'.format((mask_theta & mask_U).sum()/mask_theta.size), ha='center', va='top', transform=axarr[i, j].transAxes)\n        if i == 0:\n            axarr[i, j].set_xlabel(label_theta)\n            axarr[i, j].xaxis.set_label_position(\"top\")\n            if j == 1:\n                for axis in ['top', 'bottom', 'left', 'right']:\n                    axarr[i, j].spines[axis].set_color(color_ax)\n                    axarr[i, j].spines[axis].set_linewidth(2)\nplt.xlim(0, 360)\nplt.xticks([45, 125, 215, 305])\nfor ax in axarr.flatten():\n    ax.set_yticks([])\nfig.supxlabel(r'Wind direction, $\\theta~[^\\circ]$')\nfig.supylabel('Distributions')\n\nplt.savefig(os.path.join(path_savefig, 'Figure6_supp.pdf'))\nplt.show()"
      ]
    }
  ],
  "metadata": {
    "kernelspec": {
      "display_name": "Python 3",
      "language": "python",
      "name": "python3"
    },
    "language_info": {
      "codemirror_mode": {
        "name": "ipython",
        "version": 3
      },
      "file_extension": ".py",
      "mimetype": "text/x-python",
      "name": "python",
      "nbconvert_exporter": "python",
      "pygments_lexer": "ipython3",
      "version": "3.8.10"
    }
  },
  "nbformat": 4,
  "nbformat_minor": 0
}