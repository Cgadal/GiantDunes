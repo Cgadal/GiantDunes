{
  "cells": [
    {
      "cell_type": "code",
      "execution_count": null,
      "metadata": {
        "collapsed": false
      },
      "outputs": [],
      "source": [
        "%matplotlib inline"
      ]
    },
    {
      "cell_type": "markdown",
      "metadata": {},
      "source": [
        "\n# Figure 9 -- Online Resource\n"
      ]
    },
    {
      "cell_type": "code",
      "execution_count": null,
      "metadata": {
        "collapsed": false
      },
      "outputs": [],
      "source": [
        "import numpy as np\nimport os\nimport matplotlib.pyplot as plt\nimport sys\nsys.path.append('../../')\nimport python_codes.theme as theme\nfrom python_codes.plot_functions import plot_scatter_surrounded\n\n\ntheme.load_style()\n\n# paths\npath_savefig = '../../Paper/Figures'\npath_outputdata = '../../static/data/processed_data/'\n\n# Loading data\nData = np.load(os.path.join(path_outputdata, 'Data_final.npy'), allow_pickle=True).item()\n\nlabels = [r'\\textbf{a}', r'\\textbf{b}']\n\n# preparing data\nStations = ['South_Namib_Station', 'Deep_Sea_Station']\n\nDune_orientations = [np.load(os.path.join(path_outputdata, 'Data_DEM.npy'), allow_pickle=True).item()[station]['orientation']\n                     for station in Stations]\n\nvelocity_thresholds = [0.1, 0.25]\n\n# variables\nx1 = np.concatenate([Data[station]['Orientation_era'][Data[station]['U_star_era'] < velocity_thresholds[0]] - Dune_orientations[Stations.index(station)]\n                     for station in Stations])\ny1 = np.concatenate([Data[station]['Orientation_insitu'][Data[station]['U_star_era'] < velocity_thresholds[0]] - Dune_orientations[Stations.index(station)]\n                     for station in Stations])\n\nx2 = np.concatenate([Data[station]['Orientation_era'][(Data[station]['U_star_era'] >= velocity_thresholds[0]) & (Data[station]['U_star_era'] < velocity_thresholds[1])] - Dune_orientations[Stations.index(station)]\n                     for station in Stations])\ny2 = np.concatenate([Data[station]['Orientation_insitu'][(Data[station]['U_star_era'] >= velocity_thresholds[0]) & (Data[station]['U_star_era'] < velocity_thresholds[1])] - Dune_orientations[Stations.index(station)]\n                     for station in Stations])\n\nx3 = np.concatenate([Data[station]['Orientation_era'][(Data[station]['U_star_era'] >= velocity_thresholds[1])] - Dune_orientations[Stations.index(station)]\n                     for station in Stations])\ny3 = np.concatenate([Data[station]['Orientation_insitu'][(Data[station]['U_star_era'] >= velocity_thresholds[1])] - Dune_orientations[Stations.index(station)]\n                     for station in Stations])\n\nX = [x1, x2, x3]\nY = [y1, y2, y3]\n\n# #### Figure\npad_angle = 2\nlabels = [r'\\textbf{a}', r'\\textbf{b}', r'\\textbf{c}']\n\nfig, axarr = plt.subplots(3, 1, figsize=(theme.fig_width, 1.3*theme.fig_width),\n                          constrained_layout=True, sharex=True, sharey=True)\n\n\nfor i, (ax, label, x, y) in enumerate(zip(axarr.flatten(), labels, X, Y)):\n    plt.sca(ax)\n    plot_scatter_surrounded(x % 360, y % 360, color='tab:blue', alpha=0.2)\n    ax.set_ylabel(r'$\\theta_{\\textup{local}} - \\alpha_{\\textup{dune}}$')\n    ax.text(-0.1, 0.98, label, ha='center', va='center', transform=ax.transAxes)\n    if i in [0, 1]:\n        ax.axhline(180, color='k', linestyle='--')\n        ax.axhline(0 + pad_angle, color='k', linestyle='--')\n        ax.axhline(360 - pad_angle, color='k', linestyle='--')\n    if i in [1, 2]:\n        ax.plot([0, 360], [0, 360], 'k--')\n\nax.set_xlim(0, 360)\nax.set_ylim(0, 360)\nax.set_xlabel(r'$\\theta_{\\textup{ERA}} - \\alpha_{\\textup{dune}}$')\n\nplt.savefig(os.path.join(path_savefig, 'Figure9_supp.pdf'), dpi=400)\nplt.show()"
      ]
    }
  ],
  "metadata": {
    "kernelspec": {
      "display_name": "Python 3",
      "language": "python",
      "name": "python3"
    },
    "language_info": {
      "codemirror_mode": {
        "name": "ipython",
        "version": 3
      },
      "file_extension": ".py",
      "mimetype": "text/x-python",
      "name": "python",
      "nbconvert_exporter": "python",
      "pygments_lexer": "ipython3",
      "version": "3.9.7"
    }
  },
  "nbformat": 4,
  "nbformat_minor": 0
}