{
  "cells": [
    {
      "cell_type": "code",
      "execution_count": null,
      "metadata": {
        "collapsed": false
      },
      "outputs": [],
      "source": [
        "%matplotlib inline"
      ]
    },
    {
      "cell_type": "markdown",
      "metadata": {},
      "source": [
        "\n# Figure 12 -- SI\n"
      ]
    },
    {
      "cell_type": "code",
      "execution_count": null,
      "metadata": {
        "collapsed": false
      },
      "outputs": [],
      "source": [
        "import numpy as np\nimport matplotlib.pyplot as plt\nimport matplotlib.colors as mpcolors\nimport sys\nimport os\nsys.path.append('../../')\nimport python_codes.theme as theme\nfrom python_codes.general import smallestSignedAngleBetween, find_mode_distribution\nfrom python_codes.plot_functions import plot_regime_diagram\n\n# Loading figure theme\ntheme.load_style()\n\n# paths\npath_savefig = '../../Paper/Figures'\npath_outputdata = '../../static/processed_data/'\n\n# ##### Loading meteo data\nData = np.load(os.path.join(path_outputdata, 'Data_final.npy'), allow_pickle=True).item()\nStations = ['South_Namib_Station', 'Deep_Sea_Station']\n\n# #### Computing quantities\n\nOrientation_era = np.concatenate([Data[station]['Orientation_era'] for station in Stations])\nOrientation_insitu = np.concatenate([Data[station]['Orientation_insitu'] for station in Stations])\nU_era = np.concatenate([Data[station]['U_star_era'] for station in Stations])\nU_insitu = np.concatenate([Data[station]['U_star_insitu'] for station in Stations])\nnumbers = {key: np.concatenate([Data[station][key] for station in Stations]) for key in ('Froude', 'kH', 'kLB')}\n#\nDelta = smallestSignedAngleBetween(Orientation_era, Orientation_insitu)\nmode_delta = np.array([find_mode_distribution(Delta, i) for i in np.arange(150, 350)]).mean()\ndelta_angle = np.abs(Delta)\ndelta_u = (U_era - U_insitu)/U_era\n\n# #### Figure parameters\n\nlims = {'Froude': (5.8e-3, 450), 'kLB': (0.009, 7.5), 'kH': (2.2e-2, 10.8)}\ncmaps = [theme.cmap_delta_theta, theme.cmap_delta_u]\nnorms = [mpcolors.Normalize(vmin=0, vmax=99),\n         mpcolors.TwoSlopeNorm(vmin=-3, vcenter=0, vmax=3)]\ncbar_labels = [r'$\\delta_{\\theta}$ [deg.]', r'$\\delta_{u}$']\nquantities = [delta_angle, delta_u]\nlabels = [r'\\textbf{a}', r'\\textbf{b}', r'\\textbf{c}', r'\\textbf{d}']\n\nmask = ~np.isnan(numbers['Froude'])\nlog_counts_max = np.log10(2230)\nregime_line_color = 'tab:blue'\n\nvars = [('kLB', 'kH'), ('kLB', 'Froude')]\nax_labels = {'kH': r'$kH$', 'Froude': r'$\\mathcal{F} =  U/\\sqrt{(\\Delta\\rho/\\rho_{0}) g H}$',\n             'kLB': r'$\\mathcal{F}_{\\textup{I}} =  kU/N$'}\nxlabels = [r'$\\mathcal{F}_{\\textup{I}} =  kU/N$']\nylabels = [r'$kH$', r'$\\mathcal{F} =  U/\\sqrt{(\\Delta\\rho/\\rho) g H}$']\nlim_regime = {'kH': 0.32, 'Froude': 0.4, 'kLB': 0.35}\n\n# 3D plot\nview_point = (25, -128)\nplot_idx = np.random.permutation(np.arange(delta_angle.size))  # to plot the points of the scatter plot in random order\n\n# #### Figure\nfig, axarr = plt.subplots(2, 2, figsize=(theme.fig_width, 0.6*theme.fig_height_max),\n                          constrained_layout=True, gridspec_kw={'height_ratios': [1, 1]})\n\n# #### colorbars\nfor i, (cmap, norm) in enumerate(zip(cmaps, norms)):\n    sm = plt.cm.ScalarMappable(cmap=cmap, norm=norm)\n    cb = plt.colorbar(sm, ax=axarr[0, i], location='top')\n    cb.set_label(cbar_labels[i])\n\nfor i, (var1, var2) in enumerate(vars):\n    for j, (ax, quantity, cmap, norm) in enumerate(zip(axarr[i, :].flatten(), quantities, cmaps, norms)):\n        vars = [numbers[var1][mask], numbers[var2][mask]]\n        lims_list = [lims[var1], lims[var2]]\n        #\n        bin1 = np.logspace(np.floor(np.log10(numbers[var1][mask].min())), np.ceil(np.log10(numbers[var1][mask].max())), 50)\n        bin2 = np.logspace(np.floor(np.log10(numbers[var2][mask].min())), np.ceil(np.log10(numbers[var2][mask].max())), 50)\n        bins = [bin1, bin2]\n        xlabel = None if i < 1 else ax_labels[var1]\n        ylabel = None if j > 0 else ax_labels[var2]\n        #\n        a = plot_regime_diagram(ax, quantity[mask], vars, lims_list, xlabel, ylabel, bins=bins, norm=norm, cmap=cmap, type='binned')\n        #\n        ax.text(0.04, 0.94, labels[2*i + j], transform=ax.transAxes, ha='left', va='center')\n        #\n        # regime lines\n        ax.axvline(lim_regime[var1], color=regime_line_color, linestyle='--', lw=2)\n        ax.axhline(lim_regime[var2], color=regime_line_color, linestyle='--', lw=2)\n\nplt.savefig(os.path.join(path_savefig, 'Figure12_supp.pdf'), dpi=400)\nplt.show()"
      ]
    }
  ],
  "metadata": {
    "kernelspec": {
      "display_name": "Python 3",
      "language": "python",
      "name": "python3"
    },
    "language_info": {
      "codemirror_mode": {
        "name": "ipython",
        "version": 3
      },
      "file_extension": ".py",
      "mimetype": "text/x-python",
      "name": "python",
      "nbconvert_exporter": "python",
      "pygments_lexer": "ipython3",
      "version": "3.8.10"
    }
  },
  "nbformat": 4,
  "nbformat_minor": 0
}