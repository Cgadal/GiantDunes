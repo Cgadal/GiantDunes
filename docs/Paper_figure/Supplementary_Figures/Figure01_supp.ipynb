{
  "cells": [
    {
      "cell_type": "code",
      "execution_count": null,
      "metadata": {
        "collapsed": false
      },
      "outputs": [],
      "source": [
        "%matplotlib inline"
      ]
    },
    {
      "cell_type": "markdown",
      "metadata": {},
      "source": [
        "\n# Figure 1 -- Online Resource\n"
      ]
    },
    {
      "cell_type": "code",
      "execution_count": null,
      "metadata": {
        "collapsed": false
      },
      "outputs": [],
      "source": [
        "import os\nimport sys\nimport glob\nimport numpy as np\nimport matplotlib.pyplot as plt\nfrom PIL import Image\nsys.path.append('../../')\nimport python_codes.theme as theme\n\n# Loading figure theme\ntheme.load_style()\n\n\n# paths\npath_savefig = '../../Paper/Figures'\npath_images = '../../static/images'\n\n# images\nlist_images = sorted(glob.glob(os.path.join(path_images, '*+*')))\norder_plot = [6, 4, 5, 2, 1]\nlabels = [r'\\textbf{a}', r'\\textbf{b}', r'\\textbf{c}', r'\\textbf{d}', r'\\textbf{e}']\n\naxd = plt.figure(constrained_layout=True,\n                 figsize=(theme.fig_width, 0.7*theme.fig_height_max)).subplot_mosaic(\n    \"\"\"\n    AABB\n    CCDD\n    .EE.\n    \"\"\",\n    gridspec_kw={'height_ratios': (1, 1.2, 1)}\n)\n\nfor ax_key, i, label in zip(axd.keys(), order_plot, labels):\n    axd[ax_key].imshow(np.array(Image.open(list_images[i])))\n    axd[ax_key].set_axis_off()\n    axd[ax_key].text(0.02, 0.98, label, ha='left', va='top', transform=axd[ax_key].transAxes)\n\nplt.savefig(os.path.join(path_savefig, 'Figure1_supp.pdf'), dpi=400)\nplt.show()"
      ]
    }
  ],
  "metadata": {
    "kernelspec": {
      "display_name": "Python 3",
      "language": "python",
      "name": "python3"
    },
    "language_info": {
      "codemirror_mode": {
        "name": "ipython",
        "version": 3
      },
      "file_extension": ".py",
      "mimetype": "text/x-python",
      "name": "python",
      "nbconvert_exporter": "python",
      "pygments_lexer": "ipython3",
      "version": "3.9.7"
    }
  },
  "nbformat": 4,
  "nbformat_minor": 0
}