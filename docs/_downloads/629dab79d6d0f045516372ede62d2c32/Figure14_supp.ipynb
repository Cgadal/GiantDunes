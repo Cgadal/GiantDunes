{
  "cells": [
    {
      "cell_type": "code",
      "execution_count": null,
      "metadata": {
        "collapsed": false
      },
      "outputs": [],
      "source": [
        "%matplotlib inline"
      ]
    },
    {
      "cell_type": "markdown",
      "metadata": {},
      "source": [
        "\n# Figure 14 -- Online Resource\n"
      ]
    },
    {
      "cell_type": "code",
      "execution_count": null,
      "metadata": {
        "collapsed": false
      },
      "outputs": [],
      "source": [
        "import os\nimport sys\nimport locale\nimport calendar\nimport numpy as np\nfrom datetime import datetime, timedelta\nimport matplotlib.pyplot as plt\nimport matplotlib.dates as mdates\nfrom matplotlib.lines import Line2D\nimport matplotlib.transforms as mtransforms\nsys.path.append('../../')\nimport python_codes.theme as theme\nfrom python_codes.meteo_analysis import mu\n\nlocale.setlocale(locale.LC_ALL, 'en_US.utf8')\n\n\ndef tick_formatter(ax, fmt='%d'):\n    myFmt = mdates.DateFormatter(fmt)\n    ax.xaxis.set_major_formatter(myFmt)\n    ticklabels = ax.get_xticklabels()\n    ticklabels[0].set_ha('left')\n\n\ntheme.load_style()\n\n# paths\npath_savefig = '../../Paper/Figures'\npath_outputdata = '../../static/data/processed_data/'\n\nData = np.load(os.path.join(path_outputdata, 'Data_final.npy'), allow_pickle=True).item()\n\nStations = ['Deep_Sea_Station', 'Deep_Sea_Station', 'South_Namib_Station', 'South_Namib_Station']\nyears = [2017, 2017, 2017, 2017]\nmonths = [12, 6, 11, 5]\ndays = [(5, 8), (1, 4), (3, 6), (8, 11)]\n#\nz0_values = np.array([(1e-3, 1e-3), (1e-3, 1e-4), (1e-4, 1e-3)])\n#\nlabels = [r'\\textbf{a}', r'\\textbf{b}', r'\\textbf{c}', r'\\textbf{d}']\nbbox2 = dict(facecolor=(1, 1, 1, 0.7), edgecolor=(1, 1, 1, 0), pad=0.5)\nmonth_calendar = {index: month for index, month in enumerate(calendar.month_name) if month}\n\n\n# #### Figure\nfig, axarr = plt.subplots(2, 2, figsize=(theme.fig_width, theme.fig_width),\n                          sharey=True)\n\nfor (ax, station, yr, mth, day) in zip(axarr.flatten(), Stations, years,\n                                       months, days):\n    u_star_era = Data[station]['U_era'][:, None]/mu(Data[station]['z_ERA5LAND'],\n                                                    z0_values[:, 0][None, :])\n    u_star_station = Data[station]['U_insitu'][:, None]/mu(Data[station]['z_insitu'],\n                                                           z0_values[:, 1][None, :])\n    #\n    u_star_era = np.concatenate([Data[station]['U_star_era'][:, None], u_star_era], axis=1)\n    u_star_station = np.concatenate([Data[station]['U_star_insitu'][:, None], u_star_station], axis=1)\n    delta_u = (u_star_era - u_star_station)/u_star_era\n    #\n    tmin = datetime(yr, mth, day[0])\n    tmax = datetime(yr, mth, day[1])\n    for i, d_u in enumerate(delta_u.T):\n        ax.plot(Data[station]['time'], d_u, zorder=-i)\n    ax.set_xlim(tmin, tmax)\n    ax.set_ylim(-1.5, 1)\n    tick_formatter(ax)\n    #\n    ax.set_xlabel('Days in {} {:d}'.format(month_calendar[tmin.month], tmin.year))\n    ax.set_xticks([tmin + timedelta(days=i) for i in range((tmax-tmin).days + 1)])\n    ax.axhline(y=0, ls='--', color='k', lw=1)\n    #\n    tstart = tmin - timedelta(days=1)\n    tstart = tstart.replace(hour=10)\n    x_night = [tstart + timedelta(days=i) for i in range((tmax-tmin).days + 2)]\n    for daylight in x_night:\n        a1 = ax.axvspan(daylight, daylight + timedelta(hours=12),\n                        facecolor=theme.color_day, alpha=0.1, edgecolor=None, label=theme.Icon_day)\n        a2 = ax.axvspan(daylight - timedelta(hours=12), daylight,\n                        facecolor=theme.color_night, alpha=0.1, edgecolor=None, label=theme.Icon_night)\n    #\n\nfor ax in axarr[:, 0]:\n    ax.set_ylabel(r'$\\delta_{\\textup{u}}$')\n\ncustom_lines = [Line2D([0], [0], color='tab:blue'),\n                Line2D([0], [0], color='tab:orange'),\n                Line2D([0], [0], color='tab:green'),\n                Line2D([0], [0], color='tab:red')]\n\nfig.legend(custom_lines, ['calibrated',\n                          '$10^{-3}$, $10^{-3}$',\n                          '$10^{-2}$, $10^{-4}$',\n                          '$10^{-4}$, $10^{-2}$',\n                          ],\n           title=r'Hydrodynamic roughnesses, $\\left(z_{0}^{\\textup{ERA5-Land}}, \\, z_{0}^{\\textup{Local mes.}}\\right)$, [m]',\n           ncol=4,\n           handletextpad=0.4, columnspacing=1.5, loc='upper center')\n\ntrans = mtransforms.ScaledTranslation(5/72, -5/72, fig.dpi_scale_trans)\nfor i, (ax, label) in enumerate(zip(axarr[:2, :].flatten(), labels)):\n    ax.text(0.0, 1.0, label, transform=ax.transAxes + trans, va='top',\n            bbox=dict(alpha=0.5, facecolor='w', edgecolor='none', pad=3.0))\n\nfig.align_labels()\nplt.subplots_adjust(top=0.86, right=0.98, bottom=0.08, hspace=0.3, wspace=0.1)\nplt.savefig(os.path.join(path_savefig, 'Figure14_supp.pdf'), dpi=400)\nplt.show()"
      ]
    }
  ],
  "metadata": {
    "kernelspec": {
      "display_name": "Python 3",
      "language": "python",
      "name": "python3"
    },
    "language_info": {
      "codemirror_mode": {
        "name": "ipython",
        "version": 3
      },
      "file_extension": ".py",
      "mimetype": "text/x-python",
      "name": "python",
      "nbconvert_exporter": "python",
      "pygments_lexer": "ipython3",
      "version": "3.8.10"
    }
  },
  "nbformat": 4,
  "nbformat_minor": 0
}