{
  "cells": [
    {
      "cell_type": "code",
      "execution_count": null,
      "metadata": {
        "collapsed": false
      },
      "outputs": [],
      "source": [
        "%matplotlib inline"
      ]
    },
    {
      "cell_type": "markdown",
      "metadata": {},
      "source": [
        "\n# Figure 6\n"
      ]
    },
    {
      "cell_type": "code",
      "execution_count": null,
      "metadata": {
        "collapsed": false
      },
      "outputs": [],
      "source": [
        "import os\nimport sys\nimport numpy as np\nimport matplotlib.pyplot as plt\nsys.path.append('../')\nimport python_codes.theme as theme\nfrom python_codes.plot_functions import make_nice_histogram\n\n# Loading figure theme\ntheme.load_style()\n\n# paths\npath_imgs = '../static/images/'\npath_savefig = '../Paper/Figures'\npath_outputdata = '../static/data/processed_data'\n\n# Loading wind data\nData = np.load(os.path.join(path_outputdata, 'Data_final.npy'), allow_pickle=True).item()\nStations = sorted(Data.keys())\n\n# Figure properties\nStations = ['Deep_Sea_Station', 'South_Namib_Station']\n#\ntheta_bins_list = [[[0, 90], [150, 230]], [[0, 140], [150, 260]]]\nvelocity_bins_list = [[[0.05, 0.2], [0.3, 10]], [[0.05, 0.2], [0.3, 10]]]\nData_pattern = np.load(os.path.join(path_outputdata, 'Data_DEM.npy'), allow_pickle=True).item()\nicon = [r'\\faSun', r'\\faMoon']\nlabels = [r'\\textbf{a}', r'\\textbf{b}']\n\ncolor_ax = 'purple'\n\n# ################ Figure\nfig = plt.figure(constrained_layout=True, figsize=(theme.fig_width,\n                                                   theme.fig_height_max))\nsubfigs = fig.subfigures(2, 1, hspace=0.025)\n#\nfor (station, subfig, theta_bins,\n     velocity_bins, label) in zip(Stations, subfigs, theta_bins_list,\n                                  velocity_bins_list, labels):\n    #\n    axarr = subfig.subplots(3, 3, sharex=True)\n    #\n    for i in range(3):  # Loop over velocites\n        if i < 2:\n            mask_U = (Data[station]['U_star_era'] >= velocity_bins[i][0]) & (Data[station]['U_star_era'] <= velocity_bins[i][1])\n            label_u = r'$u_{*, \\, \\textup{ERA}} < ' + str(velocity_bins[i][1]) + '$ \\n m~s$^{-1}$' if i == 0 else r'$u_{*, \\, \\textup{ERA}} > ' + str(velocity_bins[i][0]) + '$ \\n m~s$^{-1}$'\n        else:\n            mask_U = (Data[station]['U_star_era'] < 10)  # take all velocities\n            label_u = 'all velocities'\n        axarr[i, -1].set_ylabel(label_u)\n        axarr[i, -1].yaxis.set_label_position(\"right\")\n        for j in range(3):  # loop over angles\n            if j < 2:\n                mask_theta = (Data[station]['Orientation_era'] >= theta_bins[j][0]) & (Data[station]['Orientation_era'] <= theta_bins[j][1])\n                label_theta = icon[j] + '\\n' + r'${:d}^\\circ < \\theta_{{\\textup{{ERA}}}} < {:d}^\\circ$'.format(theta_bins[j][0], theta_bins[j][-1])\n            else:\n                mask_theta = Data[station]['Orientation_era'] < 400  # take all orientations\n                label_theta = 'all angles'\n            make_nice_histogram(Data[station]['Orientation_insitu'][mask_theta & mask_U], 80, axarr[i, j], alpha=0.5, color=theme.color_insitu)\n            make_nice_histogram(Data[station]['Orientation_era'][mask_theta & mask_U], 80, axarr[i, j], alpha=0.5, color=theme.color_Era5Land)\n            #\n            axarr[i, j].axvline(Data_pattern[station]['orientation'], color=theme.color_dune_orientation, ls='--', lw=2)\n            axarr[i, j].axvline((Data_pattern[station]['orientation'] + 180) % 360, color=theme.color_dune_orientation, ls='--', lw=2)\n            #\n            perc = (mask_theta & mask_U).sum()/mask_theta.size\n            hours = np.array([t.hour for t in Data[station]['time'][(mask_theta & mask_U)]])\n            mask_day = (hours > 10) & (hours <= 10 + 12)\n            perc_day = mask_day.sum()/(mask_theta & mask_U).sum()\n            #\n            x_test = 0.98 if station == 'Deep_Sea_Station' else 0.5\n            ha = 'right'if station == 'Deep_Sea_Station' else 'center'\n            axarr[i, j].text(x_test, 0.96, '{:.1f} \\n {:.1f}'.format(perc, perc_day), ha=ha, va='top', transform=axarr[i, j].transAxes)\n            #\n            if i == 0:\n                axarr[i, j].set_xlabel(label_theta)\n                axarr[i, j].xaxis.set_label_position(\"top\")\n                if j == 1:\n                    for axis in ['top', 'bottom', 'left', 'right']:\n                        axarr[i, j].spines[axis].set_color(color_ax)\n                        axarr[i, j].spines[axis].set_linewidth(2)\n\n    plt.xlim(0, 360)\n    plt.xticks([45, 125, 215, 305])\n    for ax in axarr.flatten():\n        ax.set_yticks([])\n    subfig.supxlabel(r'Wind direction, $\\theta~[^\\circ]$')\n    subfig.supylabel('Counts')\n    subfig.text(0.01, 0.98, label, ha='left', va='center', transform=subfig.transSubfigure)\n\nplt.savefig(os.path.join(path_savefig, 'Figure6.pdf'))\nplt.show()"
      ]
    }
  ],
  "metadata": {
    "kernelspec": {
      "display_name": "Python 3",
      "language": "python",
      "name": "python3"
    },
    "language_info": {
      "codemirror_mode": {
        "name": "ipython",
        "version": 3
      },
      "file_extension": ".py",
      "mimetype": "text/x-python",
      "name": "python",
      "nbconvert_exporter": "python",
      "pygments_lexer": "ipython3",
      "version": "3.8.10"
    }
  },
  "nbformat": 4,
  "nbformat_minor": 0
}