{
  "cells": [
    {
      "cell_type": "code",
      "execution_count": null,
      "metadata": {
        "collapsed": false
      },
      "outputs": [],
      "source": [
        "%matplotlib inline"
      ]
    },
    {
      "cell_type": "markdown",
      "metadata": {},
      "source": [
        "\n# Figure 1\n"
      ]
    },
    {
      "cell_type": "code",
      "execution_count": null,
      "metadata": {
        "collapsed": false
      },
      "outputs": [],
      "source": [
        "import os\nimport sys\nimport glob\nimport numpy as np\nfrom PIL import Image\nimport matplotlib.pyplot as plt\nimport matplotlib.gridspec as gridspec\nimport matplotlib.transforms as mtransforms\nsys.path.append('../')\nimport python_codes.theme as theme\nfrom python_codes.plot_functions import north_arrow\n\n# Loading figure theme\ntheme.load_style()\n\n# paths\npath_images = '../static/images/'\npath_savefig = '../Paper/Figures'\npath_data = '../static/data/processed_data'\n\n# Loading wind data\nData = np.load(os.path.join(path_data, 'Data_final.npy'), allow_pickle=True).item()\nStations = sorted(Data.keys())\n\n# images\nlist_images = sorted(glob.glob(os.path.join(path_images, '*+*')))\norder_plot = [1, 2, 4, 6, 6]\n\n# fig properties\nbins = [0.03, 0.15, 0.2, 0.25, 0.3, 0.35, 0.4]\nlabels = ['Etosha West', 'Huab', 'North Sand Sea', 'South Sand Sea']\ncoords_stations = np.array([(-19.034111,  15.737194), (-20.874722,  13.642), (-24.125533,  15.049100), (-26.044083,  15.396972)])\nscales = [1300, 1100, 1650, 2600]\nbbox = dict(facecolor=(1, 1, 1, 0.5), edgecolor=(1, 1, 1, 0))\nbbox2 = dict(facecolor=(1, 1, 1, 0.5), edgecolor=(1, 1, 1, 0), pad=0.25)\nnumbering = [r'$\\quad$\\textbf{a}', r'\\textbf{b}', r'\\textbf{c}', r'\\textbf{d}', r'\\textbf{e}']\ncoords_insitu_pix = [(1141, 544), (881, 554), (755, 430), (772, 550)]\n\n# #### Figure\nfig = plt.figure(constrained_layout=True,\n                 figsize=(theme.fig_width, 0.66*theme.fig_height_max))\n\ngs = gridspec.GridSpec(3, 2, height_ratios=[2, 0.0001, 1.2], width_ratios=[0.875, 1],\n                       figure=fig)\n#\n# # map\nax0 = fig.add_subplot(gs[0, 0])\nMap = np.array(Image.open(os.path.join(path_images, 'Map.png')))\nax0.imshow(Map[:-104, 642:-791], extent=[12.55, 17.38, -27.27, -18.2])\nax0.set_xlabel(r'Longitude~[$^\\circ$]')\nax0.set_ylabel(r'Latitude~[$^\\circ$]')\nax0.yaxis.set_label_position('right')\nax0.yaxis.tick_right()\n#\nax0.scatter(coords_stations[:, 1], coords_stations[:, 0], s=25, color=theme.color_station_position)\nfor point, txt in zip(coords_stations, labels):\n    pad_x, pad_y = 0, 0\n    if 'Sand Sea' in txt:\n        ha, va = 'center', 'top'\n        pad_y = -0.15\n    elif txt == 'Huab':\n        ha, va = 'left', 'center'\n        pad_x = 0.15\n    else:\n        ha, va = 'right', 'center'\n        pad_x = -0.15\n    ax0.annotate(r'\\textbf{' + txt + '}', (point[1] + pad_x, point[0] + pad_y), ha=ha, va=va, color='k', bbox=bbox2)\n\n# north arrow\nrect = plt.Rectangle((0.90, 0.83), width=0.1, height=0.4, color='w', alpha=0.4,\n                     transform=ax0.transAxes)\nax0.add_patch(rect)\ncenter = np.array([0.95, 0.86])\nlength = 0.075\nnorth_arrow(ax0, center, length, width=0.9*length, transform=ax0.transAxes,\n            color='k', lw=0.05)\n\nax_list = [ax0]\n# right and bottom images\ngs_right = gs[:2, -1].subgridspec(2, 1, height_ratios=[1, 1.12])\ngs_bottom = gs[-1, :].subgridspec(1, 2)\n\naxe_pos = [gs_right[0], gs_right[1], gs_bottom[0], gs_bottom[1]]\nfor pos, img_index, num, label in zip(axe_pos, order_plot, numbering[1:], labels):\n    ax = fig.add_subplot(pos)\n    ax.imshow(np.array(Image.open(list_images[img_index])))\n    ax.set_axis_off()\n    ax.text(0.98, 0.98, label, ha='right', va='top', transform=ax.transAxes)\n    ax_list.append(ax)\n\ntrans = mtransforms.ScaledTranslation(3/72, -3/72, fig.dpi_scale_trans)\nfor label, ax in zip(numbering, ax_list):\n    if label != numbering[0]:\n        ax.text(0.0, 1.0, label, transform=ax.transAxes + trans, va='top')\n    else:\n        ax.text(0.0, 1.0, label, transform=ax.transAxes + trans, va='top',\n                bbox=dict(alpha=0.5, facecolor='w', edgecolor='none', pad=2.0))\n\nplt.savefig(os.path.join(path_savefig, 'Figure1.pdf'), dpi=400)\nplt.show()"
      ]
    }
  ],
  "metadata": {
    "kernelspec": {
      "display_name": "Python 3",
      "language": "python",
      "name": "python3"
    },
    "language_info": {
      "codemirror_mode": {
        "name": "ipython",
        "version": 3
      },
      "file_extension": ".py",
      "mimetype": "text/x-python",
      "name": "python",
      "nbconvert_exporter": "python",
      "pygments_lexer": "ipython3",
      "version": "3.8.10"
    }
  },
  "nbformat": 4,
  "nbformat_minor": 0
}