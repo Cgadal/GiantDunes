{
  "cells": [
    {
      "cell_type": "code",
      "execution_count": null,
      "metadata": {
        "collapsed": false
      },
      "outputs": [],
      "source": [
        "%matplotlib inline"
      ]
    },
    {
      "cell_type": "markdown",
      "metadata": {},
      "source": [
        "\n# Figure 9 -- Online Resource\n"
      ]
    },
    {
      "cell_type": "code",
      "execution_count": null,
      "metadata": {
        "collapsed": false
      },
      "outputs": [],
      "source": [
        "import numpy as np\nimport matplotlib.pyplot as plt\nimport sys\nimport os\nsys.path.append('../../')\nimport python_codes.theme as theme\nfrom python_codes.plot_functions import make_nice_histogram\n\n# Loading figure theme\ntheme.load_style()\n\n# paths\npath_savefig = '../../Paper/Figures'\npath_outputdata = '../../static/data/processed_data/'\n\n# Loading wind data\nData = np.load(os.path.join(path_outputdata, 'Data_final.npy'),\n               allow_pickle=True).item()\nStations = ['Huab_Station', 'Adamax_Station']\n\n# Figure properties\nvelocity_bins = [[0.05, 0.2], [0.3, 10]]\ncolor_ax = 'purple'\n\n\n# ################ Figure\nfig, axarr = plt.subplots(3, 2, figsize=(theme.fig_width, 0.925*theme.fig_width),\n                          constrained_layout=True, sharex=True)\n\nfor j, station in enumerate(Stations):\n    label_station = 'Huab' if station == 'Huab_Station' else 'Etosha West'\n    for i in range(3):  # Loop over velocites\n        if i < 2:\n            mask_U = (Data[station]['U_star_era'] >= velocity_bins[i][0]) & (Data[station]['U_star_era'] <= velocity_bins[i][1])\n            label_u = r'$u_{*, \\textup{ERA}} < ' + str(velocity_bins[i][1]) + '$' if i == 0 else r'$u_{*, \\textup{ERA}} > ' + str(velocity_bins[i][0]) + '$'\n        else:\n            mask_U = (Data[station]['U_star_era'] < 10)  # take all velocities\n            label_u = 'all velocities'\n        axarr[i, -1].set_ylabel(label_u)\n        axarr[i, -1].yaxis.set_label_position(\"right\")\n        #\n        make_nice_histogram(Data[station]['Orientation_insitu'][mask_U], 80, axarr[i, j],\n                            alpha=0.5, color=theme.color_insitu)\n        make_nice_histogram(Data[station]['Orientation_era'][mask_U], 80, axarr[i, j],\n                            alpha=0.5, color=theme.color_Era5Land)\n        #\n        #\n        perc = (mask_U).sum()/mask_U.size\n        hours = np.array([t.hour for t in Data[station]['time'][(mask_U)]])\n        mask_day = (hours > 10) & (hours <= 10 + 12)\n        perc_day = mask_day.sum()/(mask_U).sum()\n        axarr[i, j].text(0.93, 0.95, '{:.1f} \\n {:.1f}'.format(perc, perc_day),\n                         ha='center', va='top', transform=axarr[i, j].transAxes)\n        if i == 0:\n            axarr[i, j].set_xlabel(label_station)\n            axarr[i, j].xaxis.set_label_position(\"top\")\n\nplt.xlim(0, 360)\nplt.xticks([45, 125, 215, 305])\nfor ax in axarr.flatten():\n    ax.set_yticks([])\nfig.supxlabel(r'Wind direction, $\\theta~[^\\circ]$')\nfig.supylabel('Distributions')\n\nplt.savefig(os.path.join(path_savefig, 'Figure9_supp.pdf'))\nplt.show()"
      ]
    }
  ],
  "metadata": {
    "kernelspec": {
      "display_name": "Python 3",
      "language": "python",
      "name": "python3"
    },
    "language_info": {
      "codemirror_mode": {
        "name": "ipython",
        "version": 3
      },
      "file_extension": ".py",
      "mimetype": "text/x-python",
      "name": "python",
      "nbconvert_exporter": "python",
      "pygments_lexer": "ipython3",
      "version": "3.8.10"
    }
  },
  "nbformat": 4,
  "nbformat_minor": 0
}