{
  "cells": [
    {
      "cell_type": "code",
      "execution_count": null,
      "metadata": {
        "collapsed": false
      },
      "outputs": [],
      "source": [
        "%matplotlib inline"
      ]
    },
    {
      "cell_type": "markdown",
      "metadata": {},
      "source": [
        "\n# Figure 2\n"
      ]
    },
    {
      "cell_type": "code",
      "execution_count": null,
      "metadata": {
        "collapsed": false
      },
      "outputs": [],
      "source": [
        "import numpy as np\nimport matplotlib.pyplot as plt\nimport matplotlib.gridspec as gridspec\nimport matplotlib.dates as mdates\nimport calendar\nfrom datetime import datetime, timedelta\nimport sys\nimport os\nsys.path.append('../')\nimport python_codes.theme as theme\n\n\ndef tick_formatter(ax, fmt='%d'):\n    myFmt = mdates.DateFormatter(fmt)\n    ax.xaxis.set_major_formatter(myFmt)\n    ticklabels = ax.get_xticklabels()\n    ticklabels[0].set_ha('left')\n\n\n# Loading figure theme\ntheme.load_style()\n\n# path\npath_imgs = '../static/images/'\npath_savefig = '../Paper/Figures'\npath_outputdata = '../static/output_data/data/'\n\n# Loading wind data\nData = np.load(os.path.join(path_outputdata, 'Data_final.npy'), allow_pickle=True).item()\nStations = sorted(Data.keys())\n\n# Figure properties\nvariables = ['U', 'Orientation']\nlabel_var = {'U': r'Velocity, $u_{*}~[\\textup{m}~\\textup{s}^{-1}]$', 'Orientation': r'Orientation, $\\theta~[^\\circ]$'}\nlabels = [(r'\\textbf{a}', r'\\textbf{b}'), (r'\\textbf{c}', r'\\textbf{d}'), (r'\\textbf{e}', r'\\textbf{f}')]\nyear = [2018, 2017]\nmonth = [2, 12]\ndays = [(10, 17), (10, 17)]\nmonth_calendar = {index: month for index, month in enumerate(calendar.month_name) if month}\n\n\nstations_plot = ['Huab_Station', 'Deep_Sea_Station']\n\n# #### Figure\nfig = plt.figure(figsize=(theme.fig_width, 0.65*theme.fig_height_max))\n\n# grids\ngs = gridspec.GridSpec(2, 1, height_ratios=[2, 1], figure=fig)\ngs.update(left=0.12, right=0.985, bottom=0.07, top=0.95, hspace=0.3)\ngs_top = gs[0].subgridspec(1, 2, width_ratios=[1, 1], wspace=0.05)\ngs_bottom = gs[1].subgridspec(1, 2, width_ratios=[1, 1], wspace=0.3)\n\n# top grid\nfor i, station in enumerate(stations_plot):\n    tmin = datetime(year[i], month[i], days[i][0])\n    tmax = datetime(year[i], month[i], days[i][1])\n    # plots\n    gs_sub = gs_top[i].subgridspec(2, 1, height_ratios=[1, 1], hspace=0.08)\n    for j, (var, label) in enumerate(zip(variables, labels[i])):\n        ax = fig.add_subplot(gs_sub[j])\n        #\n        ax.plot(Data[station]['time'], Data[station][var + '_station'])\n        ax.plot(Data[station]['time'], Data[station][var + '_era'])\n        # label\n        ax.text(0.02, 0.93, label, ha='left', va='center', transform=ax.transAxes)\n        # axis label properties\n        ax.set_xlim(tmin, tmax)\n        tick_formatter(ax)\n        #\n        if i == 0:\n            ax.set_ylabel(label_var[var])\n        if var == 'U':\n            ax.set_xticklabels([])\n            ax.set_title(station.replace('_', ' '))\n            ax.set_ylim(0, 10)\n            if not i == 0:\n                ax.set_yticklabels([])\n        else:\n            ax.set_ylim([0, 360])\n            ax.set_yticks([0, 90, 180, 270, 360])\n            if i == 0:\n                ticklabels = ax.get_yticklabels()\n                ticklabels[-1].set_va('top')\n            else:\n                ax.set_yticklabels([])\n            ax.set_xlabel('Days in ' + month_calendar[tmin.month] + ' ' + str(tmin.year))\n\n# bottom grid\ntmin = datetime(2017, 6, 1)\ntmax = datetime(2017, 6, 4)\n\nfor i, (var, label) in enumerate(zip(variables, labels[-1])):\n    ax = fig.add_subplot(gs_bottom[i])\n    #\n    ax.plot(Data[station]['time'], Data[station][var + '_station'])\n    ax.plot(Data[station]['time'], Data[station][var + '_era'])\n    # label\n    ax.text(0.02, 0.93, label, ha='left', va='center', transform=ax.transAxes)\n    # axis label properties\n    ax.set_xlim(tmin, tmax)\n    tick_formatter(ax)\n    plt.xticks([tmin + timedelta(days=i) for i in range((tmax-tmin).days + 1)])\n    ax.set_ylabel(label_var[var])\n    if var == 'U':\n        ax.set_ylim(0, 10)\n    else:\n        ax.set_ylim([0, 360])\n        ax.set_yticks([0, 90, 180, 270, 360])\n    ax.set_xlabel('Days in ' + month_calendar[tmin.month] + ' ' + str(tmin.year))\n\n\nplt.savefig(os.path.join(path_savefig, 'Figure2.pdf'), dpi=600)\nplt.show()"
      ]
    }
  ],
  "metadata": {
    "kernelspec": {
      "display_name": "Python 3",
      "language": "python",
      "name": "python3"
    },
    "language_info": {
      "codemirror_mode": {
        "name": "ipython",
        "version": 3
      },
      "file_extension": ".py",
      "mimetype": "text/x-python",
      "name": "python",
      "nbconvert_exporter": "python",
      "pygments_lexer": "ipython3",
      "version": "3.8.10"
    }
  },
  "nbformat": 4,
  "nbformat_minor": 0
}