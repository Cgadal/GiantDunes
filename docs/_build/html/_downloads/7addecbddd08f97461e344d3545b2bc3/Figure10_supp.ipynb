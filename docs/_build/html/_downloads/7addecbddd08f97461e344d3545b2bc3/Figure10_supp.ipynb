{
  "cells": [
    {
      "cell_type": "code",
      "execution_count": null,
      "metadata": {
        "collapsed": false
      },
      "outputs": [],
      "source": [
        "%matplotlib inline"
      ]
    },
    {
      "cell_type": "markdown",
      "metadata": {},
      "source": [
        "\n# Figure 10 -- SI\n"
      ]
    },
    {
      "cell_type": "code",
      "execution_count": null,
      "metadata": {
        "collapsed": false
      },
      "outputs": [],
      "source": [
        "import numpy as np\nimport matplotlib.pyplot as plt\nimport sys\nimport os\nsys.path.append('../../')\nimport python_codes.theme as theme\nfrom python_codes.meteo_analysis import mu\nfrom python_codes.plot_functions import make_nice_histogram\n\n\n# Loading figure theme\ntheme.load_style()\n\n# path\npath_imgs = '../../static/images/'\npath_savefig = '../../Paper/Figures'\npath_outputdata = '../../static/output_data/data/'\n\n# ##### Loading meteo data\nData = np.load(os.path.join(path_outputdata, 'Data_final.npy'), allow_pickle=True).item()\n\n# ## histograms parameters\nStations = ['South_Namib_Station', 'Deep_Sea_Station']\ng = 9.81  # [m/s2] gravitational constant\nz0_era = 1e-3  # [m] hydrodynamic roughness\n#\nlabels = [r'\\textbf{a}', r'\\textbf{b}', r'\\textbf{c}', r'\\textbf{d}']\nnbins = 80\n\n# #### Figure\nfig, axarr = plt.subplots(2, 2, figsize=(theme.fig_width, 0.9*theme.fig_width),\n                          constrained_layout=True, sharey=True)\n\nfor station in Stations:\n    make_nice_histogram(Data[station]['Boundary layer height'], nbins, axarr[0, 0], alpha=0.4, label=' '.join(station.split('_')[:-1]), density=False, scale_bins='log')\n    #\n    N = np.sqrt(g*Data[station]['gradient_free_atm']/Data[station]['theta_ground'])\n    make_nice_histogram(N, nbins, axarr[0, 1], alpha=0.4, label=' '.join(station.split('_')[:-1]), density=False)\n    #\n    U_H = Data[station]['U_star_era']*mu(Data[station]['Boundary layer height'], z0_era)\n    make_nice_histogram(U_H, nbins, axarr[1, 0], alpha=0.4, label=' '.join(station.split('_')[:-1]), density=False)\n    #\n    make_nice_histogram(Data[station]['delta_theta']/Data[station]['theta_ground'], nbins, axarr[1, 1], alpha=0.4, label=' '.join(station.split('_')[:-1]), density=False)\n\n\naxarr[1, 0].set_xlim(left=0)\naxarr[1, 1].set_xlim(left=0)\n#\naxarr[0, 0].set_xlabel(r'Boundary layer height, $H~[\\textup{m}]$')\naxarr[0, 1].set_xlabel(r'Brunt-V\u00e4is\u00e4l\u00e4 frequency, $N~[\\textup{s}^{-1}]$')\naxarr[1, 0].set_xlabel(r'Wind velocity in $H$, $U~[\\textup{m}~\\textup{s}^{-1}]$')\naxarr[1, 1].set_xlabel(r'Relative density jump, $\\Delta\\rho/\\rho$')\n#\n\nfor i, (ax, label) in enumerate(zip(axarr.flatten(), labels)):\n    ax.set_ylim(0, 1700)\n    ax.text(0.03, 0.93, label, transform=ax.transAxes, va='center', ha='left')\n    ax.ticklabel_format(style='sci', axis='y', scilimits=(0, 0))\n    if i not in [1, 3]:\n        ax.set_ylabel('Counts')\n\nplt.savefig(os.path.join(path_savefig, 'Figure10_supp.pdf'))\nplt.show()"
      ]
    }
  ],
  "metadata": {
    "kernelspec": {
      "display_name": "Python 3",
      "language": "python",
      "name": "python3"
    },
    "language_info": {
      "codemirror_mode": {
        "name": "ipython",
        "version": 3
      },
      "file_extension": ".py",
      "mimetype": "text/x-python",
      "name": "python",
      "nbconvert_exporter": "python",
      "pygments_lexer": "ipython3",
      "version": "3.8.10"
    }
  },
  "nbformat": 4,
  "nbformat_minor": 0
}