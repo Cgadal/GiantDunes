{
  "cells": [
    {
      "cell_type": "code",
      "execution_count": null,
      "metadata": {
        "collapsed": false
      },
      "outputs": [],
      "source": [
        "%matplotlib inline"
      ]
    },
    {
      "cell_type": "markdown",
      "metadata": {},
      "source": [
        "\n# Figure 4 -- SI\n"
      ]
    },
    {
      "cell_type": "code",
      "execution_count": null,
      "metadata": {
        "collapsed": false
      },
      "outputs": [],
      "source": [
        "import numpy as np\nimport os\nimport matplotlib.pyplot as plt\nimport sys\nfrom types import SimpleNamespace\nsys.path.append('../../')\nimport python_codes.theme as theme\nfrom python_codes.general import cosd, sind\n\ntheme.load_style()\n\n# paths\npath_savefig = '../../Paper/Figures'\npath_outputdata = '../../static/output_data/data/'\npath_inputdata = '../../static/input_data'\n\nData_DEM = np.load(os.path.join(path_outputdata, 'Data_DEM.npy'),\n                   allow_pickle=True).item()\n\nlabels = [(r'\\textbf{a}', r'\\textbf{d}'), (r'\\textbf{b}', r'\\textbf{e}'), (r'\\textbf{c}', r'\\textbf{f}')]\n\nfig, axrr = plt.subplots(3, 2, figsize=(theme.fig_width, 0.75*theme.fig_height_max),\n                         constrained_layout=True, gridspec_kw={'width_ratios': (0.9, 1)})\nfor i, station in enumerate(Data_DEM.keys()):\n    # loading into namespace from data dictionnary to shorten call\n    n = SimpleNamespace(**Data_DEM[station])\n    # ax0: Topo\n    cs = axrr[0, i].contourf(n.lon, n.lat, n.topo, levels=50)\n    for c in cs.collections:\n        c.set_edgecolor(\"face\")\n        c.set_rasterized(True)\n    cb = fig.colorbar(cs, ax=axrr[0, i], label='$h$~[m]', location='top')\n    cb.ax.locator_params(nbins=8)\n    axrr[0, i].set_xlabel(r'longitude [$^{\\circ}$]')\n    axrr[0, i].set_ylabel(r'latitude [$^{\\circ}$]')\n    axrr[0, i].set_aspect('equal')\n    #\n    # ax1: Autocorrelation map\n    x = list(-(n.lon - n.lon[0])[:: -1]) + list((n.lon - n.lon[0])[1:])\n    y = list(-(n.lat - n.lat[0])[:: -1]) + list((n.lat - n.lat[0])[1:])\n    cs = axrr[1, i].contourf(x, y, n.C, levels=50)\n    for c in cs.collections:\n        c.set_edgecolor(\"face\")\n        c.set_rasterized(True)\n    #\n    axrr[1, i].plot([x[n.p0[0]], x[int(round(n.p1[0]))]], [y[n.p0[1]], y[int(round(n.p1[1]))]], color='tab:red', label='profile for wavelength calculation')\n    p11 = n.p0 + np.array([cosd(n.orientation), sind(n.orientation)])*min(n.topo.shape)\n    p12 = n.p0 - np.array([cosd(n.orientation), sind(n.orientation)])*min(n.topo.shape)\n    axrr[1, i].plot([x[int(round(p11[0]))], x[int(round(p12[0]))]], [y[int(round(p11[1]))], y[int(round(p12[1]))]], color='k', label='n.orientation')\n    axrr[1, i].set_xlabel(r'shift in longitude [$^{\\circ}$]')\n    axrr[1, i].set_ylabel(r'shift in latitude [$^{\\circ}$]')\n    axrr[1, i].set_aspect('equal')\n    #\n    # ax2: Autocorrelation profile\n    mytrans = axrr[2, i].transData + axrr[2, i].transAxes.inverted()\n    #\n    x_transect = np.arange(n.transect.size)*n.km_step\n    axrr[2, i].plot(x_transect, n.transect, color='tab:red')\n    axrr[2, i].plot(x_transect[n.wavelength_indx], n.transect[n.wavelength_indx], color='tab:blue', marker='.')\n    lims = axrr[2, i].get_ylim()\n    axrr[2, i].vlines(x_transect[n.wavelength_indx], lims[0], n.transect[n.wavelength_indx], color='tab:blue', linestyle='--')\n    axrr[2, i].set_xlabel('Distance along profile [km]')\n    axrr[2, i].set_ylabel('Autocorrelation~[m$^{2}$]')\n    axrr[2, i].set_xlim(0, x_transect.max())\n    axrr[2, i].set_ylim(lims)\n    #\n    axrr[0, i].text(0.05, 0.90, labels[0][i], ha='center', va='center', transform=axrr[0, i].transAxes, color='w')\n    axrr[1, i].text(0.05, 0.90, labels[1][i], ha='center', va='center', transform=axrr[1, i].transAxes, color='w')\n    axrr[2, i].text(0.05, 0.90, labels[2][i], ha='center', va='center', transform=axrr[2, i].transAxes)\n\nplt.savefig(os.path.join(path_savefig, 'Figure4_supp.pdf'), dpi=600)\nplt.show()"
      ]
    }
  ],
  "metadata": {
    "kernelspec": {
      "display_name": "Python 3",
      "language": "python",
      "name": "python3"
    },
    "language_info": {
      "codemirror_mode": {
        "name": "ipython",
        "version": 3
      },
      "file_extension": ".py",
      "mimetype": "text/x-python",
      "name": "python",
      "nbconvert_exporter": "python",
      "pygments_lexer": "ipython3",
      "version": "3.8.10"
    }
  },
  "nbformat": 4,
  "nbformat_minor": 0
}