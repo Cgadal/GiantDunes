{
  "cells": [
    {
      "cell_type": "code",
      "execution_count": null,
      "metadata": {
        "collapsed": false
      },
      "outputs": [],
      "source": [
        "%matplotlib inline"
      ]
    },
    {
      "cell_type": "markdown",
      "metadata": {},
      "source": [
        "\n# Figure 11 -- SI\n"
      ]
    },
    {
      "cell_type": "code",
      "execution_count": null,
      "metadata": {
        "collapsed": false
      },
      "outputs": [],
      "source": [
        "import numpy as np\nimport os\nimport matplotlib.pyplot as plt\nfrom matplotlib.colors import LogNorm\nimport sys\nsys.path.append('../../')\nimport python_codes.theme as theme\nfrom python_codes.plot_functions import make_nice_histogram\n\ntheme.load_style()\n\n# paths\npath_savefig = '../../Paper/Figures'\npath_outputdata = '../../static/processed_data/'\n\n# Loading data\nData = np.load(os.path.join(path_outputdata, 'Data_final.npy'), allow_pickle=True).item()\nStations = ['South_Namib_Station', 'Deep_Sea_Station']\n\nnumbers = {key: np.concatenate([Data[station][key] for station in Stations]) for key in ('Froude', 'kH', 'kLB')}\nmask = ~np.isnan(numbers['Froude'])\nad_hoc_quantity = np.concatenate([Data[station]['U_star_era'] for station in Stations])\n\n# Figure properties\ncouples = [('Froude', 'kLB'), ('Froude', 'kH'), ('kLB', 'kH')]\nlims = {'Froude': (5.8e-3, 450), 'kLB': (0.009, 7.5), 'kH': (2.2e-2, 10.8)}\n# ax_labels = {'kH': r'$kH$', 'Froude': r'$\\mathcal{F} =  U/\\sqrt{(\\Delta\\rho/\\rho) g H}$',\n# 'kLB': r'$\\mathcal{F}_{\\textup{I}} =  kU/N$'}\nax_labels = {'kH': r'$kH$', 'Froude': r'$\\mathcal{F}$',\n             'kLB': r'$\\mathcal{F}_{\\textup{I}}$'}\nnorm = LogNorm(vmin=1, vmax=1.5e3)\n\n# #### Figure\nfig, axarr = plt.subplots(4, 3, figsize=(theme.fig_width, 0.95*theme.fig_width),\n                          # constrained_layout=True,\n                          gridspec_kw={'height_ratios': [0.2, 1.3, 2, 2],\n                                       'width_ratios': [2, 2, 1]})\n# Plotting density diagrams\nax_list = [axarr[2, 0], axarr[3, 0], axarr[3, 1]]\nfor j, (ax, (var1, var2)) in enumerate(zip(ax_list, couples)):\n    ax.set_xscale('log')\n    ax.set_yscale('log')\n    #\n    x_var, y_var = numbers[var1][mask], numbers[var2][mask]\n    xlabel = ax_labels[var1]\n    ylabel = ax_labels[var2] if j == 0 else None\n    #\n    bin1 = np.logspace(np.floor(np.log10(numbers[var1][mask].min())), np.ceil(np.log10(numbers[var1][mask].max())), 50)\n    bin2 = np.logspace(np.floor(np.log10(numbers[var2][mask].min())), np.ceil(np.log10(numbers[var2][mask].max())), 50)\n    # #### binning data\n    counts, x_edge, y_edge = np.histogram2d(x_var, y_var, bins=[bin1, bin2])\n    # plotting histogramm\n    a = ax.pcolormesh(x_edge, y_edge, counts.T, snap=True, norm=norm)\n    #\n    ax.set_xlim(lims[var1])\n    ax.set_ylim(lims[var2])\n    if j in [1, 2]:\n        ax.set_xlabel(ax_labels[var1])\n    else:\n        ax.set_xticklabels([])\n    if j in [0, 1]:\n        ax.set_ylabel(ax_labels[var2])\n    else:\n        ax.set_yticklabels([])\n\n# #### Plotting marginal distributions\nfor i, (ax, var) in enumerate(zip([axarr[1, 0], axarr[2, 1], axarr[3, 2]], ['Froude', 'kLB', 'kH'])):\n    orientation = 'vertical' if i < 2 else 'horizontal'\n    make_nice_histogram(Data['South_Namib_Station'][var], 150, ax, alpha=0.4, density=False, scale_bins='log', orientation=orientation)\n    make_nice_histogram(Data['Deep_Sea_Station'][var], 150, ax, alpha=0.4, density=False, scale_bins='log', orientation=orientation)\n    if i == 2:\n        ax.set_ylim(lims[var])\n        ax.set_yticklabels([])\n        ax.set_xlabel('Counts')\n        # ax.ticklabel_format(style='sci', axis='x', scilimits=(0, 0))\n    elif i == 0:\n        ax.set_ylabel('Counts')\n        ax.set_xticklabels([])\n        ax.set_xlim(lims[var])\n        ax.ticklabel_format(style='sci', axis='y', scilimits=(0, 0))\n    elif i == 1:\n        ax.set_xticklabels([])\n        ax.set_ylabel('Counts')\n        ax.set_xlim(lims[var])\n        ax.yaxis.tick_right()\n        ax.yaxis.set_label_position('right')\n        ax.yaxis.set_ticks_position('both')\n        ax.ticklabel_format(style='sci', axis='y', scilimits=(0, 0))\n\n# remove the underlying axes for cb\ngs = axarr[0, 0].get_gridspec()\nfor ax in axarr[0, :]:\n    ax.remove()\ncax = fig.add_subplot(gs[0, :])\n#\ncb = fig.colorbar(a, cax=cax, label='Counts', orientation='horizontal')\ncb.ax.xaxis.set_ticks_position('top')\ncb.ax.xaxis.set_label_position('top')\n#\n# removing unused axes\naxarr[1, 1].remove()\naxarr[1, 2].remove()\naxarr[2, -1].remove()\n#\nplt.subplots_adjust(bottom=0.09, top=0.91, left=0.13, right=0.99, hspace=0.2, wspace=0.15)\n#\n# Adjusting final ax positions\n# cb\npos = cax.get_position()\ncb_h = pos.height\npos.y0 = 0.9\npos.y1 = pos.y0 + cb_h\ncax.set_position(pos)\n# distrib 2\nbox1 = axarr[1, 0].get_position()\npos = axarr[2, 1].get_position()\npos.y1 = pos.y0 + box1.height\naxarr[2, 1].set_position(pos)\n\nplt.savefig(os.path.join(path_savefig, 'Figure11_supp.pdf'))\nplt.show()"
      ]
    }
  ],
  "metadata": {
    "kernelspec": {
      "display_name": "Python 3",
      "language": "python",
      "name": "python3"
    },
    "language_info": {
      "codemirror_mode": {
        "name": "ipython",
        "version": 3
      },
      "file_extension": ".py",
      "mimetype": "text/x-python",
      "name": "python",
      "nbconvert_exporter": "python",
      "pygments_lexer": "ipython3",
      "version": "3.8.10"
    }
  },
  "nbformat": 4,
  "nbformat_minor": 0
}