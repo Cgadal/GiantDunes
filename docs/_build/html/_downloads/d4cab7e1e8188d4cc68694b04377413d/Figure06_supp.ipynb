{
  "cells": [
    {
      "cell_type": "code",
      "execution_count": null,
      "metadata": {
        "collapsed": false
      },
      "outputs": [],
      "source": [
        "%matplotlib inline"
      ]
    },
    {
      "cell_type": "markdown",
      "metadata": {},
      "source": [
        "\n# Figure 6 -- Online Resource\n"
      ]
    },
    {
      "cell_type": "code",
      "execution_count": null,
      "metadata": {
        "collapsed": false
      },
      "outputs": [],
      "source": [
        "import numpy as np\nimport matplotlib.pyplot as plt\nimport matplotlib.dates as mdates\nimport calendar\nimport locale\nfrom datetime import datetime, timedelta\nimport sys\nimport os\nsys.path.append('../../')\nimport python_codes.theme as theme\n\nlocale.setlocale(locale.LC_ALL, 'en_US.utf8')\n\n\ndef tick_formatter(ax, fmt='%d'):\n    myFmt = mdates.DateFormatter(fmt)\n    ax.xaxis.set_major_formatter(myFmt)\n    ticklabels = ax.get_xticklabels()\n    ticklabels[0].set_ha('left')\n\n\n# Loading figure theme\ntheme.load_style()\n\n# paths\npath_savefig = '../../Paper/Figures'\npath_outputdata = '../../static/data/processed_data/'\n\n# Loading wind data\nData = np.load(os.path.join(path_outputdata, 'Data_final.npy'), allow_pickle=True).item()\nStations = sorted(Data.keys())\n\n# Figure properties\nvariables = ['U_star', 'Orientation']\nlabel_var = {'U_star': r'Velocity, $u_{*}~[\\textup{m}~\\textup{s}^{-1}]$', 'Orientation': r'Orientation, $\\theta~[^\\circ]$'}\nlabels = [(r'\\textbf{a}', r'\\textbf{b}'), (r'\\textbf{c}', r'\\textbf{d}'),\n          (r'\\textbf{e}', r'\\textbf{f}'), (r'\\textbf{g}', r'\\textbf{h}')]\nrow_labels = ['Huab -- summer', 'Huab -- winter', 'South Sand Sea -- summer',\n              'South Sand Sea -- winter']\nyears = [2018, 2018, 2017, 2017]\nmonths = [12, 6, 11, 5]\ndays = [(3, 6), (2, 5), (3, 6), (8, 11)]\nmonth_calendar = {index: month for index, month in enumerate(calendar.month_name) if month}\n\n\nstations_plot = ['Huab_Station', 'Huab_Station', 'South_Namib_Station', 'South_Namib_Station']\n\n# #### Figure\nfig = plt.figure(figsize=(theme.fig_width, 0.93*theme.fig_height_max), constrained_layout=True)\nsubfigs = fig.subfigures(nrows=4, ncols=1)\nfor i, (subfig, yr, mth, dy, station) in enumerate(zip(subfigs, years, months, days, stations_plot)):\n    axarr = subfig.subplots(1, 2)\n    subfig.suptitle(row_labels[i])\n    subfig.set_facecolor('none')\n    tmin = datetime(yr, mth, dy[0])\n    tmax = datetime(yr, mth, dy[1])\n    for j, (ax, var, label) in enumerate(zip(axarr, variables, labels[i])):\n        l1, = ax.plot(Data[station]['time'], Data[station][var + '_insitu'], label='measurements', color=theme.color_insitu)\n        l2, = ax.plot(Data[station]['time'], Data[station][var + '_era'], label='Era5Land', color=theme.color_Era5Land)\n        ax.set_xlim(tmin, tmax)\n        tick_formatter(ax)\n        #\n        # #### plot nights\n        tstart = tmin - timedelta(days=1)\n        tstart = tstart.replace(hour=10)\n        x_night = [tstart + timedelta(days=i) for i in range((tmax-tmin).days + 2)]\n        for daylight in x_night:\n            a1 = ax.axvspan(daylight, daylight + timedelta(hours=12), facecolor=theme.color_day, alpha=0.1, edgecolor=None, label=theme.Icon_day)\n            a2 = ax.axvspan(daylight - timedelta(hours=12), daylight, facecolor=theme.color_night, alpha=0.1, edgecolor=None, label=theme.Icon_night)\n        #\n        ax.set_ylabel(label_var[var])\n        ax.set_xlabel('Days in {} {:d}'.format(month_calendar[tmin.month], tmin.year))\n        ax.set_xticks([tmin + timedelta(days=i) for i in range((tmax-tmin).days + 1)])\n        ax.text(0.02, 0.97, label, transform=ax.transAxes, ha='left', va='top')\n        if var == 'U_star':\n            ax.set_ylim((0, 0.5))\n        else:\n            ax.set_ylim((0, 360))\n            ax.set_yticks((0, 90, 180, 270, 360))\n#\n# a1.set_edgecolor((0, 0, 0, 1))\nfirst_legend = fig.legend(handles=[a1, a2], loc='center right', ncol=2, columnspacing=1, bbox_to_anchor=(1, 0.98), frameon=False)\n#\nplt.savefig(os.path.join(path_savefig, 'Figure6_supp.pdf'),)\nplt.show()"
      ]
    }
  ],
  "metadata": {
    "kernelspec": {
      "display_name": "Python 3",
      "language": "python",
      "name": "python3"
    },
    "language_info": {
      "codemirror_mode": {
        "name": "ipython",
        "version": 3
      },
      "file_extension": ".py",
      "mimetype": "text/x-python",
      "name": "python",
      "nbconvert_exporter": "python",
      "pygments_lexer": "ipython3",
      "version": "3.9.7"
    }
  },
  "nbformat": 4,
  "nbformat_minor": 0
}