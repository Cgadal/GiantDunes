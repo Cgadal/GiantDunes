{
  "cells": [
    {
      "cell_type": "code",
      "execution_count": null,
      "metadata": {
        "collapsed": false
      },
      "outputs": [],
      "source": [
        "%matplotlib inline"
      ]
    },
    {
      "cell_type": "markdown",
      "metadata": {},
      "source": [
        "\n# Figure 7 -- Online Resource\n"
      ]
    },
    {
      "cell_type": "code",
      "execution_count": null,
      "metadata": {
        "collapsed": false
      },
      "outputs": [],
      "source": [
        "import numpy as np\nimport os\nimport matplotlib.pyplot as plt\nimport sys\nsys.path.append('../../')\nimport python_codes.theme as theme\nfrom python_codes.plot_functions import plot_scatter_surrounded\n\n\ntheme.load_style()\n\n# paths\npath_savefig = '../../Paper/Figures'\npath_outputdata = '../../static/data/processed_data/'\n\nData = np.load(os.path.join(path_outputdata, 'Data_final.npy'), allow_pickle=True).item()\nlabels = [r'\\textbf{a}', r'\\textbf{b}']\n\n# preparing data\nStations_ref = ['Adamax_Station', 'Huab_Station']\n#\nTheta_ERA = np.concatenate([Data[station]['Orientation_era'] for station in Stations_ref])\nTheta_Station = np.concatenate([Data[station]['Orientation_insitu'] for station in Stations_ref])\n#\nU_ERA = np.concatenate([Data[station]['U_star_era'] for station in Stations_ref])\nU_Station = np.concatenate([Data[station]['U_star_insitu'] for station in Stations_ref])\n\n\n# #### Figure\n\nfig, axrr = plt.subplots(1, 2, figsize=(theme.fig_width, 0.5*theme.fig_width),\n                         constrained_layout=True)\n\nfor ax, label, quantity in zip(axrr, labels, [[Theta_ERA, Theta_Station], [U_ERA, U_Station]]):\n    plt.sca(ax)\n    plot_scatter_surrounded(quantity[0], quantity[1], color='tab:blue', alpha=0.1)\n    ax.plot([0, 360], [0, 360], 'k--')\n    ax.text(0.05, 0.95, label, ha='center', va='center', transform=ax.transAxes)\n\naxrr[0].set_xlim(0, 360)\naxrr[0].set_ylim(0, 360)\naxrr[0].set_xticks([0, 90, 180, 270, 360])\naxrr[0].set_yticks([0, 90, 180, 270, 360])\naxrr[0].set_xlabel(r'$\\theta_{\\textup{ERA}}$')\naxrr[0].set_ylabel(r'$\\theta_{\\textup{local}}$')\naxrr[0].set_aspect('equal')\n#\naxrr[1].set_xlim(0, 0.5)\naxrr[1].set_ylim(0, 0.5)\naxrr[1].set_xlabel(r'$u_{*, \\textup{ERA}}$')\naxrr[1].set_ylabel(r'$u_{*, \\textup{local}}$')\naxrr[1].set_aspect('equal')\n#\n\nplt.savefig(os.path.join(path_savefig, 'Figure7_supp.pdf'), dpi=400)\nplt.show()"
      ]
    }
  ],
  "metadata": {
    "kernelspec": {
      "display_name": "Python 3",
      "language": "python",
      "name": "python3"
    },
    "language_info": {
      "codemirror_mode": {
        "name": "ipython",
        "version": 3
      },
      "file_extension": ".py",
      "mimetype": "text/x-python",
      "name": "python",
      "nbconvert_exporter": "python",
      "pygments_lexer": "ipython3",
      "version": "3.9.7"
    }
  },
  "nbformat": 4,
  "nbformat_minor": 0
}