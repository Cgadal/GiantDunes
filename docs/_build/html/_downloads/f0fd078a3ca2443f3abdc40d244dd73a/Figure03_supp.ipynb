{
  "cells": [
    {
      "cell_type": "code",
      "execution_count": null,
      "metadata": {
        "collapsed": false
      },
      "outputs": [],
      "source": [
        "%matplotlib inline"
      ]
    },
    {
      "cell_type": "markdown",
      "metadata": {},
      "source": [
        "\n# Figure 3 -- SI\n"
      ]
    },
    {
      "cell_type": "code",
      "execution_count": null,
      "metadata": {
        "collapsed": false
      },
      "outputs": [],
      "source": [
        "import numpy as np\nimport os\nimport matplotlib.pyplot as plt\nfrom matplotlib.colors import Normalize\nimport sys\nsys.path.append('../../')\nimport python_codes.theme as theme\n\ntheme.load_style()\n\n# paths\npath_savefig = '../../Paper/Figures'\npath_outputdata = '../../static/output_data/data/'\npath_inputdata = '../../static/input_data'\n\nData = np.load(os.path.join(path_outputdata, 'Data_final.npy'), allow_pickle=True).item()\nData_roughness = np.load(os.path.join(path_outputdata, 'Data_calib_roughness.npy'),\n                         allow_pickle=True).item()\n\nlabels = [r'\\textbf{a}', r'\\textbf{b}', r'\\textbf{c}', r'\\textbf{d}']\nnorm = Normalize(vmin=0.3, vmax=1, clip=True)\n\n# #### Figure\nfig, axrr = plt.subplots(2, 2, figsize=(theme.fig_width, 1.1*theme.fig_width),\n                         sharex=True, sharey=True, constrained_layout=True)\n#\nfor i, (ax, p, metric, station, label) in enumerate(zip(axrr.flatten(), Data_roughness['Pvals'],\n                                                        Data_roughness['Metrics'], Data_roughness['Stations'], labels)):\n    cs = ax.contourf(Data_roughness['z0_era_vals'], Data_roughness['z0_station_vals'], metric, levels=50, norm=norm)\n    for c in cs.collections:\n        c.set_edgecolor(\"face\")\n    ax.plot(Data_roughness['z0_era_vals'], Data_roughness['z0_station_vals'], color='tab:red', label='$y=x$')\n    ax.plot(Data_roughness['z0_era_vals'], np.exp(p[1])*Data_roughness['z0_era_vals']**p[0], 'r--', label='minimum line')\n    a, = ax.plot([Data_roughness['z0_era_vals'].min(), 1e-3], [Data[station]['z0_station'], Data[station]['z0_station']], color='tab:orange')\n    ax.plot([1e-3, 1e-3], [Data_roughness['z0_station_vals'].min(), Data[station]['z0_station']], color=a.get_color())\n    ax.plot(1e-3, Data[station]['z0_station'], '.', color=a.get_color())\n    #\n    ax.text(0.07, 0.93, label, ha='center', va='center', transform=ax.transAxes)\n\n\nplt.xlim([Data_roughness['z0_era_vals'].min(), Data_roughness['z0_era_vals'].max()])\nplt.ylim([Data_roughness['z0_station_vals'].min(), Data_roughness['z0_station_vals'].max()])\nplt.gca().set_xscale('log')\nplt.gca().set_yscale('log')\nfig.supxlabel(r'Hydrodynamic roughness - ERA, $z_{0, \\textup{Era}}$ [m]')\nfig.supylabel(r'Hydrodynamic roughness - in situ, $z_{0, \\textup{in situ}}$ [m]')\n\n# colorbar\nsm = plt.cm.ScalarMappable(cmap='viridis', norm=norm)\nplt.colorbar(sm, ax=axrr, location='top', label=r'$\\delta$')\n\nplt.savefig(os.path.join(path_savefig, 'Figure3_supp.pdf'))\nplt.show()"
      ]
    }
  ],
  "metadata": {
    "kernelspec": {
      "display_name": "Python 3",
      "language": "python",
      "name": "python3"
    },
    "language_info": {
      "codemirror_mode": {
        "name": "ipython",
        "version": 3
      },
      "file_extension": ".py",
      "mimetype": "text/x-python",
      "name": "python",
      "nbconvert_exporter": "python",
      "pygments_lexer": "ipython3",
      "version": "3.8.10"
    }
  },
  "nbformat": 4,
  "nbformat_minor": 0
}