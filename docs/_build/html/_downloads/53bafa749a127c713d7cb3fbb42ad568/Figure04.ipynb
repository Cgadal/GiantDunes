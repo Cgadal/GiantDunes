{
  "cells": [
    {
      "cell_type": "code",
      "execution_count": null,
      "metadata": {
        "collapsed": false
      },
      "outputs": [],
      "source": [
        "%matplotlib inline"
      ]
    },
    {
      "cell_type": "markdown",
      "metadata": {},
      "source": [
        "\n# Figure 4\n"
      ]
    },
    {
      "cell_type": "code",
      "execution_count": null,
      "metadata": {
        "collapsed": false
      },
      "outputs": [],
      "source": [
        "import numpy as np\nimport matplotlib.pyplot as plt\nimport sys\nimport os\nsys.path.append('../')\nimport python_codes.theme as theme\nfrom python_codes.general import cosd, sind\nfrom python_codes.linear_theory import Cisaillement_basal_rotated_wind, coeffA0, coeffB0\n\n\ndef perturb(x, z, amp, lamb, shift):\n    return np.cos(2*np.pi*x/lamb)*amp*np.exp(-z/lamb) + shift\n\n\ndef plot_vertical_profile(ax, height, Virtual_potential_temperature, grad_free_atm, theta_free_atm, blh, theta_ground, Hmax_fit, color='tab:blue', label=None, alpha_pt=1):\n    Hfit = np.linspace(blh, Hmax_fit, 100)\n    #\n    line = ax.vlines(theta_ground, 0, blh/1e3, color=color, label=label, zorder=-3, lw=1)\n    ax.axhline(blh/1e3, color=color, ls='--')\n    ax.plot(np.poly1d([grad_free_atm, theta_free_atm])(Hfit), Hfit/1e3, color=line.get_color(), zorder=-2, lw=1)\n    ax.plot(Virtual_potential_temperature, height/1e3, '.', color=line.get_color(), zorder=-1, alpha=alpha_pt)\n    # ax.scatter(theta_ground, blh/1e3, s=30, facecolors=line.get_color(), edgecolors='k', linewidth=2, zorder=0)\n\n\ndef plot_streamlines(ax, z_pos, x, amp, lamb, **kwargs):\n    for z in z_pos:\n        ax.plot(x, perturb(x, z, amp, lamb, z), **kwargs)\n\n\ndef topo(x, y, alpha, k, xi):\n    return xi*np.cos(k*(cosd(alpha)*x + sind(alpha)*y))\n\n\n# Loading figure theme\ntheme.load_style()\n\n# path\npath_imgs = '../static/images/'\npath_savefig = '../Paper/Figures'\npath_outputdata = '../static/output_data/data/'\n\n# ##### Loading meteo data\nData = np.load(os.path.join(path_outputdata, 'Data_final.npy'), allow_pickle=True).item()\nStations = ['South_Namib_Station', 'Deep_Sea_Station']\n\n# #### figure parameters\n# ## sketch parameters\nflow_color = 'powderblue'\ncolor_dune = '#D2691E'\nalpha_dune = 0.2\n#\nlambda_dune = 2.5\nmult = 1\nhdune = 0.05*lambda_dune*mult\nlw_capping_layer = 3\n#\nn_dunes = 3\nxlims = [0, n_dunes*lambda_dune]\nx = np.linspace(xlims[0], xlims[1], 500)\ndunes = perturb(x, 0, hdune, lambda_dune, 0.75*hdune)\ndunes[dunes < 0] = np.nan\n#\nxmax = x.max()\npad_x = 0.05*xmax\ndz = lambda_dune/5\n\n# ## vertical profiles parameters\nstation = 'Deep_Sea_Station'\ntime_steps = [18206, 18206, 9354, 9354]\ncolors = [theme.color_day, theme.color_day, theme.color_night, theme.color_night]\nIcons = [theme.Icon_day, theme.Icon_night]\nHmax_fit = 10000  # [m]\n\nzmax = 0.4*Hmax_fit/1e3\n\n# ## labels\ntitles = [r'Day - small $u_{*}$', 'Day - large $u_{*}$', 'Night - small $u_{*}$', 'Night - large $u_{*}$']\nlabels = [r'\\textbf{a}', r'\\textbf{b}', r'\\textbf{c}', r'\\textbf{d}', r'\\textbf{e}', r'\\textbf{f}', r'\\textbf{g}']\nxlabels = [r'$k H \\gtrsim 1 \\, \\textup{and} \\, \\, \\mathcal{F} < 1$',\n           r'$k H \\gtrsim 1 \\, \\textup{and} \\, \\, \\mathcal{F} > 1$',\n           r'$k H \\lesssim 1 \\, \\textup{and} \\, \\, \\mathcal{F} < 1$',\n           r'$k H \\lesssim 1 \\, \\textup{and} \\, \\, \\mathcal{F} > 1$']\n\nprops = dict(boxstyle='square, pad=0.1', color='white', alpha=1)\n\nhours = np.array([i.hour for i in Data[station]['time']])\nmask = ~((hours > 10) & (hours < 22)) & ~np.isnan(Data[station]['Froude']) & (Data[station]['Boundary layer height'] > 500) & (Data[station]['Boundary layer height'] < 1000) & (Data[station]['delta_theta'] > 2.5) & (Data[station]['delta_theta'] < 3.5) & (Data[station]['theta_ground'] > 305) & (Data[station]['theta_ground'] < 310)\nmask = ((hours > 10) & (hours < 22)) & ~np.isnan(Data[station]['Froude']) & (Data[station]['Boundary layer height'] > 2400) & (Data[station]['Boundary layer height'] < 2800) & (Data[station]['theta_ground'] > 310) & (Data[station]['theta_ground'] < 314)\nidx = np.arange(Data[station]['Froude'].size)\n\n# #### Figure\nfig, axrr = plt.subplots(4, 3, figsize=(theme.fig_width, 1.2*theme.fig_width),\n                         constrained_layout=True,\n                         gridspec_kw={'width_ratios': [0.5, 1, 1], 'height_ratios': [1, 1, 0.005, 1.3]})\n\nfor ax in axrr[2, :]:\n    ax.set_axis_off()\n\n# #### Plot vertical profiles\nfor i, (t, ax) in enumerate(zip(time_steps[::2], axrr[:2, 0].flatten())):\n    ax.set_title(r' ')\n    ax.text(0.04, 0.96, labels[i], ha='left', va='top', transform=ax.transAxes, bbox=props)\n    ax.text(0.96, 0.96, Icons[i], ha='right', va='top', transform=ax.transAxes, bbox=props)\n    ax.set_ylim(0, top=zmax)\n    ax.set_xlim(301, 325)\n    ax.set_ylabel('Height [km]')\n    ax.set_xlabel(r'$T_{\\textup{vp}}$ [K]')\n    #\n    plot_vertical_profile(ax, Data[station]['height'][:, t], Data[station]['Virtual_potential_temperature'][:, t],\n                          Data[station]['gradient_free_atm'][t], Data[station]['theta_free_atm'][t],\n                          Data[station]['Boundary layer height'][t], Data[station]['theta_ground'][t], Hmax_fit,\n                          color=colors[2*i], alpha_pt=0.5)\n\n# #### Sketches\namplitudes = [0, 1.3, 0, 1.3]\nfor i, (t, ax) in enumerate(zip(time_steps, axrr[:2, 1:].flatten())):\n    ax.set_xticks([])\n    ax.set_yticks([])\n    ax.set_ylim(0, top=zmax)\n    ax.set_xlim(xlims)\n    # ax.set_aspect('equal')\n    # dunes\n    a, = ax.plot(x, dunes, color=color_dune)\n    ax.fill_between(x, dunes, color=a.get_color(), alpha=alpha_dune)\n    # FA\n    amp = amplitudes[i]*hdune\n    z_pos = np.arange(Data[station]['Boundary layer height'][t]/1e3, zmax, dz)\n    plot_streamlines(ax, z_pos[1:], x, 0.5*amp, lambda_dune, color=colors[i], alpha=0.5)\n    # capping layer\n    z_pos = np.arange(Data[station]['Boundary layer height'][t]/1e3, zmax, dz)\n    plot_streamlines(ax, z_pos[0:1], x, 0.5*amp, lambda_dune, color=colors[i], ls='--')\n    #\n    ax.set_xlabel(xlabels[i])\n    ax.set_title(titles[i])\n    ax.text(0.0176, 0.91, labels[i + 2], ha='left', va='center', transform=ax.transAxes, bbox=props)\n\naxrr[0, 1].annotate('', xy=[lambda_dune, 3*hdune], xytext=[2*lambda_dune, 3*hdune], transform=axrr[0, 1].transData, arrowprops=dict(arrowstyle=\"<->\", color='k', shrinkA=0, shrinkB=0))\naxrr[0, 1].text(1.5*lambda_dune + 0.03, 3*hdune + 0.4, r'$\\lambda=2\\pi/k$', ha='center', va='center')\nhflow = Data[station]['Boundary layer height'][time_steps[0]]/1e3\naxrr[0, 1].annotate('', xy=[lambda_dune/2, 0], xytext=[lambda_dune/2, hflow], transform=axrr[0, 1].transData, arrowprops=dict(arrowstyle=\"<->\", color='k', shrinkA=0, shrinkB=0))\naxrr[0, 1].text(lambda_dune/2 - 0.15, hflow/2, r'$H$', ha='right', va='center')\n\n# #### Horizontal view\n# merging axes\ngs = axrr[0, 0].get_gridspec()\nfor ax in axrr[-1, :]:\n    ax.remove()\nax = fig.add_subplot(gs[-1, :])\n\n# ## streamline parameters\nstation = Stations[1]\nData_DEM = np.load(os.path.join(path_outputdata, 'Data_DEM.npy'), allow_pickle=True).item()[station]\n\n#\nalpha = Data_DEM['orientation'] - 90  # dune orientation, degrees\nk = 1  # non dimensional wavenumber\nAR = 0.1\nskip = (slice(None, None, 50), slice(None, None, 50))\neta_0 = 2.5e-6\nbbox = dict(facecolor=(1, 1, 1, 0.9), edgecolor=(1, 1, 1, 0), pad=0.2)\n\n# horizontal space\nx = np.linspace(-12, 12, 1000)\ny = np.linspace(-3, 3, 1000)\nX, Y = np.meshgrid(x, y)\n\nTheta_list = [190, 190, 190]\nA0_list = [coeffA0(eta_0), 6, 8]\nB0_list = [coeffB0(eta_0), 2, 2.7]\n\ncnt = ax.contourf(x, y, topo(X, Y, alpha, k, AR), levels=100, vmin=-(AR + 0.06),\n                  vmax=AR + 0.02, zorder=-5, cmap=theme.cmap_topo)\nfor c in cnt.collections:\n    c.set_edgecolor(\"face\")\n    c.set_rasterized(True)\n\nfor i, (theta, A0, B0, c) in enumerate(zip(Theta_list, A0_list, B0_list, colors)):\n    TAU = Cisaillement_basal_rotated_wind(X, Y, alpha, A0, B0, AR, theta)\n    ustar = np.sqrt(np.linalg.norm(np.array(TAU), axis=0))\n    theta = np.arctan2(TAU[1], TAU[0])\n    # ax.quiver(X[skip], Y[skip], TAU[0][skip], TAU[1][skip], color='grey')\n    # strm = ax.streamplot(X, Y, TAU[0], TAU[1], color=np.sqrt(TAU[0]**2 + TAU[1]**2), cmap='inferno', density=50, start_points=[[4, 5-0.5*i]])\n    strm = ax.streamplot(X, Y, ustar*np.cos(theta), ustar*np.sin(theta), density=50, start_points=[[4, 3-0.75*i]], color='k')\n\nax.text(-6.57, 1, ' ' + labels[3] + ' ', bbox=bbox)\nax.text(-6.57, 0, ' ' + labels[2] + ', ' + labels[5] + ' ', bbox=bbox)\nax.text(-6.57, -1.5, ' ' + labels[4] + ' ', bbox=bbox)\n\ncb = fig.colorbar(cnt, label=r'Non-dimensional bed elevation $k \\xi$', ax=ax, location='top', pad=0.08)\ncb.formatter.set_powerlimits((0, 0))\ncb.update_ticks()\nax.set_xlabel('$kx$')\nax.set_ylabel('$ky$')\nax.set_aspect('equal')\nfig.text(-0.07, 1.5, labels[-1], ha='right', va='center', transform=ax.transAxes)\n\nplt.savefig(os.path.join(path_savefig, 'Figure4.pdf'))\nplt.show()"
      ]
    }
  ],
  "metadata": {
    "kernelspec": {
      "display_name": "Python 3",
      "language": "python",
      "name": "python3"
    },
    "language_info": {
      "codemirror_mode": {
        "name": "ipython",
        "version": 3
      },
      "file_extension": ".py",
      "mimetype": "text/x-python",
      "name": "python",
      "nbconvert_exporter": "python",
      "pygments_lexer": "ipython3",
      "version": "3.8.10"
    }
  },
  "nbformat": 4,
  "nbformat_minor": 0
}