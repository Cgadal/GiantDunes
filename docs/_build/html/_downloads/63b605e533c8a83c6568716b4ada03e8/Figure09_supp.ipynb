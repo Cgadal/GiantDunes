{
  "cells": [
    {
      "cell_type": "code",
      "execution_count": null,
      "metadata": {
        "collapsed": false
      },
      "outputs": [],
      "source": [
        "%matplotlib inline"
      ]
    },
    {
      "cell_type": "markdown",
      "metadata": {},
      "source": [
        "\n# Figure 9 -- SI\n"
      ]
    },
    {
      "cell_type": "code",
      "execution_count": null,
      "metadata": {
        "collapsed": false
      },
      "outputs": [],
      "source": [
        "import numpy as np\nimport os\nimport matplotlib.pyplot as plt\nimport sys\nsys.path.append('../../')\nimport python_codes.theme as theme\nfrom python_codes.plot_functions import make_nice_histogram\n\n\ndef plot_vertical_profile(ax, height, Virtual_potential_temperature, grad_free_atm, theta_free_atm, blh, theta_ground, Hmax_fit, color='tab:blue', label=None):\n    Hfit = np.linspace(blh, Hmax_fit, 100)\n    #\n    line = ax.vlines(theta_ground, 0, blh/1e3, color=color, label=label, zorder=-3)\n    ax.axhline(blh/1e3, alpha=0.5, color=color, ls='--')\n    ax.plot(np.poly1d([grad_free_atm, theta_free_atm])(Hfit), Hfit/1e3, color=line.get_color(), zorder=-2)\n    ax.plot(Virtual_potential_temperature, height/1e3, '.', color=line.get_color(), zorder=-1)\n    # ax.scatter(theta_ground, blh/1e3, s=30, facecolors=line.get_color(), edgecolors='k', linewidth=2, zorder=0)\n\n\ntheme.load_style()\n\n# paths\npath_savefig = '../../Paper/Figures'\npath_outputdata = '../../static/output_data/data/'\npath_inputdata = '../../static/input_data'\n\n# Loading data\nData = np.load(os.path.join(path_outputdata, 'Data_final.npy'), allow_pickle=True).item()\n\nlabels = [r'\\textbf{a}', r'\\textbf{b}', r'\\textbf{c}', r'\\textbf{d}']\n\n# ## vertical profiles parameters\nstation = 'Deep_Sea_Station'\ntime_steps_bad = [10856, 30266, 33463]\ntime_steps_good = [2012, 30302, 30310]\ncolors = ['tab:blue', 'tab:orange', 'tab:green']\nHmax_fit = 10000  # [m]\n\n# ## Distribution parameters\nStations = ['South_Namib_Station', 'Deep_Sea_Station']\n\nfig, axarr = plt.subplots(2, 2, figsize=(theme.fig_width, 1*theme.fig_width),\n                          constrained_layout=True, gridspec_kw={'height_ratios': [2, 1]})\n\n\n# ## well-processed vertical profiles\nfor i, t in enumerate(time_steps_good):\n    plot_vertical_profile(axarr[0, 0], Data[station]['height'][:, t], Data[station]['Virtual_potential_temperature'][:, t],\n                          Data[station]['gradient_free_atm'][t], Data[station]['theta_free_atm'][t],\n                          Data[station]['Boundary layer height'][t], Data[station]['theta_ground'][t], Hmax_fit,\n                          color=colors[i])\n\naxarr[0, 0].set_xlabel('Virtual potential temp. [K]')\naxarr[0, 0].set_ylabel('Height [km]')\naxarr[0, 0].set_ylim(0, top=0.68*Hmax_fit/1e3)\naxarr[0, 0].set_xlim(297, 328)\n# Labelling some quantities\naxarr[0, 0].text(axarr[0, 0].get_xlim()[0]-1, Data[station]['Boundary layer height'][time_steps_good[1]]/1e3, '$H$', ha='right', va='top', color='tab:orange')\naxarr[0, 0].text(Data[station]['theta_ground'][time_steps_good[1]], axarr[0, 0].get_ylim()[0]-0.15, '$T_{0}$', ha='center', va='top', color='tab:orange')\naxarr[0, 0].annotate('', xy=(313, 4), xytext=(316, 4), arrowprops=dict(arrowstyle=\"<->\", shrinkA=0, shrinkB=0, color='tab:orange'))\naxarr[0, 0].text((313 + 316)/2 - 1, 4.05, r'$\\Delta T_{\\textup{vp}}$', ha='center', va='bottom', color='tab:orange')\n\n# ## ill-processed vertical profiles\nfor i, t in enumerate(time_steps_bad):\n    plot_vertical_profile(axarr[0, 1], Data[station]['height'][:, t], Data[station]['Virtual_potential_temperature'][:, t],\n                          Data[station]['gradient_free_atm'][t], Data[station]['theta_free_atm'][t],\n                          Data[station]['Boundary layer height'][t], Data[station]['theta_ground'][t], Hmax_fit,\n                          color=colors[i])\n\naxarr[0, 1].set_xlabel('Virtual potential temp. [K]')\naxarr[0, 1].set_ylabel('Height [km]')\naxarr[0, 1].set_ylim(0, top=0.68*Hmax_fit/1e3)\naxarr[0, 1].set_xlim(297, 328)\n\n# ## hourly distributions of ill-processed vertical profiles\nfor station in Stations:\n    hr = np.array([i.hour for i in Data[station]['time']])\n    make_nice_histogram(hr[np.isnan(Data[station]['Froude'])], 24, axarr[1, 0], alpha=0.5, vmin=0, vmax=23, label=' '.join(station.split('_')[:-1]), scale_bins='lin', density=False)\naxarr[1, 0].set_xlabel('Hours of the day')\naxarr[1, 0].set_ylabel(r'Counts')\naxarr[1, 0].set_xlim(0, 23)\naxarr[1, 0].ticklabel_format(axis='y', style='sci', scilimits=(0, 1))\naxarr[1, 0].legend(loc='upper center')\n\n# ## monthly distributions of ill-processed vertical profiles\nfor station in Stations:\n    month = np.array([i.month for i in Data[station]['time']])\n    make_nice_histogram(month[np.isnan(Data[station]['Froude'])], 24, axarr[1, 1], alpha=0.5, vmin=0, vmax=23, label=' '.join(station.split('_')[:-1]), scale_bins='lin', density=False)\naxarr[1, 1].set_xlabel('Months of the year')\naxarr[1, 1].set_ylabel(r'Counts')\naxarr[1, 1].set_xlim(0, 12)\naxarr[1, 1].ticklabel_format(axis='y', style='sci', scilimits=(0, 1))\n\n# ## labelling\naxarr[0, 0].text(0.05, 0.95, labels[0], ha='center', va='center', transform=axarr[0, 0].transAxes)\naxarr[0, 1].text(0.05, 0.95, labels[1], ha='center', va='center', transform=axarr[0, 1].transAxes)\naxarr[1, 0].text(0.05, 0.92, labels[2], ha='center', va='center', transform=axarr[1, 0].transAxes)\naxarr[1, 1].text(0.05, 0.92, labels[3], ha='center', va='center', transform=axarr[1, 1].transAxes)\n\n\nplt.savefig(os.path.join(path_savefig, 'Figure9_supp.pdf'))\nplt.show()"
      ]
    }
  ],
  "metadata": {
    "kernelspec": {
      "display_name": "Python 3",
      "language": "python",
      "name": "python3"
    },
    "language_info": {
      "codemirror_mode": {
        "name": "ipython",
        "version": 3
      },
      "file_extension": ".py",
      "mimetype": "text/x-python",
      "name": "python",
      "nbconvert_exporter": "python",
      "pygments_lexer": "ipython3",
      "version": "3.8.10"
    }
  },
  "nbformat": 4,
  "nbformat_minor": 0
}