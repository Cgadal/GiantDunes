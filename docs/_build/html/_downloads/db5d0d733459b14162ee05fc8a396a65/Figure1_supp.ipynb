{
  "cells": [
    {
      "cell_type": "code",
      "execution_count": null,
      "metadata": {
        "collapsed": false
      },
      "outputs": [],
      "source": [
        "%matplotlib inline"
      ]
    },
    {
      "cell_type": "markdown",
      "metadata": {},
      "source": [
        "\n# Figure 1 -- SI\n"
      ]
    },
    {
      "cell_type": "code",
      "execution_count": null,
      "metadata": {
        "collapsed": false
      },
      "outputs": [],
      "source": [
        "import numpy as np\nimport matplotlib.pyplot as plt\nimport matplotlib.patches as mpatches\nimport sys\nimport os\nsys.path.append('../../')\nimport python_codes.theme as theme\nfrom datetime import timedelta\n#\ntheme.load_style()\n\n\ndef make_range_broken_barh(time, dt):\n    diff = np.diff(time)\n    t_diff = np.concatenate((time[1:][diff > dt_threshold], time[:-1][diff > dt_threshold]))\n    t_diff = np.insert(t_diff, [0, t_diff.size], [time[0], time[-1]])\n    t_diff = np.array(sorted(t_diff))\n    return [(tstart, tspan) for tstart, tspan in zip(t_diff[::2], np.diff(t_diff)[::2])]\n\n\n# Paths\npath_savefig = '../../Paper/Figures'\npath_inputdata = '../../static/input_data/'\n\n\nStations = ['Adamax_Station', 'Huab_Station', 'Deep_Sea_Station', 'South_Namib_Station']\ndat_types = ['Era5Land_wind_data_', 'in_situ_wind_data_']\ncolors = ['tab:blue', 'tab:orange', 'tab:red']\n\ndt_threshold = timedelta(minutes=60)\nheight_rect = 0.75\nheight_delta = 1\nheight_plot = 0\ncenters = []\n\nfig_width = theme.fig_width\nfig_height = 0.45*fig_width\nfig = plt.figure(figsize=(fig_width, fig_height), constrained_layout=True)\nfor station in Stations:\n    for i, data_type in enumerate(dat_types):\n        name = os.path.join(path_inputdata, station, data_type + station + '.npy')\n        if os.path.exists(name):\n            data = np.load(name, allow_pickle=True).item()\n            time = data['time']\n            if data_type == 'in_situ_wind_data_':\n                orientation, velocities = data['direction'], data['velocity']\n                mask = (~(np.isnan(velocities) | np.isnan(orientation))) & (velocities > 0)\n            else:\n                mask = np.ones(time.size).astype(bool)\n            xranges = make_range_broken_barh(time[mask], dt_threshold)\n            plt.broken_barh(xranges, (height_plot, height_rect), facecolor=colors[i])\n            height_plot += height_rect\n    centers.append(height_plot - height_rect)\n    height_plot += height_delta\n\nplt.xlabel('time [years]')\nplt.gca().set_yticks(centers)\nplt.gca().set_yticklabels([station[:-8].replace('_', ' ') for station in Stations])\nptch_Era5Land = mpatches.Patch(color=colors[0], label='Era5Land/Era5')\nptch_InSitu = mpatches.Patch(color=colors[1], label='In situ')\nplt.legend(handles=[ptch_Era5Land, ptch_InSitu], loc='lower left')\n\n\nplt.savefig(os.path.join(path_savefig, 'Figure1_supp.pdf'))\nplt.show()"
      ]
    }
  ],
  "metadata": {
    "kernelspec": {
      "display_name": "Python 3",
      "language": "python",
      "name": "python3"
    },
    "language_info": {
      "codemirror_mode": {
        "name": "ipython",
        "version": 3
      },
      "file_extension": ".py",
      "mimetype": "text/x-python",
      "name": "python",
      "nbconvert_exporter": "python",
      "pygments_lexer": "ipython3",
      "version": "3.8.10"
    }
  },
  "nbformat": 4,
  "nbformat_minor": 0
}