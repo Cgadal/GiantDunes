{
  "cells": [
    {
      "cell_type": "code",
      "execution_count": null,
      "metadata": {
        "collapsed": false
      },
      "outputs": [],
      "source": [
        "%matplotlib inline"
      ]
    },
    {
      "cell_type": "markdown",
      "metadata": {},
      "source": [
        "\n# Figure 1\n"
      ]
    },
    {
      "cell_type": "code",
      "execution_count": null,
      "metadata": {
        "collapsed": false
      },
      "outputs": [],
      "source": [
        "import numpy as np\nimport matplotlib.pyplot as plt\nimport matplotlib.gridspec as gridspec\nfrom matplotlib.colors import BoundaryNorm\nfrom matplotlib.patches import Rectangle\nfrom mpl_toolkits.axes_grid1.anchored_artists import AnchoredSizeBar\nimport sys\nimport os\nfrom PIL import Image\nsys.path.append('../')\nimport python_codes.theme as theme\nfrom python_codes.plot_functions import plot_wind_rose\n\n# Loading figure theme\ntheme.load_style()\n\n# path\npath_imgs = '../static/images/'\npath_savefig = '../Paper/Figures'\npath_outputdata = '../static/output_data/data/'\n\n# Loading wind data\nData = np.load(os.path.join(path_outputdata, 'Data_final.npy'), allow_pickle=True).item()\nStations = sorted(Data.keys())\n\n# fig properties\nbins = [0.03, 0.15, 0.2, 0.25, 0.3, 0.35, 0.4]\nlabels = ['Adamax', 'Huab', 'Deep Sea', 'South Namib']\ncoords_stations = np.array([(-19.034111,  15.737194), (-20.874722,  13.642), (-24.125533,  15.049100), (-26.044083,  15.396972)])\nscales = [1300, 1100, 1650, 2600]\nbbox = dict(facecolor=(1, 1, 1, 0.5), edgecolor=(1, 1, 1, 0.5))\ncolor_pt = 'tab:red'\nnumbering = [r'\\textbf{a}', r'\\textbf{b}', r'\\textbf{c}', r'\\textbf{d}', r'\\textbf{e}']\ncoords_station_pix = [(1141, 544), (881, 554), (755, 430), (772, 550)]\n\n# #### Figure\nfig = plt.figure(figsize=(theme.fig_width, 0.6*theme.fig_height_max))\ngs = gridspec.GridSpec(2, 2, height_ratios=[2.5, 1], width_ratios=[0.78, 1], figure=fig)\ngs.update(left=0, right=0.99, bottom=0.001, top=0.999, wspace=0.27, hspace=0)\n\n# map\nax0 = fig.add_subplot(gs[0, 0])\nMap = np.array(Image.open(os.path.join(path_imgs, 'Map.png')))\nax0.imshow(Map[:-104, 642:-791], extent=[12.55, 17.38, -27.27, -18.2])\nax0.set_xlabel('Longitude')\nax0.set_ylabel('Latitude')\nax0.yaxis.set_label_position('right')\nax0.yaxis.tick_right()\nax0.text(0.035, 0.976, numbering[0], transform=ax0.transAxes, ha='center', va='center', color='w')\n#\nplt.scatter(coords_stations[:, 1], coords_stations[:, 0], s=25, color=color_pt)\nfor point, txt in zip(coords_stations, labels):\n    if txt != 'Huab':\n        pad_x, pad_y = 0.05, -0.5\n        plt.gca().annotate(r'\\textbf{' + txt + '}', (point[1] + pad_x, point[0] + pad_y), ha='right', va='bottom', color='white')\n    else:\n        pad_x, pad_y = 0, -0.5\n        plt.gca().annotate(r'\\textbf{' + txt + '}', (point[1] + pad_x, point[0] + pad_y), ha='left', va='bottom', color='white')\n\n# right images\ngs_sub = gs[:, -1].subgridspec(4, 1, height_ratios=[1, 1, 1, 1], hspace=0)\nfor i, station in enumerate(['Adamax_Station', 'Huab_Station', 'Deep_Sea_Station', 'South_Namib_Station']):\n    ax = fig.add_subplot(gs_sub[i])\n    img = np.array(Image.open(os.path.join(path_imgs, station[:-8] + '.png')))\n    ax.imshow(img[:-104, :], zorder=-10)\n    ax.set_xticks([])\n    ax.set_yticks([])\n    # labels\n    ax.text(0.015, 0.08, r'\\textbf{' + labels[i] + '}', transform=ax.transAxes, ha='left', va='center', bbox=bbox, zorder=-5)\n    # scale bars\n    backgrnd = Rectangle((0.75, 0), width=0.25, height=0.2, transform=ax.transAxes, color='w', alpha=0.6)\n    ax.add_patch(backgrnd)\n    txt = r'$' + str(scales[i]) + r'~\\textup{m}$'\n    scalebar = AnchoredSizeBar(ax.transData, 384, txt, 'lower right', color='k',\n                               frameon=False, size_vertical=10, label_top=True, sep=1, pad=0.15)\n    ax.add_artist(scalebar)\n\n    # wind roses\n    axins1 = ax.inset_axes([0, 0.45, 0.3, 0.5])\n    plot_wind_rose(Data[station]['Orientation_era'], Data[station]['U_star_era'], bins, axins1, fig, label=None)\n    #\n    axins1 = ax.inset_axes([0.7, 0.45, 0.3, 0.5])\n    plot_wind_rose(Data[station]['Orientation_station'], Data[station]['U_star_station'], bins, axins1, fig, label=None)\n    #\n    # labelling\n    ax.text(0.03, 0.93, numbering[i+1], transform=ax.transAxes, ha='center', va='center', color='w')\n    # stations\n    ax.scatter(coords_station_pix[i][0], coords_station_pix[i][1], s=25, color=color_pt)\n\n# colorbar\nleft, bottom, width, height = [0.025, 0.15, 0.43, 0.025]\nax_colorbar = fig.add_axes([left, bottom, width, height])\n\nnorm = BoundaryNorm(boundaries=bins + [bins[-1] + 0.05], ncolors=256)\nsm = plt.cm.ScalarMappable(cmap='viridis', norm=norm)\ncb = fig.colorbar(sm, cax=ax_colorbar, orientation='horizontal')\ncb.set_label(r'Wind shear velocity, $u_{*}~[\\textrm{m}~\\textrm{s}^{-1}]$')\nlabels = [item.get_text() for item in cb.ax.get_xticklabels()]\nlabels[-1] = r'$\\infty$'\ncb.set_ticklabels(labels)\n\nplt.savefig(os.path.join(path_savefig, 'Figure1.pdf'), dpi=600)\nplt.show()"
      ]
    }
  ],
  "metadata": {
    "kernelspec": {
      "display_name": "Python 3",
      "language": "python",
      "name": "python3"
    },
    "language_info": {
      "codemirror_mode": {
        "name": "ipython",
        "version": 3
      },
      "file_extension": ".py",
      "mimetype": "text/x-python",
      "name": "python",
      "nbconvert_exporter": "python",
      "pygments_lexer": "ipython3",
      "version": "3.8.10"
    }
  },
  "nbformat": 4,
  "nbformat_minor": 0
}