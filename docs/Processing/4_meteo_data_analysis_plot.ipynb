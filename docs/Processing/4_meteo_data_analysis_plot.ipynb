{
  "cells": [
    {
      "cell_type": "code",
      "execution_count": null,
      "metadata": {
        "collapsed": false
      },
      "outputs": [],
      "source": [
        "%matplotlib inline"
      ]
    },
    {
      "cell_type": "markdown",
      "metadata": {},
      "source": [
        "\n# Processing the meteorological data\n"
      ]
    },
    {
      "cell_type": "code",
      "execution_count": null,
      "metadata": {
        "collapsed": false
      },
      "outputs": [],
      "source": [
        "import numpy as np\nimport os\nimport sys\nsys.path.append('../')\nimport python_codes.theme as theme\nfrom python_codes.meteo_analysis import mu\n\ntheme.load_style()\n\n# Paths\npath_savefig = '../static/output_data/figures/'\npath_outputdata = '../static/output_data/data/'\n\n# ##### Loading meteo data\nData = np.load(os.path.join(path_outputdata, 'Data_final.npy'), allow_pickle=True).item()\nStations = ['South_Namib_Station', 'Deep_Sea_Station']\n\n# ##### Loading pattern characteristics\nData_pattern = np.load(os.path.join(path_outputdata, 'Data_DEM.npy'), allow_pickle=True).item()"
      ]
    },
    {
      "cell_type": "markdown",
      "metadata": {},
      "source": [
        "## Calculating the relevant meteorological quantities\n\nWe calculate the relevant meteorological quantities from the Era5 pressure levels data.\n\n"
      ]
    },
    {
      "cell_type": "code",
      "execution_count": null,
      "metadata": {
        "collapsed": false
      },
      "outputs": [],
      "source": [
        "# Parameters\ng = 9.81  # gravitational acceleration [m2/s]\nRt = 6356766  # Average Earth radius [m]\nKelvin = 273.15  # Kelvin shift\nP0 = 1000        # Standard pressure [hPa]\nMd = 0.029       # Molecular mass of dry air [kg/mol]\nMw = 0.018       # Molecular mass of water [kg/mol]\nR_M = Md/Mw\nR = 8.314  # Gaz constant\nPc = 0.2854      # Poisson coefficient for dry air R/Cp\nz0_era = 1e-3  # hydrodynamic roughness chosen for the Era5Land dataset [m]\n\n# #### Calculating relevant meteorological quantities\nfor station in Stations:\n    Data[station]['height'] = Data[station]['Geopotential']*Rt/(g*Rt - Data[station]['Geopotential'])\n    Data[station]['Potential_temperature'] = Data[station]['Temperature']*(P0/Data[station]['Pressure levels'][:, None])**(Pc*(1 - 0.24*Data[station]['Specific humidity']))\n    Data[station]['Virtual_potential_temperature'] = (1 + (R_M - 1)*Data[station]['Specific humidity'])*Data[station]['Potential_temperature']\n    Data[station]['Density'] = (P0*Md/(R*Data[station]['Virtual_potential_temperature']))*(P0/Data[station]['Pressure levels'][:, None])**(Pc-1)"
      ]
    },
    {
      "cell_type": "markdown",
      "metadata": {},
      "source": [
        "## Analyzing the vertical profiles of virtual potential temperature\n\n"
      ]
    },
    {
      "cell_type": "code",
      "execution_count": null,
      "metadata": {
        "collapsed": false
      },
      "outputs": [],
      "source": [
        "Hmax_fit = 10000  # maximum height for fitting gradient in free atmosphere [m]\nfor station in Stations:\n    # ordering by pressure levels\n    height_sort = Data[station]['height'][Data[station]['Pressure levels'].argsort()[::-1]].data\n    Potential_temperature_sort = Data[station]['Potential_temperature'][Data[station]['Pressure levels'].argsort()[::-1]].data\n    Virtual_potential_temperature_sort = Data[station]['Virtual_potential_temperature'][Data[station]['Pressure levels'].argsort()[::-1]].data\n    Temperature_sort = Data[station]['Temperature'][Data[station]['Pressure levels'].argsort()[::-1]].data\n    Density_sort = Data[station]['Density'][Data[station]['Pressure levels'].argsort()[::-1]].data\n    #\n    BLH = Data[station]['Boundary layer height'].data\n    theta_ground = np.zeros((BLH.size,))\n    theta_free_atm = np.zeros((BLH.size,))\n    gradient_free_atm = np.zeros((BLH.size,))\n    #\n    for t, time in enumerate(Data[station]['time']):\n        mask_H = (height_sort[:, t] >= BLH[t]) & (height_sort[:, t] <= Hmax_fit)\n        gradient_free_atm[t], theta_free_atm[t] = np.polyfit(height_sort[:, t][mask_H], Virtual_potential_temperature_sort[:, t][mask_H], 1)  # fitting linear trend in the free atmosphere\n        # Computing temperature in the convective boundary layer\n        if BLH[t] >= height_sort[:, t].min():\n            theta_ground[t] = Virtual_potential_temperature_sort[:, t][(height_sort[:, t] <= BLH[t])].mean()\n        else:\n            theta_ground[t] = Virtual_potential_temperature_sort[0, t]\n    #\n    # ### temperature jump\n    delta_theta = np.array([np.poly1d([grad, theta])(blh) for (grad, theta, blh) in zip(gradient_free_atm, theta_free_atm, BLH)]) - theta_ground\n    delta_theta[delta_theta < 0] = np.nan\n    #\n    N = np.sqrt(g*gradient_free_atm/theta_ground)   # Brunt vaisala frequency\n    LB = Data[station]['U_star_era']*mu(BLH, z0_era)/N  # corresponding length scale\n    k = 2*np.pi/(Data_pattern[station]['wavelength']*1e3)\n    #\n    # Calculating relevant non-dimensional numbers\n    Data[station]['Froude'] = Data[station]['U_star_era']*mu(BLH, z0_era)/np.sqrt((delta_theta/theta_ground)*g*BLH)\n    Data[station]['kH'] = k*BLH\n    Data[station]['kLB'] = k*LB\n    #\n    # Storing other relevant quantities\n    Data[station]['delta_theta'] = delta_theta\n    Data[station]['theta_ground'] = theta_ground\n    Data[station]['theta_free_atm'] = theta_free_atm\n    Data[station]['gradient_free_atm'] = gradient_free_atm\n\n# Saving\nnp.save(os.path.join(path_outputdata, 'Data_final.npy'), Data)"
      ]
    }
  ],
  "metadata": {
    "kernelspec": {
      "display_name": "Python 3",
      "language": "python",
      "name": "python3"
    },
    "language_info": {
      "codemirror_mode": {
        "name": "ipython",
        "version": 3
      },
      "file_extension": ".py",
      "mimetype": "text/x-python",
      "name": "python",
      "nbconvert_exporter": "python",
      "pygments_lexer": "ipython3",
      "version": "3.8.10"
    }
  },
  "nbformat": 4,
  "nbformat_minor": 0
}