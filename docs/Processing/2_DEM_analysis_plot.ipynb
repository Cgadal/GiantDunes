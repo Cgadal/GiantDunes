{
  "cells": [
    {
      "cell_type": "code",
      "execution_count": null,
      "metadata": {
        "collapsed": false
      },
      "outputs": [],
      "source": [
        "%matplotlib inline"
      ]
    },
    {
      "cell_type": "markdown",
      "metadata": {},
      "source": [
        "\n# Analysis of the DEMs\n\nHere, we extract from each DEMs the average orientation, wavelength and amplitude of the dune pattern:\n\n    - we remove the general trend by fitting a second order polynomial surface.\n    - we use autocorrelation of the residual topography to extract the three relevant quantities (see :func:`python_codes.DEM_analysis.periodicity_2d` for details).\n"
      ]
    },
    {
      "cell_type": "code",
      "execution_count": null,
      "metadata": {
        "collapsed": false
      },
      "outputs": [],
      "source": [
        "import numpy as np\nimport os\nfrom geopy import distance\nimport sys\nsys.path.append('../')\nfrom python_codes.DEM_analysis import polyfit2d, periodicity_2d\nimport python_codes.theme as theme\n\ntheme.load_style()\n\n\ndef DEM_analysis(file):\n    data = np.load(file, allow_pickle=True).item()\n    # Removing large scale topo\n    kx, ky = 2, 2\n    LON, LAT = np.meshgrid(data['lon'], data['lat'])\n    soln, residuals, rank, s = polyfit2d(LON, LAT, data['DEM'], kx=kx, ky=ky, order_max=2)\n    fitted_surf = np.polynomial.polynomial.polyval2d(LON, LAT, soln.reshape((kx + 1, ky + 1)).T)\n    # Calculating average conversion deg -> km\n    x_km = np.array([distance.distance((data['lat'][0], i), (data['lat'][0], data['lon'][0]), ellipsoid='WGS-84').km for i in data['lon']])\n    y_km = np.array([distance.distance((i, data['lon'][0]), (data['lat'][0], data['lon'][0]), ellipsoid='WGS-84').km for i in data['lat']])\n    km_step = np.mean([np.diff(x_km).mean(), np.diff(y_km).mean()])\n    return *periodicity_2d(data['DEM'] - fitted_surf, 40), data['DEM'] - fitted_surf, data['lon'], data['lat'], km_step\n\n\nStations = ['Deep_Sea_Station', 'South_Namib_Station']\nData_DEM = {}\n#\n# Paths\npath_savefig = '../static/output_data/figures/'\npath_outputdata = '../static/output_data/data/'\npath_inputdata = '../static/input_data/'\n#\nfor i, station in enumerate(Stations):\n    file = os.path.join(path_inputdata, station, 'DEM_' + station + '.npy')\n    orientation, wavelength, amplitude, p0, p1, transect, C, topo, lon, lat, km_step = DEM_analysis(file)\n    Data_DEM[station] = {'orientation': orientation, 'wavelength': wavelength,\n                         'amplitude': amplitude, 'p0': p0, 'p1': p1,\n                         'transect': transect, 'C': C, 'topo': topo, 'lat': lat,\n                         'lon': lon, 'km_step': km_step}\n\nnp.save(os.path.join(path_outputdata, 'Data_DEM.npy'), Data_DEM)"
      ]
    }
  ],
  "metadata": {
    "kernelspec": {
      "display_name": "Python 3",
      "language": "python",
      "name": "python3"
    },
    "language_info": {
      "codemirror_mode": {
        "name": "ipython",
        "version": 3
      },
      "file_extension": ".py",
      "mimetype": "text/x-python",
      "name": "python",
      "nbconvert_exporter": "python",
      "pygments_lexer": "ipython3",
      "version": "3.8.10"
    }
  },
  "nbformat": 4,
  "nbformat_minor": 0
}